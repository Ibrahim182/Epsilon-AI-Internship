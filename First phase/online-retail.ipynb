{
 "cells": [
  {
   "cell_type": "markdown",
   "id": "7cd89050",
   "metadata": {
    "papermill": {
     "duration": 0.019202,
     "end_time": "2022-11-16T19:37:17.673396",
     "exception": false,
     "start_time": "2022-11-16T19:37:17.654194",
     "status": "completed"
    },
    "tags": []
   },
   "source": [
    "# Import Libraries"
   ]
  },
  {
   "cell_type": "code",
   "execution_count": 1,
   "id": "f6d66ed3",
   "metadata": {
    "execution": {
     "iopub.execute_input": "2022-11-16T19:37:17.711802Z",
     "iopub.status.busy": "2022-11-16T19:37:17.711338Z",
     "iopub.status.idle": "2022-11-16T19:37:34.351204Z",
     "shell.execute_reply": "2022-11-16T19:37:34.350310Z"
    },
    "papermill": {
     "duration": 16.662084,
     "end_time": "2022-11-16T19:37:34.353767",
     "exception": false,
     "start_time": "2022-11-16T19:37:17.691683",
     "status": "completed"
    },
    "tags": []
   },
   "outputs": [
    {
     "name": "stdout",
     "output_type": "stream",
     "text": [
      "\u001b[33mWARNING: Running pip as the 'root' user can result in broken permissions and conflicting behaviour with the system package manager. It is recommended to use a virtual environment instead: https://pip.pypa.io/warnings/venv\u001b[0m\u001b[33m\r\n",
      "\u001b[0mNote: you may need to restart the kernel to use updated packages.\n"
     ]
    }
   ],
   "source": [
    "import pandas as pd\n",
    "import seaborn as sns\n",
    "import plotly.express as px\n",
    "import numpy as np\n",
    "sns.set(rc={'figure.figsize':(8,4)})\n",
    "from sklearn.impute import SimpleImputer\n",
    "%pip install pycountry_convert -q\n",
    "import pycountry_convert as pc\n",
    "from category_encoders.binary import BinaryEncoder\n",
    "from sklearn.preprocessing import RobustScaler\n",
    "from scipy import stats\n",
    "import scipy.cluster.hierarchy as sch\n",
    "from sklearn.cluster import AgglomerativeClustering, KMeans, DBSCAN\n",
    "from sklearn.metrics import silhouette_samples, silhouette_score\n",
    "import matplotlib.pyplot as plt\n",
    "from yellowbrick.cluster import SilhouetteVisualizer\n",
    "import warnings\n",
    "warnings.filterwarnings('ignore')"
   ]
  },
  {
   "cell_type": "markdown",
   "id": "e0cbc2b3",
   "metadata": {
    "papermill": {
     "duration": 0.018093,
     "end_time": "2022-11-16T19:37:34.390822",
     "exception": false,
     "start_time": "2022-11-16T19:37:34.372729",
     "status": "completed"
    },
    "tags": []
   },
   "source": [
    "# Read and Understand data"
   ]
  },
  {
   "cell_type": "code",
   "execution_count": 2,
   "id": "b2157e10",
   "metadata": {
    "execution": {
     "iopub.execute_input": "2022-11-16T19:37:34.429980Z",
     "iopub.status.busy": "2022-11-16T19:37:34.429381Z",
     "iopub.status.idle": "2022-11-16T19:37:35.657641Z",
     "shell.execute_reply": "2022-11-16T19:37:35.656461Z"
    },
    "papermill": {
     "duration": 1.251468,
     "end_time": "2022-11-16T19:37:35.660639",
     "exception": false,
     "start_time": "2022-11-16T19:37:34.409171",
     "status": "completed"
    },
    "tags": []
   },
   "outputs": [
    {
     "data": {
      "text/html": [
       "<div>\n",
       "<style scoped>\n",
       "    .dataframe tbody tr th:only-of-type {\n",
       "        vertical-align: middle;\n",
       "    }\n",
       "\n",
       "    .dataframe tbody tr th {\n",
       "        vertical-align: top;\n",
       "    }\n",
       "\n",
       "    .dataframe thead th {\n",
       "        text-align: right;\n",
       "    }\n",
       "</style>\n",
       "<table border=\"1\" class=\"dataframe\">\n",
       "  <thead>\n",
       "    <tr style=\"text-align: right;\">\n",
       "      <th></th>\n",
       "      <th>InvoiceNo</th>\n",
       "      <th>StockCode</th>\n",
       "      <th>Description</th>\n",
       "      <th>Quantity</th>\n",
       "      <th>InvoiceDate</th>\n",
       "      <th>UnitPrice</th>\n",
       "      <th>CustomerID</th>\n",
       "      <th>Country</th>\n",
       "    </tr>\n",
       "  </thead>\n",
       "  <tbody>\n",
       "    <tr>\n",
       "      <th>0</th>\n",
       "      <td>536365</td>\n",
       "      <td>85123A</td>\n",
       "      <td>WHITE HANGING HEART T-LIGHT HOLDER</td>\n",
       "      <td>6</td>\n",
       "      <td>01-12-2010 08:26</td>\n",
       "      <td>2.55</td>\n",
       "      <td>17850.0</td>\n",
       "      <td>United Kingdom</td>\n",
       "    </tr>\n",
       "    <tr>\n",
       "      <th>1</th>\n",
       "      <td>536365</td>\n",
       "      <td>71053</td>\n",
       "      <td>WHITE METAL LANTERN</td>\n",
       "      <td>6</td>\n",
       "      <td>01-12-2010 08:26</td>\n",
       "      <td>3.39</td>\n",
       "      <td>17850.0</td>\n",
       "      <td>United Kingdom</td>\n",
       "    </tr>\n",
       "    <tr>\n",
       "      <th>2</th>\n",
       "      <td>536365</td>\n",
       "      <td>84406B</td>\n",
       "      <td>CREAM CUPID HEARTS COAT HANGER</td>\n",
       "      <td>8</td>\n",
       "      <td>01-12-2010 08:26</td>\n",
       "      <td>2.75</td>\n",
       "      <td>17850.0</td>\n",
       "      <td>United Kingdom</td>\n",
       "    </tr>\n",
       "    <tr>\n",
       "      <th>3</th>\n",
       "      <td>536365</td>\n",
       "      <td>84029G</td>\n",
       "      <td>KNITTED UNION FLAG HOT WATER BOTTLE</td>\n",
       "      <td>6</td>\n",
       "      <td>01-12-2010 08:26</td>\n",
       "      <td>3.39</td>\n",
       "      <td>17850.0</td>\n",
       "      <td>United Kingdom</td>\n",
       "    </tr>\n",
       "    <tr>\n",
       "      <th>4</th>\n",
       "      <td>536365</td>\n",
       "      <td>84029E</td>\n",
       "      <td>RED WOOLLY HOTTIE WHITE HEART.</td>\n",
       "      <td>6</td>\n",
       "      <td>01-12-2010 08:26</td>\n",
       "      <td>3.39</td>\n",
       "      <td>17850.0</td>\n",
       "      <td>United Kingdom</td>\n",
       "    </tr>\n",
       "  </tbody>\n",
       "</table>\n",
       "</div>"
      ],
      "text/plain": [
       "  InvoiceNo StockCode                          Description  Quantity  \\\n",
       "0    536365    85123A   WHITE HANGING HEART T-LIGHT HOLDER         6   \n",
       "1    536365     71053                  WHITE METAL LANTERN         6   \n",
       "2    536365    84406B       CREAM CUPID HEARTS COAT HANGER         8   \n",
       "3    536365    84029G  KNITTED UNION FLAG HOT WATER BOTTLE         6   \n",
       "4    536365    84029E       RED WOOLLY HOTTIE WHITE HEART.         6   \n",
       "\n",
       "        InvoiceDate  UnitPrice  CustomerID         Country  \n",
       "0  01-12-2010 08:26       2.55     17850.0  United Kingdom  \n",
       "1  01-12-2010 08:26       3.39     17850.0  United Kingdom  \n",
       "2  01-12-2010 08:26       2.75     17850.0  United Kingdom  \n",
       "3  01-12-2010 08:26       3.39     17850.0  United Kingdom  \n",
       "4  01-12-2010 08:26       3.39     17850.0  United Kingdom  "
      ]
     },
     "execution_count": 2,
     "metadata": {},
     "output_type": "execute_result"
    }
   ],
   "source": [
    "df = pd.read_csv('../input/online-df/OnlineRetail.csv', encoding= 'unicode_escape')\n",
    "df.head()"
   ]
  },
  {
   "cell_type": "code",
   "execution_count": 3,
   "id": "d19afc0f",
   "metadata": {
    "execution": {
     "iopub.execute_input": "2022-11-16T19:37:35.700908Z",
     "iopub.status.busy": "2022-11-16T19:37:35.700258Z",
     "iopub.status.idle": "2022-11-16T19:37:35.823042Z",
     "shell.execute_reply": "2022-11-16T19:37:35.821767Z"
    },
    "papermill": {
     "duration": 0.145426,
     "end_time": "2022-11-16T19:37:35.825130",
     "exception": false,
     "start_time": "2022-11-16T19:37:35.679704",
     "status": "completed"
    },
    "tags": []
   },
   "outputs": [
    {
     "name": "stdout",
     "output_type": "stream",
     "text": [
      "<class 'pandas.core.frame.DataFrame'>\n",
      "RangeIndex: 541909 entries, 0 to 541908\n",
      "Data columns (total 8 columns):\n",
      " #   Column       Non-Null Count   Dtype  \n",
      "---  ------       --------------   -----  \n",
      " 0   InvoiceNo    541909 non-null  object \n",
      " 1   StockCode    541909 non-null  object \n",
      " 2   Description  540455 non-null  object \n",
      " 3   Quantity     541909 non-null  int64  \n",
      " 4   InvoiceDate  541909 non-null  object \n",
      " 5   UnitPrice    541909 non-null  float64\n",
      " 6   CustomerID   406829 non-null  float64\n",
      " 7   Country      541909 non-null  object \n",
      "dtypes: float64(2), int64(1), object(5)\n",
      "memory usage: 33.1+ MB\n"
     ]
    }
   ],
   "source": [
    "df.info()"
   ]
  },
  {
   "cell_type": "markdown",
   "id": "2bccab36",
   "metadata": {
    "papermill": {
     "duration": 0.018865,
     "end_time": "2022-11-16T19:37:35.862312",
     "exception": false,
     "start_time": "2022-11-16T19:37:35.843447",
     "status": "completed"
    },
    "tags": []
   },
   "source": [
    "- InvoiceNo, StockCode are object\n",
    "- there are missing values"
   ]
  },
  {
   "cell_type": "code",
   "execution_count": 4,
   "id": "bb4b2186",
   "metadata": {
    "execution": {
     "iopub.execute_input": "2022-11-16T19:37:35.902914Z",
     "iopub.status.busy": "2022-11-16T19:37:35.902507Z",
     "iopub.status.idle": "2022-11-16T19:37:35.979322Z",
     "shell.execute_reply": "2022-11-16T19:37:35.978215Z"
    },
    "papermill": {
     "duration": 0.099467,
     "end_time": "2022-11-16T19:37:35.981454",
     "exception": false,
     "start_time": "2022-11-16T19:37:35.881987",
     "status": "completed"
    },
    "tags": []
   },
   "outputs": [
    {
     "data": {
      "text/html": [
       "<div>\n",
       "<style scoped>\n",
       "    .dataframe tbody tr th:only-of-type {\n",
       "        vertical-align: middle;\n",
       "    }\n",
       "\n",
       "    .dataframe tbody tr th {\n",
       "        vertical-align: top;\n",
       "    }\n",
       "\n",
       "    .dataframe thead th {\n",
       "        text-align: right;\n",
       "    }\n",
       "</style>\n",
       "<table border=\"1\" class=\"dataframe\">\n",
       "  <thead>\n",
       "    <tr style=\"text-align: right;\">\n",
       "      <th></th>\n",
       "      <th>count</th>\n",
       "      <th>mean</th>\n",
       "      <th>std</th>\n",
       "      <th>min</th>\n",
       "      <th>25%</th>\n",
       "      <th>50%</th>\n",
       "      <th>75%</th>\n",
       "      <th>max</th>\n",
       "    </tr>\n",
       "  </thead>\n",
       "  <tbody>\n",
       "    <tr>\n",
       "      <th>Quantity</th>\n",
       "      <td>541909.0</td>\n",
       "      <td>9.552250</td>\n",
       "      <td>218.081158</td>\n",
       "      <td>-80995.00</td>\n",
       "      <td>1.00</td>\n",
       "      <td>3.00</td>\n",
       "      <td>10.00</td>\n",
       "      <td>80995.0</td>\n",
       "    </tr>\n",
       "    <tr>\n",
       "      <th>UnitPrice</th>\n",
       "      <td>541909.0</td>\n",
       "      <td>4.611114</td>\n",
       "      <td>96.759853</td>\n",
       "      <td>-11062.06</td>\n",
       "      <td>1.25</td>\n",
       "      <td>2.08</td>\n",
       "      <td>4.13</td>\n",
       "      <td>38970.0</td>\n",
       "    </tr>\n",
       "    <tr>\n",
       "      <th>CustomerID</th>\n",
       "      <td>406829.0</td>\n",
       "      <td>15287.690570</td>\n",
       "      <td>1713.600303</td>\n",
       "      <td>12346.00</td>\n",
       "      <td>13953.00</td>\n",
       "      <td>15152.00</td>\n",
       "      <td>16791.00</td>\n",
       "      <td>18287.0</td>\n",
       "    </tr>\n",
       "  </tbody>\n",
       "</table>\n",
       "</div>"
      ],
      "text/plain": [
       "               count          mean          std       min       25%       50%  \\\n",
       "Quantity    541909.0      9.552250   218.081158 -80995.00      1.00      3.00   \n",
       "UnitPrice   541909.0      4.611114    96.759853 -11062.06      1.25      2.08   \n",
       "CustomerID  406829.0  15287.690570  1713.600303  12346.00  13953.00  15152.00   \n",
       "\n",
       "                 75%      max  \n",
       "Quantity       10.00  80995.0  \n",
       "UnitPrice       4.13  38970.0  \n",
       "CustomerID  16791.00  18287.0  "
      ]
     },
     "execution_count": 4,
     "metadata": {},
     "output_type": "execute_result"
    }
   ],
   "source": [
    "df.describe().transpose()"
   ]
  },
  {
   "cell_type": "markdown",
   "id": "de6c267f",
   "metadata": {
    "papermill": {
     "duration": 0.018365,
     "end_time": "2022-11-16T19:37:36.018430",
     "exception": false,
     "start_time": "2022-11-16T19:37:36.000065",
     "status": "completed"
    },
    "tags": []
   },
   "source": [
    "- (Quantity and UnitPrice) have negative values !! and outliers"
   ]
  },
  {
   "cell_type": "code",
   "execution_count": 5,
   "id": "d26f5f77",
   "metadata": {
    "execution": {
     "iopub.execute_input": "2022-11-16T19:37:36.057037Z",
     "iopub.status.busy": "2022-11-16T19:37:36.056698Z",
     "iopub.status.idle": "2022-11-16T19:37:36.093207Z",
     "shell.execute_reply": "2022-11-16T19:37:36.092171Z"
    },
    "papermill": {
     "duration": 0.058319,
     "end_time": "2022-11-16T19:37:36.095124",
     "exception": false,
     "start_time": "2022-11-16T19:37:36.036805",
     "status": "completed"
    },
    "tags": []
   },
   "outputs": [
    {
     "data": {
      "text/plain": [
       "573585    1114\n",
       "581219     749\n",
       "581492     731\n",
       "580729     721\n",
       "558475     705\n",
       "579777     687\n",
       "581217     676\n",
       "537434     675\n",
       "580730     662\n",
       "538071     652\n",
       "Name: InvoiceNo, dtype: int64"
      ]
     },
     "execution_count": 5,
     "metadata": {},
     "output_type": "execute_result"
    }
   ],
   "source": [
    "df['InvoiceNo'].value_counts()[:10]"
   ]
  },
  {
   "cell_type": "code",
   "execution_count": 6,
   "id": "df4e82da",
   "metadata": {
    "execution": {
     "iopub.execute_input": "2022-11-16T19:37:36.135098Z",
     "iopub.status.busy": "2022-11-16T19:37:36.134743Z",
     "iopub.status.idle": "2022-11-16T19:37:36.174751Z",
     "shell.execute_reply": "2022-11-16T19:37:36.173788Z"
    },
    "papermill": {
     "duration": 0.06259,
     "end_time": "2022-11-16T19:37:36.176686",
     "exception": false,
     "start_time": "2022-11-16T19:37:36.114096",
     "status": "completed"
    },
    "tags": []
   },
   "outputs": [
    {
     "data": {
      "text/plain": [
       "85123A    2313\n",
       "22423     2203\n",
       "85099B    2159\n",
       "47566     1727\n",
       "20725     1639\n",
       "84879     1502\n",
       "22720     1477\n",
       "22197     1476\n",
       "21212     1385\n",
       "20727     1350\n",
       "Name: StockCode, dtype: int64"
      ]
     },
     "execution_count": 6,
     "metadata": {},
     "output_type": "execute_result"
    }
   ],
   "source": [
    "df['StockCode'].value_counts()[:10]"
   ]
  },
  {
   "cell_type": "code",
   "execution_count": 7,
   "id": "a6fae553",
   "metadata": {
    "execution": {
     "iopub.execute_input": "2022-11-16T19:37:36.215347Z",
     "iopub.status.busy": "2022-11-16T19:37:36.215028Z",
     "iopub.status.idle": "2022-11-16T19:37:36.259220Z",
     "shell.execute_reply": "2022-11-16T19:37:36.258169Z"
    },
    "papermill": {
     "duration": 0.065788,
     "end_time": "2022-11-16T19:37:36.261156",
     "exception": false,
     "start_time": "2022-11-16T19:37:36.195368",
     "status": "completed"
    },
    "tags": []
   },
   "outputs": [
    {
     "data": {
      "text/plain": [
       "WHITE HANGING HEART T-LIGHT HOLDER    2369\n",
       "REGENCY CAKESTAND 3 TIER              2200\n",
       "JUMBO BAG RED RETROSPOT               2159\n",
       "PARTY BUNTING                         1727\n",
       "LUNCH BAG RED RETROSPOT               1638\n",
       "ASSORTED COLOUR BIRD ORNAMENT         1501\n",
       "SET OF 3 CAKE TINS PANTRY DESIGN      1473\n",
       "PACK OF 72 RETROSPOT CAKE CASES       1385\n",
       "LUNCH BAG  BLACK SKULL.               1350\n",
       "NATURAL SLATE HEART CHALKBOARD        1280\n",
       "Name: Description, dtype: int64"
      ]
     },
     "execution_count": 7,
     "metadata": {},
     "output_type": "execute_result"
    }
   ],
   "source": [
    "df['Description'].value_counts()[:10]"
   ]
  },
  {
   "cell_type": "code",
   "execution_count": 8,
   "id": "71e6f573",
   "metadata": {
    "execution": {
     "iopub.execute_input": "2022-11-16T19:37:36.301008Z",
     "iopub.status.busy": "2022-11-16T19:37:36.300514Z",
     "iopub.status.idle": "2022-11-16T19:37:36.314910Z",
     "shell.execute_reply": "2022-11-16T19:37:36.313968Z"
    },
    "papermill": {
     "duration": 0.036578,
     "end_time": "2022-11-16T19:37:36.316706",
     "exception": false,
     "start_time": "2022-11-16T19:37:36.280128",
     "status": "completed"
    },
    "tags": []
   },
   "outputs": [
    {
     "data": {
      "text/plain": [
       "1     148227\n",
       "2      81829\n",
       "12     61063\n",
       "6      40868\n",
       "4      38484\n",
       "3      37121\n",
       "24     24021\n",
       "10     22288\n",
       "8      13129\n",
       "5      11757\n",
       "Name: Quantity, dtype: int64"
      ]
     },
     "execution_count": 8,
     "metadata": {},
     "output_type": "execute_result"
    }
   ],
   "source": [
    "df['Quantity'].value_counts()[:10]"
   ]
  },
  {
   "cell_type": "code",
   "execution_count": 9,
   "id": "a2cf4485",
   "metadata": {
    "execution": {
     "iopub.execute_input": "2022-11-16T19:37:36.357535Z",
     "iopub.status.busy": "2022-11-16T19:37:36.356451Z",
     "iopub.status.idle": "2022-11-16T19:37:36.400434Z",
     "shell.execute_reply": "2022-11-16T19:37:36.399206Z"
    },
    "papermill": {
     "duration": 0.066199,
     "end_time": "2022-11-16T19:37:36.402338",
     "exception": false,
     "start_time": "2022-11-16T19:37:36.336139",
     "status": "completed"
    },
    "tags": []
   },
   "outputs": [
    {
     "data": {
      "text/plain": [
       "array(['United Kingdom', 'France', 'Australia', 'Netherlands', 'Germany',\n",
       "       'Norway', 'EIRE', 'Switzerland', 'Spain', 'Poland', 'Portugal',\n",
       "       'Italy', 'Belgium', 'Lithuania', 'Japan', 'Iceland',\n",
       "       'Channel Islands', 'Denmark', 'Cyprus', 'Sweden', 'Austria',\n",
       "       'Israel', 'Finland', 'Bahrain', 'Greece', 'Hong Kong', 'Singapore',\n",
       "       'Lebanon', 'United Arab Emirates', 'Saudi Arabia',\n",
       "       'Czech Republic', 'Canada', 'Unspecified', 'Brazil', 'USA',\n",
       "       'European Community', 'Malta', 'RSA'], dtype=object)"
      ]
     },
     "execution_count": 9,
     "metadata": {},
     "output_type": "execute_result"
    }
   ],
   "source": [
    "df['Country'].unique()"
   ]
  },
  {
   "cell_type": "code",
   "execution_count": 10,
   "id": "0e878e2c",
   "metadata": {
    "execution": {
     "iopub.execute_input": "2022-11-16T19:37:36.442571Z",
     "iopub.status.busy": "2022-11-16T19:37:36.442054Z",
     "iopub.status.idle": "2022-11-16T19:37:36.490908Z",
     "shell.execute_reply": "2022-11-16T19:37:36.489505Z"
    },
    "papermill": {
     "duration": 0.071419,
     "end_time": "2022-11-16T19:37:36.493092",
     "exception": false,
     "start_time": "2022-11-16T19:37:36.421673",
     "status": "completed"
    },
    "tags": []
   },
   "outputs": [],
   "source": [
    "# put right name of the country\n",
    "df.replace('Israel', 'Palestine', inplace=True)"
   ]
  },
  {
   "cell_type": "code",
   "execution_count": 11,
   "id": "29bdd58e",
   "metadata": {
    "execution": {
     "iopub.execute_input": "2022-11-16T19:37:36.533254Z",
     "iopub.status.busy": "2022-11-16T19:37:36.532883Z",
     "iopub.status.idle": "2022-11-16T19:37:36.614224Z",
     "shell.execute_reply": "2022-11-16T19:37:36.612866Z"
    },
    "papermill": {
     "duration": 0.104159,
     "end_time": "2022-11-16T19:37:36.616792",
     "exception": false,
     "start_time": "2022-11-16T19:37:36.512633",
     "status": "completed"
    },
    "tags": []
   },
   "outputs": [],
   "source": [
    "# drop useless features\n",
    "df.drop(axis=1, columns=['InvoiceNo', 'StockCode', 'CustomerID'], inplace=True)"
   ]
  },
  {
   "cell_type": "markdown",
   "id": "8f8a4e78",
   "metadata": {
    "papermill": {
     "duration": 0.018853,
     "end_time": "2022-11-16T19:37:36.655543",
     "exception": false,
     "start_time": "2022-11-16T19:37:36.636690",
     "status": "completed"
    },
    "tags": []
   },
   "source": [
    "# Preprocessing"
   ]
  },
  {
   "cell_type": "markdown",
   "id": "20e240ba",
   "metadata": {
    "papermill": {
     "duration": 0.019031,
     "end_time": "2022-11-16T19:37:36.693582",
     "exception": false,
     "start_time": "2022-11-16T19:37:36.674551",
     "status": "completed"
    },
    "tags": []
   },
   "source": [
    "### Missing values"
   ]
  },
  {
   "cell_type": "code",
   "execution_count": 12,
   "id": "e6cf2ccb",
   "metadata": {
    "execution": {
     "iopub.execute_input": "2022-11-16T19:37:36.733211Z",
     "iopub.status.busy": "2022-11-16T19:37:36.732898Z",
     "iopub.status.idle": "2022-11-16T19:37:36.797631Z",
     "shell.execute_reply": "2022-11-16T19:37:36.796654Z"
    },
    "papermill": {
     "duration": 0.087214,
     "end_time": "2022-11-16T19:37:36.800045",
     "exception": false,
     "start_time": "2022-11-16T19:37:36.712831",
     "status": "completed"
    },
    "tags": []
   },
   "outputs": [
    {
     "data": {
      "text/plain": [
       "Description    1454\n",
       "Quantity          0\n",
       "InvoiceDate       0\n",
       "UnitPrice         0\n",
       "Country           0\n",
       "dtype: int64"
      ]
     },
     "execution_count": 12,
     "metadata": {},
     "output_type": "execute_result"
    }
   ],
   "source": [
    "df.isnull().sum()"
   ]
  },
  {
   "cell_type": "code",
   "execution_count": 13,
   "id": "5d306c77",
   "metadata": {
    "execution": {
     "iopub.execute_input": "2022-11-16T19:37:36.840236Z",
     "iopub.status.busy": "2022-11-16T19:37:36.839893Z",
     "iopub.status.idle": "2022-11-16T19:37:36.911582Z",
     "shell.execute_reply": "2022-11-16T19:37:36.910408Z"
    },
    "papermill": {
     "duration": 0.094437,
     "end_time": "2022-11-16T19:37:36.914073",
     "exception": false,
     "start_time": "2022-11-16T19:37:36.819636",
     "status": "completed"
    },
    "tags": []
   },
   "outputs": [],
   "source": [
    "# drop null values in description\n",
    "df.dropna(axis=0, subset=['Description'], inplace=True)"
   ]
  },
  {
   "cell_type": "markdown",
   "id": "2559efcb",
   "metadata": {
    "papermill": {
     "duration": 0.018787,
     "end_time": "2022-11-16T19:37:36.952406",
     "exception": false,
     "start_time": "2022-11-16T19:37:36.933619",
     "status": "completed"
    },
    "tags": []
   },
   "source": [
    "### Convert negative values"
   ]
  },
  {
   "cell_type": "code",
   "execution_count": 14,
   "id": "997f2fc7",
   "metadata": {
    "execution": {
     "iopub.execute_input": "2022-11-16T19:37:36.993631Z",
     "iopub.status.busy": "2022-11-16T19:37:36.993186Z",
     "iopub.status.idle": "2022-11-16T19:37:37.000946Z",
     "shell.execute_reply": "2022-11-16T19:37:36.999965Z"
    },
    "papermill": {
     "duration": 0.031478,
     "end_time": "2022-11-16T19:37:37.003112",
     "exception": false,
     "start_time": "2022-11-16T19:37:36.971634",
     "status": "completed"
    },
    "tags": []
   },
   "outputs": [],
   "source": [
    "df['UnitPrice'] = abs(df['UnitPrice'])"
   ]
  },
  {
   "cell_type": "code",
   "execution_count": 15,
   "id": "fa77cfa7",
   "metadata": {
    "execution": {
     "iopub.execute_input": "2022-11-16T19:37:37.043842Z",
     "iopub.status.busy": "2022-11-16T19:37:37.043476Z",
     "iopub.status.idle": "2022-11-16T19:37:37.052777Z",
     "shell.execute_reply": "2022-11-16T19:37:37.051847Z"
    },
    "papermill": {
     "duration": 0.032155,
     "end_time": "2022-11-16T19:37:37.054623",
     "exception": false,
     "start_time": "2022-11-16T19:37:37.022468",
     "status": "completed"
    },
    "tags": []
   },
   "outputs": [
    {
     "data": {
      "text/html": [
       "<div>\n",
       "<style scoped>\n",
       "    .dataframe tbody tr th:only-of-type {\n",
       "        vertical-align: middle;\n",
       "    }\n",
       "\n",
       "    .dataframe tbody tr th {\n",
       "        vertical-align: top;\n",
       "    }\n",
       "\n",
       "    .dataframe thead th {\n",
       "        text-align: right;\n",
       "    }\n",
       "</style>\n",
       "<table border=\"1\" class=\"dataframe\">\n",
       "  <thead>\n",
       "    <tr style=\"text-align: right;\">\n",
       "      <th></th>\n",
       "      <th>Description</th>\n",
       "      <th>Quantity</th>\n",
       "      <th>InvoiceDate</th>\n",
       "      <th>UnitPrice</th>\n",
       "      <th>Country</th>\n",
       "    </tr>\n",
       "  </thead>\n",
       "  <tbody>\n",
       "  </tbody>\n",
       "</table>\n",
       "</div>"
      ],
      "text/plain": [
       "Empty DataFrame\n",
       "Columns: [Description, Quantity, InvoiceDate, UnitPrice, Country]\n",
       "Index: []"
      ]
     },
     "execution_count": 15,
     "metadata": {},
     "output_type": "execute_result"
    }
   ],
   "source": [
    "df[df['UnitPrice'] < 0]"
   ]
  },
  {
   "cell_type": "code",
   "execution_count": 16,
   "id": "9f8b5337",
   "metadata": {
    "execution": {
     "iopub.execute_input": "2022-11-16T19:37:37.095853Z",
     "iopub.status.busy": "2022-11-16T19:37:37.095453Z",
     "iopub.status.idle": "2022-11-16T19:37:37.101624Z",
     "shell.execute_reply": "2022-11-16T19:37:37.100763Z"
    },
    "papermill": {
     "duration": 0.028635,
     "end_time": "2022-11-16T19:37:37.103646",
     "exception": false,
     "start_time": "2022-11-16T19:37:37.075011",
     "status": "completed"
    },
    "tags": []
   },
   "outputs": [],
   "source": [
    "df['Quantity'] = abs(df['Quantity'])"
   ]
  },
  {
   "cell_type": "code",
   "execution_count": 17,
   "id": "c1a65975",
   "metadata": {
    "execution": {
     "iopub.execute_input": "2022-11-16T19:37:37.146018Z",
     "iopub.status.busy": "2022-11-16T19:37:37.145146Z",
     "iopub.status.idle": "2022-11-16T19:37:37.155685Z",
     "shell.execute_reply": "2022-11-16T19:37:37.154090Z"
    },
    "papermill": {
     "duration": 0.034517,
     "end_time": "2022-11-16T19:37:37.158202",
     "exception": false,
     "start_time": "2022-11-16T19:37:37.123685",
     "status": "completed"
    },
    "tags": []
   },
   "outputs": [
    {
     "data": {
      "text/html": [
       "<div>\n",
       "<style scoped>\n",
       "    .dataframe tbody tr th:only-of-type {\n",
       "        vertical-align: middle;\n",
       "    }\n",
       "\n",
       "    .dataframe tbody tr th {\n",
       "        vertical-align: top;\n",
       "    }\n",
       "\n",
       "    .dataframe thead th {\n",
       "        text-align: right;\n",
       "    }\n",
       "</style>\n",
       "<table border=\"1\" class=\"dataframe\">\n",
       "  <thead>\n",
       "    <tr style=\"text-align: right;\">\n",
       "      <th></th>\n",
       "      <th>Description</th>\n",
       "      <th>Quantity</th>\n",
       "      <th>InvoiceDate</th>\n",
       "      <th>UnitPrice</th>\n",
       "      <th>Country</th>\n",
       "    </tr>\n",
       "  </thead>\n",
       "  <tbody>\n",
       "  </tbody>\n",
       "</table>\n",
       "</div>"
      ],
      "text/plain": [
       "Empty DataFrame\n",
       "Columns: [Description, Quantity, InvoiceDate, UnitPrice, Country]\n",
       "Index: []"
      ]
     },
     "execution_count": 17,
     "metadata": {},
     "output_type": "execute_result"
    }
   ],
   "source": [
    "df[df['Quantity'] < 0]"
   ]
  },
  {
   "cell_type": "markdown",
   "id": "ac9c7ced",
   "metadata": {
    "papermill": {
     "duration": 0.019328,
     "end_time": "2022-11-16T19:37:37.197333",
     "exception": false,
     "start_time": "2022-11-16T19:37:37.178005",
     "status": "completed"
    },
    "tags": []
   },
   "source": [
    "### Outliers"
   ]
  },
  {
   "cell_type": "code",
   "execution_count": 18,
   "id": "75fee05f",
   "metadata": {
    "execution": {
     "iopub.execute_input": "2022-11-16T19:37:37.238683Z",
     "iopub.status.busy": "2022-11-16T19:37:37.238209Z",
     "iopub.status.idle": "2022-11-16T19:37:37.798882Z",
     "shell.execute_reply": "2022-11-16T19:37:37.797738Z"
    },
    "papermill": {
     "duration": 0.584113,
     "end_time": "2022-11-16T19:37:37.801100",
     "exception": false,
     "start_time": "2022-11-16T19:37:37.216987",
     "status": "completed"
    },
    "tags": []
   },
   "outputs": [
    {
     "data": {
      "image/png": "[encoded data removed]",
      "text/plain": [
       "<Figure size 576x396 with 1 Axes>"
      ]
     },
     "metadata": {},
     "output_type": "display_data"
    }
   ],
   "source": [
    "attributes = ['Quantity','UnitPrice']\n",
    "sns.boxplot(data = df[attributes]);"
   ]
  },
  {
   "cell_type": "code",
   "execution_count": 19,
   "id": "acd032e0",
   "metadata": {
    "execution": {
     "iopub.execute_input": "2022-11-16T19:37:37.842736Z",
     "iopub.status.busy": "2022-11-16T19:37:37.842395Z",
     "iopub.status.idle": "2022-11-16T19:37:37.849197Z",
     "shell.execute_reply": "2022-11-16T19:37:37.847664Z"
    },
    "papermill": {
     "duration": 0.029722,
     "end_time": "2022-11-16T19:37:37.851216",
     "exception": false,
     "start_time": "2022-11-16T19:37:37.821494",
     "status": "completed"
    },
    "tags": []
   },
   "outputs": [],
   "source": [
    "def get_outliers(df, col):\n",
    "    Q1, Q3 = np.percentile(df[col], [0.0, 85])\n",
    "    intr_qr = Q3-Q1\n",
    "    max = Q3+(1.5*intr_qr)\n",
    "    min = Q1-(1.5*intr_qr)\n",
    "    df.loc[df[col] < min, col] = np.nan\n",
    "    df.loc[df[col] > max, col] = np.nan\n",
    "    return df"
   ]
  },
  {
   "cell_type": "code",
   "execution_count": 20,
   "id": "1dbae467",
   "metadata": {
    "execution": {
     "iopub.execute_input": "2022-11-16T19:37:37.892827Z",
     "iopub.status.busy": "2022-11-16T19:37:37.892432Z",
     "iopub.status.idle": "2022-11-16T19:37:37.905398Z",
     "shell.execute_reply": "2022-11-16T19:37:37.904460Z"
    },
    "papermill": {
     "duration": 0.035991,
     "end_time": "2022-11-16T19:37:37.907402",
     "exception": false,
     "start_time": "2022-11-16T19:37:37.871411",
     "status": "completed"
    },
    "tags": []
   },
   "outputs": [],
   "source": [
    "df = get_outliers(df, 'Quantity')"
   ]
  },
  {
   "cell_type": "code",
   "execution_count": 21,
   "id": "893e2d13",
   "metadata": {
    "execution": {
     "iopub.execute_input": "2022-11-16T19:37:37.949620Z",
     "iopub.status.busy": "2022-11-16T19:37:37.949231Z",
     "iopub.status.idle": "2022-11-16T19:37:37.964614Z",
     "shell.execute_reply": "2022-11-16T19:37:37.963275Z"
    },
    "papermill": {
     "duration": 0.039807,
     "end_time": "2022-11-16T19:37:37.967046",
     "exception": false,
     "start_time": "2022-11-16T19:37:37.927239",
     "status": "completed"
    },
    "tags": []
   },
   "outputs": [],
   "source": [
    "df = get_outliers(df, 'UnitPrice')"
   ]
  },
  {
   "cell_type": "code",
   "execution_count": 22,
   "id": "dcc78b81",
   "metadata": {
    "execution": {
     "iopub.execute_input": "2022-11-16T19:37:38.007735Z",
     "iopub.status.busy": "2022-11-16T19:37:38.007378Z",
     "iopub.status.idle": "2022-11-16T19:37:38.071701Z",
     "shell.execute_reply": "2022-11-16T19:37:38.071039Z"
    },
    "papermill": {
     "duration": 0.086556,
     "end_time": "2022-11-16T19:37:38.073331",
     "exception": false,
     "start_time": "2022-11-16T19:37:37.986775",
     "status": "completed"
    },
    "tags": []
   },
   "outputs": [
    {
     "data": {
      "text/plain": [
       "Description        0\n",
       "Quantity       27875\n",
       "InvoiceDate        0\n",
       "UnitPrice      11614\n",
       "Country            0\n",
       "dtype: int64"
      ]
     },
     "execution_count": 22,
     "metadata": {},
     "output_type": "execute_result"
    }
   ],
   "source": [
    "df.isnull().sum()"
   ]
  },
  {
   "cell_type": "markdown",
   "id": "3e0411ea",
   "metadata": {
    "papermill": {
     "duration": 0.019616,
     "end_time": "2022-11-16T19:37:38.113137",
     "exception": false,
     "start_time": "2022-11-16T19:37:38.093521",
     "status": "completed"
    },
    "tags": []
   },
   "source": [
    "## fillna"
   ]
  },
  {
   "cell_type": "code",
   "execution_count": 23,
   "id": "5f1948e4",
   "metadata": {
    "execution": {
     "iopub.execute_input": "2022-11-16T19:37:38.154555Z",
     "iopub.status.busy": "2022-11-16T19:37:38.154204Z",
     "iopub.status.idle": "2022-11-16T19:37:38.182018Z",
     "shell.execute_reply": "2022-11-16T19:37:38.181104Z"
    },
    "papermill": {
     "duration": 0.051725,
     "end_time": "2022-11-16T19:37:38.184694",
     "exception": false,
     "start_time": "2022-11-16T19:37:38.132969",
     "status": "completed"
    },
    "tags": []
   },
   "outputs": [],
   "source": [
    "imputer = SimpleImputer(strategy='mean')\n",
    "df[['Quantity', 'UnitPrice']] = imputer.fit_transform(df[['Quantity', 'UnitPrice']])"
   ]
  },
  {
   "cell_type": "code",
   "execution_count": 24,
   "id": "bfdaab14",
   "metadata": {
    "execution": {
     "iopub.execute_input": "2022-11-16T19:37:38.226818Z",
     "iopub.status.busy": "2022-11-16T19:37:38.226443Z",
     "iopub.status.idle": "2022-11-16T19:37:38.239120Z",
     "shell.execute_reply": "2022-11-16T19:37:38.238075Z"
    },
    "papermill": {
     "duration": 0.036107,
     "end_time": "2022-11-16T19:37:38.241092",
     "exception": false,
     "start_time": "2022-11-16T19:37:38.204985",
     "status": "completed"
    },
    "tags": []
   },
   "outputs": [
    {
     "data": {
      "text/html": [
       "<div>\n",
       "<style scoped>\n",
       "    .dataframe tbody tr th:only-of-type {\n",
       "        vertical-align: middle;\n",
       "    }\n",
       "\n",
       "    .dataframe tbody tr th {\n",
       "        vertical-align: top;\n",
       "    }\n",
       "\n",
       "    .dataframe thead th {\n",
       "        text-align: right;\n",
       "    }\n",
       "</style>\n",
       "<table border=\"1\" class=\"dataframe\">\n",
       "  <thead>\n",
       "    <tr style=\"text-align: right;\">\n",
       "      <th></th>\n",
       "      <th>Description</th>\n",
       "      <th>Quantity</th>\n",
       "      <th>InvoiceDate</th>\n",
       "      <th>UnitPrice</th>\n",
       "      <th>Country</th>\n",
       "    </tr>\n",
       "  </thead>\n",
       "  <tbody>\n",
       "    <tr>\n",
       "      <th>0</th>\n",
       "      <td>WHITE HANGING HEART T-LIGHT HOLDER</td>\n",
       "      <td>6.0</td>\n",
       "      <td>01-12-2010 08:26</td>\n",
       "      <td>2.55</td>\n",
       "      <td>United Kingdom</td>\n",
       "    </tr>\n",
       "    <tr>\n",
       "      <th>1</th>\n",
       "      <td>WHITE METAL LANTERN</td>\n",
       "      <td>6.0</td>\n",
       "      <td>01-12-2010 08:26</td>\n",
       "      <td>3.39</td>\n",
       "      <td>United Kingdom</td>\n",
       "    </tr>\n",
       "    <tr>\n",
       "      <th>2</th>\n",
       "      <td>CREAM CUPID HEARTS COAT HANGER</td>\n",
       "      <td>8.0</td>\n",
       "      <td>01-12-2010 08:26</td>\n",
       "      <td>2.75</td>\n",
       "      <td>United Kingdom</td>\n",
       "    </tr>\n",
       "    <tr>\n",
       "      <th>3</th>\n",
       "      <td>KNITTED UNION FLAG HOT WATER BOTTLE</td>\n",
       "      <td>6.0</td>\n",
       "      <td>01-12-2010 08:26</td>\n",
       "      <td>3.39</td>\n",
       "      <td>United Kingdom</td>\n",
       "    </tr>\n",
       "    <tr>\n",
       "      <th>4</th>\n",
       "      <td>RED WOOLLY HOTTIE WHITE HEART.</td>\n",
       "      <td>6.0</td>\n",
       "      <td>01-12-2010 08:26</td>\n",
       "      <td>3.39</td>\n",
       "      <td>United Kingdom</td>\n",
       "    </tr>\n",
       "  </tbody>\n",
       "</table>\n",
       "</div>"
      ],
      "text/plain": [
       "                           Description  Quantity       InvoiceDate  UnitPrice  \\\n",
       "0   WHITE HANGING HEART T-LIGHT HOLDER       6.0  01-12-2010 08:26       2.55   \n",
       "1                  WHITE METAL LANTERN       6.0  01-12-2010 08:26       3.39   \n",
       "2       CREAM CUPID HEARTS COAT HANGER       8.0  01-12-2010 08:26       2.75   \n",
       "3  KNITTED UNION FLAG HOT WATER BOTTLE       6.0  01-12-2010 08:26       3.39   \n",
       "4       RED WOOLLY HOTTIE WHITE HEART.       6.0  01-12-2010 08:26       3.39   \n",
       "\n",
       "          Country  \n",
       "0  United Kingdom  \n",
       "1  United Kingdom  \n",
       "2  United Kingdom  \n",
       "3  United Kingdom  \n",
       "4  United Kingdom  "
      ]
     },
     "execution_count": 24,
     "metadata": {},
     "output_type": "execute_result"
    }
   ],
   "source": [
    "df.head()"
   ]
  },
  {
   "cell_type": "markdown",
   "id": "4c577c0a",
   "metadata": {
    "papermill": {
     "duration": 0.019409,
     "end_time": "2022-11-16T19:37:38.280781",
     "exception": false,
     "start_time": "2022-11-16T19:37:38.261372",
     "status": "completed"
    },
    "tags": []
   },
   "source": [
    "### Date"
   ]
  },
  {
   "cell_type": "markdown",
   "id": "75f57a6d",
   "metadata": {
    "papermill": {
     "duration": 0.020089,
     "end_time": "2022-11-16T19:37:38.320416",
     "exception": false,
     "start_time": "2022-11-16T19:37:38.300327",
     "status": "completed"
    },
    "tags": []
   },
   "source": [
    "##### check if all rows in same format"
   ]
  },
  {
   "cell_type": "code",
   "execution_count": 25,
   "id": "fd229be6",
   "metadata": {
    "execution": {
     "iopub.execute_input": "2022-11-16T19:37:38.365287Z",
     "iopub.status.busy": "2022-11-16T19:37:38.364936Z",
     "iopub.status.idle": "2022-11-16T19:37:38.418821Z",
     "shell.execute_reply": "2022-11-16T19:37:38.417467Z"
    },
    "papermill": {
     "duration": 0.078468,
     "end_time": "2022-11-16T19:37:38.421408",
     "exception": false,
     "start_time": "2022-11-16T19:37:38.342940",
     "status": "completed"
    },
    "tags": []
   },
   "outputs": [
    {
     "data": {
      "text/plain": [
       "{2}"
      ]
     },
     "execution_count": 25,
     "metadata": {},
     "output_type": "execute_result"
    }
   ],
   "source": [
    "set([len(i.split() )for i in df['InvoiceDate'].unique()])"
   ]
  },
  {
   "cell_type": "code",
   "execution_count": 26,
   "id": "bf8803f1",
   "metadata": {
    "execution": {
     "iopub.execute_input": "2022-11-16T19:37:38.463733Z",
     "iopub.status.busy": "2022-11-16T19:37:38.463334Z",
     "iopub.status.idle": "2022-11-16T19:37:38.524489Z",
     "shell.execute_reply": "2022-11-16T19:37:38.522945Z"
    },
    "papermill": {
     "duration": 0.085728,
     "end_time": "2022-11-16T19:37:38.527656",
     "exception": false,
     "start_time": "2022-11-16T19:37:38.441928",
     "status": "completed"
    },
    "tags": []
   },
   "outputs": [
    {
     "data": {
      "text/plain": [
       "{3}"
      ]
     },
     "execution_count": 26,
     "metadata": {},
     "output_type": "execute_result"
    }
   ],
   "source": [
    "set([len(j.split('-')) for j in [i.split()[0] for i in df['InvoiceDate'].unique()]])"
   ]
  },
  {
   "cell_type": "code",
   "execution_count": 27,
   "id": "6bdb5e03",
   "metadata": {
    "execution": {
     "iopub.execute_input": "2022-11-16T19:37:38.570301Z",
     "iopub.status.busy": "2022-11-16T19:37:38.569957Z",
     "iopub.status.idle": "2022-11-16T19:37:38.626999Z",
     "shell.execute_reply": "2022-11-16T19:37:38.625770Z"
    },
    "papermill": {
     "duration": 0.080875,
     "end_time": "2022-11-16T19:37:38.629015",
     "exception": false,
     "start_time": "2022-11-16T19:37:38.548140",
     "status": "completed"
    },
    "tags": []
   },
   "outputs": [
    {
     "data": {
      "text/plain": [
       "{2}"
      ]
     },
     "execution_count": 27,
     "metadata": {},
     "output_type": "execute_result"
    }
   ],
   "source": [
    "set([len(j.split(':')) for j in [i.split()[1] for i in df['InvoiceDate'].unique()]])"
   ]
  },
  {
   "cell_type": "markdown",
   "id": "1a865760",
   "metadata": {
    "papermill": {
     "duration": 0.022246,
     "end_time": "2022-11-16T19:37:38.672383",
     "exception": false,
     "start_time": "2022-11-16T19:37:38.650137",
     "status": "completed"
    },
    "tags": []
   },
   "source": [
    "# Feature Extraction"
   ]
  },
  {
   "cell_type": "code",
   "execution_count": 28,
   "id": "65d8921b",
   "metadata": {
    "execution": {
     "iopub.execute_input": "2022-11-16T19:37:38.716920Z",
     "iopub.status.busy": "2022-11-16T19:37:38.716470Z",
     "iopub.status.idle": "2022-11-16T19:37:40.859478Z",
     "shell.execute_reply": "2022-11-16T19:37:40.857927Z"
    },
    "papermill": {
     "duration": 2.16824,
     "end_time": "2022-11-16T19:37:40.862420",
     "exception": false,
     "start_time": "2022-11-16T19:37:38.694180",
     "status": "completed"
    },
    "tags": []
   },
   "outputs": [],
   "source": [
    "# convert date to datetime\n",
    "df['InvoiceDate'] = pd.to_datetime(df['InvoiceDate'])"
   ]
  },
  {
   "cell_type": "code",
   "execution_count": 29,
   "id": "c4e8a06f",
   "metadata": {
    "execution": {
     "iopub.execute_input": "2022-11-16T19:37:40.905646Z",
     "iopub.status.busy": "2022-11-16T19:37:40.905280Z",
     "iopub.status.idle": "2022-11-16T19:37:41.145587Z",
     "shell.execute_reply": "2022-11-16T19:37:41.143904Z"
    },
    "papermill": {
     "duration": 0.264867,
     "end_time": "2022-11-16T19:37:41.148263",
     "exception": false,
     "start_time": "2022-11-16T19:37:40.883396",
     "status": "completed"
    },
    "tags": []
   },
   "outputs": [],
   "source": [
    "# extract year, month and day from date\n",
    "df['year'] = df['InvoiceDate'].dt.year\n",
    "df['month'] = df['InvoiceDate'].dt.month\n",
    "df['day'] = df['InvoiceDate'].dt.day\n",
    "df['weekday'] = df['InvoiceDate'].dt.day_name()\n",
    "df['hour'] = df['InvoiceDate'].dt.hour\n",
    "df.drop(axis=1, columns='InvoiceDate', inplace=True)"
   ]
  },
  {
   "cell_type": "code",
   "execution_count": 30,
   "id": "cf369cdf",
   "metadata": {
    "execution": {
     "iopub.execute_input": "2022-11-16T19:37:41.191739Z",
     "iopub.status.busy": "2022-11-16T19:37:41.191098Z",
     "iopub.status.idle": "2022-11-16T19:37:41.205210Z",
     "shell.execute_reply": "2022-11-16T19:37:41.203653Z"
    },
    "papermill": {
     "duration": 0.038352,
     "end_time": "2022-11-16T19:37:41.207704",
     "exception": false,
     "start_time": "2022-11-16T19:37:41.169352",
     "status": "completed"
    },
    "tags": []
   },
   "outputs": [
    {
     "data": {
      "text/html": [
       "<div>\n",
       "<style scoped>\n",
       "    .dataframe tbody tr th:only-of-type {\n",
       "        vertical-align: middle;\n",
       "    }\n",
       "\n",
       "    .dataframe tbody tr th {\n",
       "        vertical-align: top;\n",
       "    }\n",
       "\n",
       "    .dataframe thead th {\n",
       "        text-align: right;\n",
       "    }\n",
       "</style>\n",
       "<table border=\"1\" class=\"dataframe\">\n",
       "  <thead>\n",
       "    <tr style=\"text-align: right;\">\n",
       "      <th></th>\n",
       "      <th>Description</th>\n",
       "      <th>Quantity</th>\n",
       "      <th>UnitPrice</th>\n",
       "      <th>Country</th>\n",
       "      <th>year</th>\n",
       "      <th>month</th>\n",
       "      <th>day</th>\n",
       "      <th>weekday</th>\n",
       "      <th>hour</th>\n",
       "    </tr>\n",
       "  </thead>\n",
       "  <tbody>\n",
       "    <tr>\n",
       "      <th>0</th>\n",
       "      <td>WHITE HANGING HEART T-LIGHT HOLDER</td>\n",
       "      <td>6.0</td>\n",
       "      <td>2.55</td>\n",
       "      <td>United Kingdom</td>\n",
       "      <td>2010</td>\n",
       "      <td>1</td>\n",
       "      <td>12</td>\n",
       "      <td>Tuesday</td>\n",
       "      <td>8</td>\n",
       "    </tr>\n",
       "    <tr>\n",
       "      <th>1</th>\n",
       "      <td>WHITE METAL LANTERN</td>\n",
       "      <td>6.0</td>\n",
       "      <td>3.39</td>\n",
       "      <td>United Kingdom</td>\n",
       "      <td>2010</td>\n",
       "      <td>1</td>\n",
       "      <td>12</td>\n",
       "      <td>Tuesday</td>\n",
       "      <td>8</td>\n",
       "    </tr>\n",
       "    <tr>\n",
       "      <th>2</th>\n",
       "      <td>CREAM CUPID HEARTS COAT HANGER</td>\n",
       "      <td>8.0</td>\n",
       "      <td>2.75</td>\n",
       "      <td>United Kingdom</td>\n",
       "      <td>2010</td>\n",
       "      <td>1</td>\n",
       "      <td>12</td>\n",
       "      <td>Tuesday</td>\n",
       "      <td>8</td>\n",
       "    </tr>\n",
       "    <tr>\n",
       "      <th>3</th>\n",
       "      <td>KNITTED UNION FLAG HOT WATER BOTTLE</td>\n",
       "      <td>6.0</td>\n",
       "      <td>3.39</td>\n",
       "      <td>United Kingdom</td>\n",
       "      <td>2010</td>\n",
       "      <td>1</td>\n",
       "      <td>12</td>\n",
       "      <td>Tuesday</td>\n",
       "      <td>8</td>\n",
       "    </tr>\n",
       "    <tr>\n",
       "      <th>4</th>\n",
       "      <td>RED WOOLLY HOTTIE WHITE HEART.</td>\n",
       "      <td>6.0</td>\n",
       "      <td>3.39</td>\n",
       "      <td>United Kingdom</td>\n",
       "      <td>2010</td>\n",
       "      <td>1</td>\n",
       "      <td>12</td>\n",
       "      <td>Tuesday</td>\n",
       "      <td>8</td>\n",
       "    </tr>\n",
       "  </tbody>\n",
       "</table>\n",
       "</div>"
      ],
      "text/plain": [
       "                           Description  Quantity  UnitPrice         Country  \\\n",
       "0   WHITE HANGING HEART T-LIGHT HOLDER       6.0       2.55  United Kingdom   \n",
       "1                  WHITE METAL LANTERN       6.0       3.39  United Kingdom   \n",
       "2       CREAM CUPID HEARTS COAT HANGER       8.0       2.75  United Kingdom   \n",
       "3  KNITTED UNION FLAG HOT WATER BOTTLE       6.0       3.39  United Kingdom   \n",
       "4       RED WOOLLY HOTTIE WHITE HEART.       6.0       3.39  United Kingdom   \n",
       "\n",
       "   year  month  day  weekday  hour  \n",
       "0  2010      1   12  Tuesday     8  \n",
       "1  2010      1   12  Tuesday     8  \n",
       "2  2010      1   12  Tuesday     8  \n",
       "3  2010      1   12  Tuesday     8  \n",
       "4  2010      1   12  Tuesday     8  "
      ]
     },
     "execution_count": 30,
     "metadata": {},
     "output_type": "execute_result"
    }
   ],
   "source": [
    "df.head()"
   ]
  },
  {
   "cell_type": "code",
   "execution_count": 31,
   "id": "1dea3f62",
   "metadata": {
    "execution": {
     "iopub.execute_input": "2022-11-16T19:37:41.251519Z",
     "iopub.status.busy": "2022-11-16T19:37:41.251188Z",
     "iopub.status.idle": "2022-11-16T19:37:41.261994Z",
     "shell.execute_reply": "2022-11-16T19:37:41.260546Z"
    },
    "papermill": {
     "duration": 0.03555,
     "end_time": "2022-11-16T19:37:41.264478",
     "exception": false,
     "start_time": "2022-11-16T19:37:41.228928",
     "status": "completed"
    },
    "tags": []
   },
   "outputs": [
    {
     "data": {
      "text/plain": [
       "array([2010, 2011])"
      ]
     },
     "execution_count": 31,
     "metadata": {},
     "output_type": "execute_result"
    }
   ],
   "source": [
    "df['year'].unique()"
   ]
  },
  {
   "cell_type": "code",
   "execution_count": 32,
   "id": "3f01d930",
   "metadata": {
    "execution": {
     "iopub.execute_input": "2022-11-16T19:37:41.308504Z",
     "iopub.status.busy": "2022-11-16T19:37:41.307455Z",
     "iopub.status.idle": "2022-11-16T19:37:41.352943Z",
     "shell.execute_reply": "2022-11-16T19:37:41.352204Z"
    },
    "papermill": {
     "duration": 0.069371,
     "end_time": "2022-11-16T19:37:41.354681",
     "exception": false,
     "start_time": "2022-11-16T19:37:41.285310",
     "status": "completed"
    },
    "tags": []
   },
   "outputs": [
    {
     "data": {
      "text/plain": [
       "Thursday     96042\n",
       "Tuesday      95230\n",
       "Monday       86072\n",
       "Friday       79892\n",
       "Wednesday    78102\n",
       "Sunday       71014\n",
       "Saturday     34103\n",
       "Name: weekday, dtype: int64"
      ]
     },
     "execution_count": 32,
     "metadata": {},
     "output_type": "execute_result"
    }
   ],
   "source": [
    "df['weekday'].value_counts()"
   ]
  },
  {
   "cell_type": "markdown",
   "id": "0a8138f0",
   "metadata": {
    "papermill": {
     "duration": 0.022487,
     "end_time": "2022-11-16T19:37:41.400071",
     "exception": false,
     "start_time": "2022-11-16T19:37:41.377584",
     "status": "completed"
    },
    "tags": []
   },
   "source": [
    "## Get Day part (morning, afternoon, evening, night)"
   ]
  },
  {
   "cell_type": "code",
   "execution_count": 33,
   "id": "9daa5c41",
   "metadata": {
    "execution": {
     "iopub.execute_input": "2022-11-16T19:37:41.444663Z",
     "iopub.status.busy": "2022-11-16T19:37:41.443551Z",
     "iopub.status.idle": "2022-11-16T19:37:41.449220Z",
     "shell.execute_reply": "2022-11-16T19:37:41.448115Z"
    },
    "papermill": {
     "duration": 0.02939,
     "end_time": "2022-11-16T19:37:41.450912",
     "exception": false,
     "start_time": "2022-11-16T19:37:41.421522",
     "status": "completed"
    },
    "tags": []
   },
   "outputs": [],
   "source": [
    "def DayPart(H) :\n",
    "    if H < 11 : \n",
    "        return 'Morning'\n",
    "    elif 11 <= H< 16 : \n",
    "        return 'Afternoon'\n",
    "    elif 16 <= H< 22 : \n",
    "        return 'Evening'\n",
    "    else : \n",
    "        return 'Night'"
   ]
  },
  {
   "cell_type": "code",
   "execution_count": 34,
   "id": "1fb87b81",
   "metadata": {
    "execution": {
     "iopub.execute_input": "2022-11-16T19:37:41.496024Z",
     "iopub.status.busy": "2022-11-16T19:37:41.495218Z",
     "iopub.status.idle": "2022-11-16T19:37:41.622717Z",
     "shell.execute_reply": "2022-11-16T19:37:41.621958Z"
    },
    "papermill": {
     "duration": 0.152536,
     "end_time": "2022-11-16T19:37:41.625031",
     "exception": false,
     "start_time": "2022-11-16T19:37:41.472495",
     "status": "completed"
    },
    "tags": []
   },
   "outputs": [],
   "source": [
    "df['dayPart'] = df['hour'].apply(DayPart)"
   ]
  },
  {
   "cell_type": "code",
   "execution_count": 35,
   "id": "e90fcd5a",
   "metadata": {
    "execution": {
     "iopub.execute_input": "2022-11-16T19:37:41.669394Z",
     "iopub.status.busy": "2022-11-16T19:37:41.668846Z",
     "iopub.status.idle": "2022-11-16T19:37:41.695073Z",
     "shell.execute_reply": "2022-11-16T19:37:41.693742Z"
    },
    "papermill": {
     "duration": 0.05081,
     "end_time": "2022-11-16T19:37:41.697274",
     "exception": false,
     "start_time": "2022-11-16T19:37:41.646464",
     "status": "completed"
    },
    "tags": []
   },
   "outputs": [
    {
     "data": {
      "text/plain": [
       "Afternoon    352728\n",
       "Evening       95238\n",
       "Morning       92489\n",
       "Name: dayPart, dtype: int64"
      ]
     },
     "execution_count": 35,
     "metadata": {},
     "output_type": "execute_result"
    }
   ],
   "source": [
    "df['dayPart'].value_counts()"
   ]
  },
  {
   "cell_type": "code",
   "execution_count": 36,
   "id": "db5527b2",
   "metadata": {
    "execution": {
     "iopub.execute_input": "2022-11-16T19:37:41.741317Z",
     "iopub.status.busy": "2022-11-16T19:37:41.740944Z",
     "iopub.status.idle": "2022-11-16T19:37:41.769205Z",
     "shell.execute_reply": "2022-11-16T19:37:41.768141Z"
    },
    "papermill": {
     "duration": 0.052826,
     "end_time": "2022-11-16T19:37:41.771171",
     "exception": false,
     "start_time": "2022-11-16T19:37:41.718345",
     "status": "completed"
    },
    "tags": []
   },
   "outputs": [
    {
     "data": {
      "text/plain": [
       "count    540455.000000\n",
       "mean         12.040009\n",
       "std          14.686723\n",
       "min           0.000000\n",
       "25%           3.300000\n",
       "50%           8.260000\n",
       "75%          15.900000\n",
       "max         362.600000\n",
       "Name: Amount, dtype: float64"
      ]
     },
     "execution_count": 36,
     "metadata": {},
     "output_type": "execute_result"
    }
   ],
   "source": [
    "# extract amount using quantity and unit price\n",
    "df['Amount'] = df['Quantity'] * df['UnitPrice']\n",
    "df['Amount'].describe()"
   ]
  },
  {
   "cell_type": "markdown",
   "id": "ba0d40ef",
   "metadata": {
    "papermill": {
     "duration": 0.020585,
     "end_time": "2022-11-16T19:37:41.812846",
     "exception": false,
     "start_time": "2022-11-16T19:37:41.792261",
     "status": "completed"
    },
    "tags": []
   },
   "source": [
    "# Dealing with Text "
   ]
  },
  {
   "cell_type": "markdown",
   "id": "2e2719f7",
   "metadata": {
    "papermill": {
     "duration": 0.020518,
     "end_time": "2022-11-16T19:37:41.853992",
     "exception": false,
     "start_time": "2022-11-16T19:37:41.833474",
     "status": "completed"
    },
    "tags": []
   },
   "source": [
    "### Put all rows in one paragrph"
   ]
  },
  {
   "cell_type": "code",
   "execution_count": 37,
   "id": "3e1bef7c",
   "metadata": {
    "execution": {
     "iopub.execute_input": "2022-11-16T19:37:41.898225Z",
     "iopub.status.busy": "2022-11-16T19:37:41.896841Z",
     "iopub.status.idle": "2022-11-16T19:37:41.910263Z",
     "shell.execute_reply": "2022-11-16T19:37:41.908877Z"
    },
    "papermill": {
     "duration": 0.037277,
     "end_time": "2022-11-16T19:37:41.912124",
     "exception": false,
     "start_time": "2022-11-16T19:37:41.874847",
     "status": "completed"
    },
    "tags": []
   },
   "outputs": [
    {
     "data": {
      "text/plain": [
       "['WHITE HANGING HEART T-LIGHT HOLDER',\n",
       " 'WHITE METAL LANTERN',\n",
       " 'CREAM CUPID HEARTS COAT HANGER',\n",
       " 'KNITTED UNION FLAG HOT WATER BOTTLE',\n",
       " 'RED WOOLLY HOTTIE WHITE HEART.',\n",
       " 'SET 7 BABUSHKA NESTING BOXES',\n",
       " 'GLASS STAR FROSTED T-LIGHT HOLDER',\n",
       " 'HAND WARMER UNION JACK',\n",
       " 'HAND WARMER RED POLKA DOT',\n",
       " 'ASSORTED COLOUR BIRD ORNAMENT']"
      ]
     },
     "execution_count": 37,
     "metadata": {},
     "output_type": "execute_result"
    }
   ],
   "source": [
    "df['Description'].tolist()[:10]"
   ]
  },
  {
   "cell_type": "code",
   "execution_count": 38,
   "id": "9c28a2a4",
   "metadata": {
    "execution": {
     "iopub.execute_input": "2022-11-16T19:37:41.955174Z",
     "iopub.status.busy": "2022-11-16T19:37:41.954865Z",
     "iopub.status.idle": "2022-11-16T19:37:42.508861Z",
     "shell.execute_reply": "2022-11-16T19:37:42.507538Z"
    },
    "papermill": {
     "duration": 0.578445,
     "end_time": "2022-11-16T19:37:42.511380",
     "exception": false,
     "start_time": "2022-11-16T19:37:41.932935",
     "status": "completed"
    },
    "tags": []
   },
   "outputs": [],
   "source": [
    "AllDescription = ' '.join(df['Description'].tolist())\n",
    "AllDescription = ' '.join([(i).lower() \n",
    "                           for i in AllDescription.split()])"
   ]
  },
  {
   "cell_type": "code",
   "execution_count": 39,
   "id": "d5dcd31b",
   "metadata": {
    "execution": {
     "iopub.execute_input": "2022-11-16T19:37:42.557520Z",
     "iopub.status.busy": "2022-11-16T19:37:42.557072Z",
     "iopub.status.idle": "2022-11-16T19:37:42.729280Z",
     "shell.execute_reply": "2022-11-16T19:37:42.728343Z"
    },
    "papermill": {
     "duration": 0.197211,
     "end_time": "2022-11-16T19:37:42.731156",
     "exception": false,
     "start_time": "2022-11-16T19:37:42.533945",
     "status": "completed"
    },
    "tags": []
   },
   "outputs": [
    {
     "data": {
      "text/plain": [
       "2368906"
      ]
     },
     "execution_count": 39,
     "metadata": {},
     "output_type": "execute_result"
    }
   ],
   "source": [
    "len(AllDescription.split())"
   ]
  },
  {
   "cell_type": "code",
   "execution_count": 40,
   "id": "1056fa77",
   "metadata": {
    "execution": {
     "iopub.execute_input": "2022-11-16T19:37:42.774748Z",
     "iopub.status.busy": "2022-11-16T19:37:42.774385Z",
     "iopub.status.idle": "2022-11-16T19:37:42.780293Z",
     "shell.execute_reply": "2022-11-16T19:37:42.779629Z"
    },
    "papermill": {
     "duration": 0.030436,
     "end_time": "2022-11-16T19:37:42.782710",
     "exception": false,
     "start_time": "2022-11-16T19:37:42.752274",
     "status": "completed"
    },
    "tags": []
   },
   "outputs": [
    {
     "data": {
      "text/plain": [
       "\"white hanging heart t-light holder white metal lantern cream cupid hearts coat hanger knitted union flag hot water bottle red woolly hottie white heart. set 7 babushka nesting boxes glass star frosted t-light holder hand warmer union jack hand warmer red polka dot assorted colour bird ornament poppy's playhouse bedroom poppy's playhouse kitchen feltcraft princess charlotte doll ivory knitted mug cosy box of 6 assorted colour teaspoons box of vintage jigsaw blocks box of vintage alphabet blocks home building block word love building block word recipe box with metal heart doormat new england jam making set with jars red coat rack paris fashion yellow coat rack paris fashion blue coat rack paris fashion bath building block word alarm clock bakelike pink alarm clock bakelike red alarm clock bakelike green panda and bunnies sticker sheet stars gift tape inflatable political globe vintage heads and tails card game set/2 red retrospot tea towels round snack boxes set of4 woodland spaceboy lun\""
      ]
     },
     "execution_count": 40,
     "metadata": {},
     "output_type": "execute_result"
    }
   ],
   "source": [
    "AllDescription[:1000]"
   ]
  },
  {
   "cell_type": "markdown",
   "id": "b9127463",
   "metadata": {
    "papermill": {
     "duration": 0.021441,
     "end_time": "2022-11-16T19:37:42.826291",
     "exception": false,
     "start_time": "2022-11-16T19:37:42.804850",
     "status": "completed"
    },
    "tags": []
   },
   "source": [
    "### Remove stop words"
   ]
  },
  {
   "cell_type": "code",
   "execution_count": 41,
   "id": "bafed0a3",
   "metadata": {
    "execution": {
     "iopub.execute_input": "2022-11-16T19:37:42.872699Z",
     "iopub.status.busy": "2022-11-16T19:37:42.871536Z",
     "iopub.status.idle": "2022-11-16T19:37:43.358184Z",
     "shell.execute_reply": "2022-11-16T19:37:43.357118Z"
    },
    "papermill": {
     "duration": 0.512644,
     "end_time": "2022-11-16T19:37:43.360682",
     "exception": false,
     "start_time": "2022-11-16T19:37:42.848038",
     "status": "completed"
    },
    "tags": []
   },
   "outputs": [],
   "source": [
    "from nltk.corpus import stopwords\n",
    "from nltk.tokenize import word_tokenize"
   ]
  },
  {
   "cell_type": "code",
   "execution_count": 42,
   "id": "1a7f1402",
   "metadata": {
    "execution": {
     "iopub.execute_input": "2022-11-16T19:37:43.409221Z",
     "iopub.status.busy": "2022-11-16T19:37:43.408831Z",
     "iopub.status.idle": "2022-11-16T19:37:43.422199Z",
     "shell.execute_reply": "2022-11-16T19:37:43.421015Z"
    },
    "papermill": {
     "duration": 0.039182,
     "end_time": "2022-11-16T19:37:43.424380",
     "exception": false,
     "start_time": "2022-11-16T19:37:43.385198",
     "status": "completed"
    },
    "tags": []
   },
   "outputs": [],
   "source": [
    "stop_words = set(stopwords.words('english'))"
   ]
  },
  {
   "cell_type": "code",
   "execution_count": 43,
   "id": "9fe53f01",
   "metadata": {
    "execution": {
     "iopub.execute_input": "2022-11-16T19:37:43.470771Z",
     "iopub.status.busy": "2022-11-16T19:37:43.470369Z",
     "iopub.status.idle": "2022-11-16T19:37:43.603913Z",
     "shell.execute_reply": "2022-11-16T19:37:43.602586Z"
    },
    "papermill": {
     "duration": 0.159269,
     "end_time": "2022-11-16T19:37:43.606290",
     "exception": false,
     "start_time": "2022-11-16T19:37:43.447021",
     "status": "completed"
    },
    "tags": []
   },
   "outputs": [
    {
     "data": {
      "text/plain": [
       "['white', 'hanging', 'heart', 't-light', 'holder']"
      ]
     },
     "execution_count": 43,
     "metadata": {},
     "output_type": "execute_result"
    }
   ],
   "source": [
    "all_words = AllDescription.split()\n",
    "all_words[:5]"
   ]
  },
  {
   "cell_type": "code",
   "execution_count": 44,
   "id": "b76754cb",
   "metadata": {
    "execution": {
     "iopub.execute_input": "2022-11-16T19:37:43.651028Z",
     "iopub.status.busy": "2022-11-16T19:37:43.650660Z",
     "iopub.status.idle": "2022-11-16T19:37:43.658016Z",
     "shell.execute_reply": "2022-11-16T19:37:43.656530Z"
    },
    "papermill": {
     "duration": 0.031884,
     "end_time": "2022-11-16T19:37:43.659954",
     "exception": false,
     "start_time": "2022-11-16T19:37:43.628070",
     "status": "completed"
    },
    "tags": []
   },
   "outputs": [
    {
     "data": {
      "text/plain": [
       "2368906"
      ]
     },
     "execution_count": 44,
     "metadata": {},
     "output_type": "execute_result"
    }
   ],
   "source": [
    "len(all_words)"
   ]
  },
  {
   "cell_type": "code",
   "execution_count": 45,
   "id": "5d86cca5",
   "metadata": {
    "execution": {
     "iopub.execute_input": "2022-11-16T19:37:43.704921Z",
     "iopub.status.busy": "2022-11-16T19:37:43.704542Z",
     "iopub.status.idle": "2022-11-16T19:37:43.709721Z",
     "shell.execute_reply": "2022-11-16T19:37:43.708663Z"
    },
    "papermill": {
     "duration": 0.030143,
     "end_time": "2022-11-16T19:37:43.711621",
     "exception": false,
     "start_time": "2022-11-16T19:37:43.681478",
     "status": "completed"
    },
    "tags": []
   },
   "outputs": [],
   "source": [
    "words = []"
   ]
  },
  {
   "cell_type": "code",
   "execution_count": 46,
   "id": "ca839650",
   "metadata": {
    "execution": {
     "iopub.execute_input": "2022-11-16T19:37:43.757649Z",
     "iopub.status.busy": "2022-11-16T19:37:43.756221Z",
     "iopub.status.idle": "2022-11-16T19:37:44.468910Z",
     "shell.execute_reply": "2022-11-16T19:37:44.467374Z"
    },
    "papermill": {
     "duration": 0.738161,
     "end_time": "2022-11-16T19:37:44.471621",
     "exception": false,
     "start_time": "2022-11-16T19:37:43.733460",
     "status": "completed"
    },
    "tags": []
   },
   "outputs": [],
   "source": [
    "for w in all_words:\n",
    "    if w not in stop_words and len(w) > 1:\n",
    "        words.append(w)"
   ]
  },
  {
   "cell_type": "code",
   "execution_count": 47,
   "id": "734e036b",
   "metadata": {
    "execution": {
     "iopub.execute_input": "2022-11-16T19:37:44.520674Z",
     "iopub.status.busy": "2022-11-16T19:37:44.520264Z",
     "iopub.status.idle": "2022-11-16T19:37:45.251046Z",
     "shell.execute_reply": "2022-11-16T19:37:45.249872Z"
    },
    "papermill": {
     "duration": 0.757641,
     "end_time": "2022-11-16T19:37:45.253746",
     "exception": false,
     "start_time": "2022-11-16T19:37:44.496105",
     "status": "completed"
    },
    "tags": []
   },
   "outputs": [
    {
     "data": {
      "text/plain": [
       "{'white': 20813,\n",
       " 'hanging': 17037,\n",
       " 'heart': 38714,\n",
       " 't-light': 14559,\n",
       " 'holder': 16261,\n",
       " 'metal': 20842,\n",
       " 'lantern': 2371,\n",
       " 'cream': 8045,\n",
       " 'cupid': 340,\n",
       " 'hearts': 5023,\n",
       " 'coat': 1634,\n",
       " 'hanger': 2201,\n",
       " 'knitted': 794,\n",
       " 'union': 5465,\n",
       " 'flag': 1774,\n",
       " 'hot': 10517,\n",
       " 'water': 9978,\n",
       " 'bottle': 11697,\n",
       " 'red': 42902,\n",
       " 'woolly': 450,\n",
       " 'hottie': 449,\n",
       " 'heart.': 449,\n",
       " 'set': 54598,\n",
       " 'babushka': 3211,\n",
       " 'nesting': 508,\n",
       " 'boxes': 3254,\n",
       " 'glass': 12125,\n",
       " 'star': 6107,\n",
       " 'frosted': 164,\n",
       " 'hand': 4944,\n",
       " 'warmer': 4622,\n",
       " 'jack': 3816,\n",
       " 'polka': 199,\n",
       " 'dot': 109,\n",
       " 'assorted': 7587,\n",
       " 'colour': 6207,\n",
       " 'bird': 5871,\n",
       " 'ornament': 1501,\n",
       " \"poppy's\": 1455,\n",
       " 'playhouse': 1455,\n",
       " 'bedroom': 436,\n",
       " 'kitchen': 3608,\n",
       " 'feltcraft': 7216,\n",
       " 'princess': 1192,\n",
       " 'charlotte': 6351,\n",
       " 'doll': 2244,\n",
       " 'ivory': 8205,\n",
       " 'mug': 8234,\n",
       " 'cosy': 1307,\n",
       " 'box': 24406,\n",
       " 'teaspoons': 213,\n",
       " 'vintage': 33748,\n",
       " 'jigsaw': 1676,\n",
       " 'blocks': 515,\n",
       " 'alphabet': 3921,\n",
       " 'home': 9545,\n",
       " 'building': 1747,\n",
       " 'block': 2281,\n",
       " 'word': 1747,\n",
       " 'love': 8000,\n",
       " 'recipe': 2570,\n",
       " 'doormat': 8385,\n",
       " 'new': 846,\n",
       " 'england': 678,\n",
       " 'jam': 4997,\n",
       " 'making': 2643,\n",
       " 'jars': 1354,\n",
       " 'rack': 2133,\n",
       " 'paris': 462,\n",
       " 'fashion': 377,\n",
       " 'yellow': 2328,\n",
       " 'blue': 19319,\n",
       " 'bath': 1007,\n",
       " 'alarm': 4551,\n",
       " 'clock': 7381,\n",
       " 'bakelike': 4461,\n",
       " 'pink': 29526,\n",
       " 'green': 9119,\n",
       " 'panda': 81,\n",
       " 'bunnies': 619,\n",
       " 'sticker': 1120,\n",
       " 'sheet': 474,\n",
       " 'stars': 1433,\n",
       " 'gift': 5285,\n",
       " 'tape': 1510,\n",
       " 'inflatable': 93,\n",
       " 'political': 71,\n",
       " 'globe': 71,\n",
       " 'heads': 831,\n",
       " 'tails': 831,\n",
       " 'card': 13280,\n",
       " 'game': 1595,\n",
       " 'set/2': 403,\n",
       " 'retrospot': 35126,\n",
       " 'tea': 11836,\n",
       " 'towels': 1721,\n",
       " 'round': 3644,\n",
       " 'snack': 2199,\n",
       " 'of4': 764,\n",
       " 'woodland': 6874,\n",
       " 'spaceboy': 10831,\n",
       " 'lunch': 18525,\n",
       " 'london': 4666,\n",
       " 'circus': 2588,\n",
       " 'parade': 2588,\n",
       " 'bag': 51911,\n",
       " 'dolly': 8447,\n",
       " 'girl': 7793,\n",
       " 'design': 30066,\n",
       " 'toadstool': 1555,\n",
       " 'led': 1718,\n",
       " 'night': 2346,\n",
       " 'light': 3534,\n",
       " 'seaside': 712,\n",
       " 'puzzles': 150,\n",
       " 'mini': 8185,\n",
       " 'paint': 623,\n",
       " 'postage': 1961,\n",
       " 'paper': 14365,\n",
       " 'chain': 3534,\n",
       " 'kit': 6910,\n",
       " \"50's\": 4734,\n",
       " 'christmas': 25131,\n",
       " 'edwardian': 3063,\n",
       " 'parasol': 2266,\n",
       " 'retro': 2321,\n",
       " 'coffee': 2907,\n",
       " 'mugs': 171,\n",
       " 'save': 597,\n",
       " 'planet': 597,\n",
       " 'billboard': 1126,\n",
       " 'drink': 181,\n",
       " 'love/hate': 202,\n",
       " 'wood': 6032,\n",
       " 'drawer': 6418,\n",
       " 'cabinet': 2325,\n",
       " 'finish': 2908,\n",
       " 's/3': 435,\n",
       " 'ant': 1401,\n",
       " 'wooden': 12708,\n",
       " 'picture': 2515,\n",
       " 'frame': 6751,\n",
       " 'antique': 6478,\n",
       " 'victorian': 2651,\n",
       " 'sewing': 2914,\n",
       " 'large': 9798,\n",
       " 'sympathy': 656,\n",
       " 'jumbo': 21139,\n",
       " 'polkadot': 12472,\n",
       " 'baroque': 1257,\n",
       " 'black': 7205,\n",
       " 'charlie': 1372,\n",
       " 'lola': 1800,\n",
       " 'toys': 834,\n",
       " 'strawberry': 6115,\n",
       " 'piece': 2120,\n",
       " 'cutlery': 5185,\n",
       " 'set/6': 2537,\n",
       " 'spotty': 3171,\n",
       " 'plates': 1069,\n",
       " 'pack': 15637,\n",
       " '72': 3816,\n",
       " 'cake': 21461,\n",
       " 'cases': 12014,\n",
       " '60': 5955,\n",
       " 'dinosaur': 1815,\n",
       " 'paisley': 9326,\n",
       " 'teatime': 1453,\n",
       " 'fairy': 6777,\n",
       " 'tomato': 88,\n",
       " 'charlie+lola': 1036,\n",
       " 'coaster': 566,\n",
       " 'wastepaper': 209,\n",
       " 'bin': 1748,\n",
       " 'flora': 260,\n",
       " 'personal': 248,\n",
       " 'doorsign': 248,\n",
       " 'storage': 4673,\n",
       " 'suki': 5075,\n",
       " 'printed': 1189,\n",
       " 'ceramic': 9180,\n",
       " '11': 988,\n",
       " 'pc': 989,\n",
       " 'girly': 1,\n",
       " 'tool': 109,\n",
       " 'shopper': 3249,\n",
       " 'airline': 1389,\n",
       " 'lounge,metal': 293,\n",
       " 'sign': 16998,\n",
       " 'spot': 4050,\n",
       " 'knob': 4953,\n",
       " 'acrylic': 1661,\n",
       " 'clear': 647,\n",
       " 'photo': 3470,\n",
       " 'clip': 323,\n",
       " 'line': 53,\n",
       " 'felt': 3126,\n",
       " 'egg': 4838,\n",
       " 'chicken': 602,\n",
       " 'piggy': 357,\n",
       " 'bank': 1679,\n",
       " 'skull': 4309,\n",
       " 'shoulder': 1610,\n",
       " 'confusing': 469,\n",
       " 'cook': 745,\n",
       " 'wine': 807,\n",
       " 'gin': 1378,\n",
       " 'tonic': 1606,\n",
       " 'diet': 1074,\n",
       " 'breakfast': 1171,\n",
       " 'cup': 5048,\n",
       " 'saucer': 3389,\n",
       " 'small': 14333,\n",
       " 'flowers': 1104,\n",
       " 'hook': 4238,\n",
       " 'time': 1813,\n",
       " 'des': 235,\n",
       " 'rabbit': 2870,\n",
       " 'zinc': 5635,\n",
       " 'willie': 561,\n",
       " 'winkie': 561,\n",
       " 'candle': 4884,\n",
       " 'stick': 841,\n",
       " 'cherry': 776,\n",
       " 'money': 1967,\n",
       " 'milk': 2369,\n",
       " 'jug': 2348,\n",
       " 'funky': 1147,\n",
       " 'beakers': 163,\n",
       " 'natural': 3341,\n",
       " 'owl': 2099,\n",
       " 'soft': 801,\n",
       " 'toy': 2057,\n",
       " 'balloon': 605,\n",
       " 'art': 2709,\n",
       " 'make': 598,\n",
       " 'cloche': 227,\n",
       " 'gumball': 1088,\n",
       " 'monochrome': 114,\n",
       " 'fancy': 1065,\n",
       " 'font': 1608,\n",
       " 'sweet': 4075,\n",
       " 'discount': 77,\n",
       " 'snakes': 401,\n",
       " 'ladders': 401,\n",
       " 'chocolate': 4627,\n",
       " 'calculator': 467,\n",
       " 'recycling': 760,\n",
       " 'tidy': 1496,\n",
       " 'dressing': 312,\n",
       " 'table': 2194,\n",
       " 'pot': 2783,\n",
       " 'giant': 1254,\n",
       " 'garden': 6944,\n",
       " 'thermometer': 724,\n",
       " 'tier': 3751,\n",
       " 'tin': 9512,\n",
       " 'wicker': 7141,\n",
       " 'oval': 506,\n",
       " 'baskets': 107,\n",
       " 'lids': 33,\n",
       " 'coloured': 830,\n",
       " 'flying': 325,\n",
       " 'ducks': 237,\n",
       " 'board': 1817,\n",
       " 'medina': 213,\n",
       " 'slate': 3804,\n",
       " 'chalkboard': 2502,\n",
       " 'lovebird': 1356,\n",
       " 'classic': 2280,\n",
       " 'birdcage': 373,\n",
       " 'plant': 1168,\n",
       " 'enamel': 3878,\n",
       " 'flower': 5130,\n",
       " 'fire': 172,\n",
       " 'bucket': 952,\n",
       " 'bread': 1452,\n",
       " 'traditional': 4507,\n",
       " 'ribbons': 4302,\n",
       " 'organiser': 551,\n",
       " 'wire': 1344,\n",
       " 'chilli': 679,\n",
       " 'lights': 3045,\n",
       " 'garland': 3358,\n",
       " 'butterfiles': 142,\n",
       " 'owls': 1178,\n",
       " 'tale': 215,\n",
       " 'cottage': 1047,\n",
       " 'nightlight': 97,\n",
       " 'letters': 896,\n",
       " 'gingham': 3655,\n",
       " 'doorstop': 1559,\n",
       " 'five': 235,\n",
       " 'decoration': 12981,\n",
       " 'top': 1865,\n",
       " 'magnets': 2992,\n",
       " 'fridge': 691,\n",
       " 'us': 107,\n",
       " 'diner': 2704,\n",
       " 'homemade': 655,\n",
       " 'scented': 1433,\n",
       " 'candles': 5046,\n",
       " 'les': 88,\n",
       " 'enfants': 88,\n",
       " 'rose': 9402,\n",
       " 'caravan': 498,\n",
       " 'magic': 2958,\n",
       " '10': 2353,\n",
       " 'reindeer': 703,\n",
       " 'cushion': 4102,\n",
       " 'cover': 4764,\n",
       " 'gold': 1239,\n",
       " 'umbrella': 1621,\n",
       " 'black/blue': 294,\n",
       " 'wall': 6137,\n",
       " 'measuring': 1620,\n",
       " 'spoons': 939,\n",
       " 'jar': 5166,\n",
       " 'lid': 1766,\n",
       " 'keepsake': 471,\n",
       " 'disco': 546,\n",
       " 'ball': 1492,\n",
       " 'popcorn': 1577,\n",
       " 'set/20': 1358,\n",
       " 'napkins': 4054,\n",
       " 'cups': 947,\n",
       " 'rain': 683,\n",
       " 'hat': 237,\n",
       " 'deluxe': 643,\n",
       " 'english': 3160,\n",
       " 'cube': 356,\n",
       " 'plasters': 3733,\n",
       " '12': 11401,\n",
       " 'tissues': 3806,\n",
       " 'chick': 1506,\n",
       " 'grey': 1155,\n",
       " 'skulls': 3902,\n",
       " 'stripey': 598,\n",
       " 'mice': 483,\n",
       " 'soldier': 455,\n",
       " 'skittles': 854,\n",
       " 'skipping': 451,\n",
       " 'rope': 567,\n",
       " 'dominoes': 970,\n",
       " 'rustic': 2122,\n",
       " 'seventeen': 29,\n",
       " 'sideboard': 29,\n",
       " 'party': 7559,\n",
       " 'cones': 234,\n",
       " 'carnival': 133,\n",
       " 'candy': 768,\n",
       " 'picnic': 3040,\n",
       " 'basket': 1902,\n",
       " 'painted': 3209,\n",
       " 'lamp': 472,\n",
       " 'birthday': 6123,\n",
       " 'card,': 944,\n",
       " 'scotty': 585,\n",
       " 'dog': 3604,\n",
       " 'bowl': 7051,\n",
       " 'chasing': 135,\n",
       " 'clothes': 794,\n",
       " 'pegs': 1216,\n",
       " '24': 1453,\n",
       " 'travel': 4165,\n",
       " 'trinket': 4555,\n",
       " 'orange': 1244,\n",
       " 'embroidered': 620,\n",
       " 'quilt': 31,\n",
       " 'string': 654,\n",
       " 'doughnut': 815,\n",
       " 'silk': 783,\n",
       " 'purse': 1532,\n",
       " 'poorly': 679,\n",
       " 'scottie': 1158,\n",
       " 'house': 1288,\n",
       " 'boudoir': 187,\n",
       " 'square': 990,\n",
       " 'tissue': 1684,\n",
       " 'cornice': 1121,\n",
       " 's/6': 270,\n",
       " 'sew': 20,\n",
       " 'crochet': 513,\n",
       " 'scandinavian': 3352,\n",
       " 'reds': 465,\n",
       " 'balloons': 1366,\n",
       " 'writing': 900,\n",
       " 'lavender': 937,\n",
       " 'incense': 540,\n",
       " 'tv': 821,\n",
       " 'dinner': 1746,\n",
       " 'tray': 2015,\n",
       " 'placemats': 555,\n",
       " 'coasters': 493,\n",
       " 'triple': 897,\n",
       " 'family': 746,\n",
       " 'mirrored': 537,\n",
       " 'rotator': 109,\n",
       " 'battery': 110,\n",
       " 'operated': 110,\n",
       " 'silver': 6273,\n",
       " 'looking': 10,\n",
       " 'mirror': 2494,\n",
       " 'ladies': 735,\n",
       " 'gentlemen': 485,\n",
       " 'served': 244,\n",
       " 'topiary': 210,\n",
       " 'bathroom': 1880,\n",
       " 'toilet': 1327,\n",
       " 'take': 422,\n",
       " 'leave': 422,\n",
       " \"i'm\": 372,\n",
       " 'holiday': 680,\n",
       " 'grow': 777,\n",
       " 'basil': 478,\n",
       " 'set/10': 1159,\n",
       " '20': 3744,\n",
       " 'cakes': 1587,\n",
       " 't-lights': 2140,\n",
       " 'snowmen': 403,\n",
       " 'santa': 598,\n",
       " 'shaped': 798,\n",
       " 'sandwich': 97,\n",
       " 'sponge': 627,\n",
       " 'apple': 1928,\n",
       " 'pirate': 445,\n",
       " 'treasure': 1879,\n",
       " 'chest': 1141,\n",
       " 'portable': 183,\n",
       " 'snowflake': 180,\n",
       " 'jewelled': 774,\n",
       " 'cigar': 390,\n",
       " 'matches': 788,\n",
       " 'hour': 189,\n",
       " 'tube': 4143,\n",
       " 'jazz': 625,\n",
       " 'notebook': 2894,\n",
       " 'candleholder': 850,\n",
       " 'candlestick': 336,\n",
       " 'baroquecandlestick': 44,\n",
       " 'flannel': 811,\n",
       " 'style': 1643,\n",
       " 'cloth': 33,\n",
       " 'trellis': 890,\n",
       " 'football': 260,\n",
       " 'celebration': 237,\n",
       " 'girls': 616,\n",
       " 'romantic': 417,\n",
       " 'pinks': 434,\n",
       " 'bright': 113,\n",
       " 'blues': 113,\n",
       " 'invites': 554,\n",
       " 'spaceman': 75,\n",
       " 'butterfly': 4147,\n",
       " 'cookie': 3364,\n",
       " 'cutters': 2184,\n",
       " 'cutter': 1082,\n",
       " 'sweetheart': 4341,\n",
       " 'cars': 1197,\n",
       " 'skull.': 1350,\n",
       " 'set/5': 937,\n",
       " 'bowls': 1009,\n",
       " 'drawing': 1420,\n",
       " 'bake': 147,\n",
       " 'pencils': 4771,\n",
       " 'tall': 1355,\n",
       " 'harmonica': 1291,\n",
       " 'transfer': 176,\n",
       " 'tattoos': 176,\n",
       " 'pannetone': 538,\n",
       " 'kids': 1657,\n",
       " 'pen': 2412,\n",
       " 'single': 1628,\n",
       " 'rectangle': 552,\n",
       " 'pens': 549,\n",
       " 'funny': 218,\n",
       " 'face': 218,\n",
       " 'wrap': 6763,\n",
       " 'cowboys': 346,\n",
       " 'tokyo': 413,\n",
       " '78': 413,\n",
       " 'doilies': 2561,\n",
       " 'sleeping': 298,\n",
       " 'cat': 2634,\n",
       " 'erasers': 570,\n",
       " 'cowboy': 226,\n",
       " 'rotating': 797,\n",
       " 'angels': 475,\n",
       " 'hldr': 639,\n",
       " 'ribbon': 3108,\n",
       " 'reel': 3109,\n",
       " 'spinning': 498,\n",
       " 'tops': 498,\n",
       " '500g': 146,\n",
       " 'swirly': 763,\n",
       " 'marbles': 702,\n",
       " 'strand': 38,\n",
       " 'necklace': 669,\n",
       " 'crystal': 1258,\n",
       " 'squarecushion': 74,\n",
       " 'childrens': 6193,\n",
       " \"children's\": 788,\n",
       " 'candelabra': 92,\n",
       " 'botanical': 1268,\n",
       " 'luggage': 952,\n",
       " 'tag': 904,\n",
       " 'tassle': 93,\n",
       " 'charm': 1493,\n",
       " 'faceted': 35,\n",
       " 'bangle': 35,\n",
       " 'guns': 210,\n",
       " 'roses': 2386,\n",
       " 'vanilla': 715,\n",
       " 'scent': 630,\n",
       " 'full': 307,\n",
       " 'plate': 3825,\n",
       " 'bell': 2416,\n",
       " 'stand': 3501,\n",
       " 'filigree': 1258,\n",
       " 'med': 131,\n",
       " 'pattern': 641,\n",
       " 'stickers': 1711,\n",
       " 'pencil': 1264,\n",
       " \"b'fly\": 25,\n",
       " 'c/cover': 8,\n",
       " 'bobbles': 105,\n",
       " 'elegant': 206,\n",
       " 'aged': 355,\n",
       " 'boom': 292,\n",
       " 'speaker': 201,\n",
       " 'shimmering': 202,\n",
       " 'holly': 598,\n",
       " 'bells': 1861,\n",
       " 'angel': 1123,\n",
       " 'dress': 167,\n",
       " 'fruits': 641,\n",
       " 'molly': 344,\n",
       " 'notebooks': 441,\n",
       " 'parcel': 441,\n",
       " 'slipper': 201,\n",
       " 'shoes': 178,\n",
       " 'daisy': 1445,\n",
       " 'craft': 3516,\n",
       " 'tree': 4763,\n",
       " 'little': 587,\n",
       " 'friends': 1266,\n",
       " 'rosie': 368,\n",
       " 'emily': 378,\n",
       " 'olivia': 295,\n",
       " 'rex': 967,\n",
       " 'cash+carry': 967,\n",
       " 'tote': 722,\n",
       " 'folding': 1244,\n",
       " 'pinkwhite': 45,\n",
       " 'white/red': 36,\n",
       " 'red/white': 121,\n",
       " 's/4': 774,\n",
       " 'valentine': 199,\n",
       " 'decoupage': 584,\n",
       " 'soldiers': 439,\n",
       " 'sock': 528,\n",
       " 'bauble': 535,\n",
       " 'snowy': 288,\n",
       " 'village': 815,\n",
       " 'turquoise': 498,\n",
       " 'wreath': 1515,\n",
       " 'advent': 554,\n",
       " 'calendar': 1039,\n",
       " 'sack': 473,\n",
       " 'cone': 115,\n",
       " 'snap': 944,\n",
       " 'cards': 3178,\n",
       " 'purple': 1471,\n",
       " 'drawerknob': 256,\n",
       " 'apron': 3176,\n",
       " 'santas': 166,\n",
       " 'mushroom': 579,\n",
       " 'chalk': 1088,\n",
       " 'sticks': 1266,\n",
       " 'hairband': 485,\n",
       " 'hairbands': 150,\n",
       " 'animals': 1667,\n",
       " 'go': 190,\n",
       " 'fair': 180,\n",
       " 'urban': 188,\n",
       " 'toadstools': 636,\n",
       " 'leaves': 591,\n",
       " 'cupcake': 306,\n",
       " 'lace': 1514,\n",
       " 'catch': 424,\n",
       " 'cotton': 1406,\n",
       " 'beach': 331,\n",
       " 'spade': 425,\n",
       " 'boys': 511,\n",
       " 'kings': 874,\n",
       " 'choice': 874,\n",
       " 'caddy': 291,\n",
       " 'biscuit': 1838,\n",
       " 'empire': 1493,\n",
       " 'fawn': 532,\n",
       " 'birdy': 420,\n",
       " 'tags': 1387,\n",
       " 'oven': 1341,\n",
       " 'glove': 1124,\n",
       " 'namaste': 57,\n",
       " 'swagat': 57,\n",
       " 'classical': 29,\n",
       " 'vase': 63,\n",
       " 'hyacinth': 49,\n",
       " 'bulb': 57,\n",
       " 'towel': 834,\n",
       " 'dove': 688,\n",
       " 'colouring': 1180,\n",
       " 'brown': 1092,\n",
       " 'flock': 784,\n",
       " 'fern': 179,\n",
       " 'chrysanthemum': 202,\n",
       " 'chinese': 240,\n",
       " 'scissor': 146,\n",
       " 'etched': 427,\n",
       " 'tealight': 303,\n",
       " 'cooking': 212,\n",
       " 'place': 865,\n",
       " 'setting': 494,\n",
       " 's/15': 64,\n",
       " 'baubles': 376,\n",
       " 'french': 4932,\n",
       " 'wc': 306,\n",
       " 'soap': 711,\n",
       " 'medium': 1375,\n",
       " 'washroom': 371,\n",
       " 'bracelet': 1206,\n",
       " 'diamante': 1091,\n",
       " 'hair': 466,\n",
       " 'grip': 101,\n",
       " 'pack/2': 101,\n",
       " 'dia': 11,\n",
       " 'expandable': 52,\n",
       " 'ring': 1772,\n",
       " 'ruby': 113,\n",
       " 'montana': 28,\n",
       " 'present': 269,\n",
       " 'first': 755,\n",
       " 'aid': 628,\n",
       " 'monsoon': 178,\n",
       " 'circular': 329,\n",
       " 'rubbers': 60,\n",
       " 'stationery': 1524,\n",
       " 'socks': 141,\n",
       " 'mittens': 141,\n",
       " 'tapes': 94,\n",
       " 'set/9': 97,\n",
       " 'fabric': 685,\n",
       " 'three': 107,\n",
       " 'canvas': 303,\n",
       " '3d': 1220,\n",
       " 'stamps': 146,\n",
       " '36': 3270,\n",
       " 'foil': 349,\n",
       " 'sweetie': 107,\n",
       " 'cinammon': 196,\n",
       " 'stripes': 572,\n",
       " 'tins': 6899,\n",
       " 'jardin': 431,\n",
       " 'de': 409,\n",
       " 'provence': 101,\n",
       " 'playtime': 105,\n",
       " 'dinosaurs': 386,\n",
       " 'office': 581,\n",
       " 'record': 912,\n",
       " '7\"': 369,\n",
       " 'size': 1093,\n",
       " 'rocking': 828,\n",
       " 'horse': 998,\n",
       " 'regency': 9120,\n",
       " 'cakestand': 2607,\n",
       " 'bunting': 8001,\n",
       " 'longboard': 107,\n",
       " 'ironing': 107,\n",
       " 'playing': 1487,\n",
       " 'gentleman': 170,\n",
       " 'shirt': 170,\n",
       " 'repair': 294,\n",
       " 'foxy': 9,\n",
       " 'gents': 43,\n",
       " 'jet': 580,\n",
       " 'potting': 596,\n",
       " 'shed': 1523,\n",
       " 'sow': 2,\n",
       " \"'n'\": 2,\n",
       " 'world': 697,\n",
       " 'champion': 152,\n",
       " 'seed': 177,\n",
       " 'envelopes': 399,\n",
       " 'hi': 113,\n",
       " 'tec': 113,\n",
       " 'alpine': 113,\n",
       " 'polyester': 408,\n",
       " 'filler': 408,\n",
       " 'pad': 2126,\n",
       " '45x45cm': 144,\n",
       " 'rainy': 216,\n",
       " 'scarf': 270,\n",
       " 'pears': 1578,\n",
       " 'gazebo': 336,\n",
       " 'birdhouse': 700,\n",
       " 'engraved': 460,\n",
       " 'market': 212,\n",
       " 'crates': 212,\n",
       " 'crazy': 150,\n",
       " 'tray,': 86,\n",
       " 'bed': 86,\n",
       " 'pizza': 497,\n",
       " 'dots': 11,\n",
       " 'napkin': 836,\n",
       " 'charms': 738,\n",
       " 'button': 256,\n",
       " 'message': 265,\n",
       " 'herb': 1982,\n",
       " 'marker': 1824,\n",
       " 'mint': 1103,\n",
       " 'rosemary': 249,\n",
       " 'chives': 216,\n",
       " 'parsley': 247,\n",
       " 'thyme': 246,\n",
       " 'merry': 244,\n",
       " 'trees': 163,\n",
       " 'handbag': 385,\n",
       " 'happy': 2245,\n",
       " 'easter': 2434,\n",
       " 'cut': 424,\n",
       " 'season': 112,\n",
       " 'toast': 497,\n",
       " 'path': 156,\n",
       " 'journal': 352,\n",
       " 'squeezer': 21,\n",
       " 'washing': 1081,\n",
       " 'gloves': 847,\n",
       " 'licorice': 86,\n",
       " 'swiss': 301,\n",
       " 'roll': 1695,\n",
       " 'towel,': 147,\n",
       " 'spots': 443,\n",
       " 'bags': 288,\n",
       " 'double': 271,\n",
       " 'ridged': 200,\n",
       " 'pantry': 9760,\n",
       " 'multicolour': 777,\n",
       " 'confetti': 196,\n",
       " 'wick': 526,\n",
       " 'morris': 911,\n",
       " '16': 462,\n",
       " 'pistachio': 202,\n",
       " 'honeycomb': 1099,\n",
       " 'spirit': 160,\n",
       " 'level': 160,\n",
       " 'platter': 119,\n",
       " 'teacup': 3052,\n",
       " 'slice': 248,\n",
       " 'eight': 129,\n",
       " 'sporting': 214,\n",
       " 'fun': 625,\n",
       " 'ass': 282,\n",
       " 'col': 69,\n",
       " 'sand': 37,\n",
       " 'gecko': 10,\n",
       " \"p'weight\": 17,\n",
       " 'postcard': 447,\n",
       " 'spring': 633,\n",
       " 'chateau': 543,\n",
       " 'scales': 1948,\n",
       " 'multi': 587,\n",
       " 'lizard': 64,\n",
       " 'suction': 146,\n",
       " 'engine/car': 20,\n",
       " 'patches': 433,\n",
       " 'psychedelic': 504,\n",
       " 'apples': 3998,\n",
       " 'enchanted': 574,\n",
       " 'forest': 360,\n",
       " 'placemat': 310,\n",
       " 'flowerpower': 211,\n",
       " 'case': 155,\n",
       " 'life': 336,\n",
       " 'beautiful': 137,\n",
       " 'rounders': 366,\n",
       " 'childs': 1711,\n",
       " 'set/12': 144,\n",
       " 'taper': 95,\n",
       " 'ladder': 552,\n",
       " 'confectionery': 271,\n",
       " 'digestive': 186,\n",
       " 'biscuits': 722,\n",
       " 'stopper': 17,\n",
       " 'welcome': 1065,\n",
       " 'set/4': 1196,\n",
       " 'modern': 520,\n",
       " 'swallow': 345,\n",
       " 'junk': 275,\n",
       " 'mail': 275,\n",
       " 'tile': 1069,\n",
       " 'finger': 62,\n",
       " 'beurre': 240,\n",
       " 'dish': 1464,\n",
       " 'greeting': 1163,\n",
       " 'screen': 106,\n",
       " 'print': 413,\n",
       " 'fonts': 331,\n",
       " 'peace': 171,\n",
       " 'earth': 32,\n",
       " 'cocktail': 821,\n",
       " 'parasols': 603,\n",
       " 'strongman': 534,\n",
       " 'school': 1087,\n",
       " 'crayons': 450,\n",
       " 'games': 236,\n",
       " 'booze': 59,\n",
       " 'women': 59,\n",
       " 'lads': 157,\n",
       " 'gingerbread': 691,\n",
       " 'man': 881,\n",
       " \"can't\": 124,\n",
       " 'heat': 123,\n",
       " 'please': 1045,\n",
       " 'one': 1323,\n",
       " 'person': 1133,\n",
       " 'shape': 1367,\n",
       " 'frying': 1323,\n",
       " 'pan': 1598,\n",
       " '200': 232,\n",
       " 'bendy': 232,\n",
       " 'straws': 621,\n",
       " 'sketchbook': 1580,\n",
       " 'singing': 596,\n",
       " 'emergency': 253,\n",
       " 'decorative': 1745,\n",
       " 'frieze': 29,\n",
       " 'door': 3130,\n",
       " 'drawers': 208,\n",
       " 'joy': 107,\n",
       " 'noel': 267,\n",
       " 'black+silver': 151,\n",
       " 'cosmetic': 180,\n",
       " 'regal': 24,\n",
       " 'candlepot': 120,\n",
       " 'swirlglass': 210,\n",
       " 'pedestal': 237,\n",
       " 'magazine': 453,\n",
       " 'food': 2085,\n",
       " 'raffia': 741,\n",
       " 'fluted': 570,\n",
       " 'kashmir': 87,\n",
       " 'folkart': 1315,\n",
       " 'ivory/red': 275,\n",
       " 'grand': 392,\n",
       " 'chocolatecandle': 303,\n",
       " 'shelf': 786,\n",
       " 'images': 787,\n",
       " 'curious': 169,\n",
       " 'days': 97,\n",
       " 'jewellery': 824,\n",
       " 'charlie+lola\"extremely': 106,\n",
       " 'busy\"': 106,\n",
       " 'lolita': 55,\n",
       " 'lets': 78,\n",
       " 'shopping': 992,\n",
       " 'camouflage': 237,\n",
       " 'torch': 171,\n",
       " 'dragonfly': 124,\n",
       " 'helicopter': 217,\n",
       " 'shark': 93,\n",
       " \"doctor's\": 74,\n",
       " 'carriage': 321,\n",
       " 'cats': 601,\n",
       " 'poncho': 258,\n",
       " 'glitter': 1169,\n",
       " 'lilac': 73,\n",
       " 'bows': 93,\n",
       " 'bingo': 387,\n",
       " 'stripe': 1884,\n",
       " 'fringe': 211,\n",
       " 'hammock': 274,\n",
       " 'kittens': 101,\n",
       " 'chopsticks': 460,\n",
       " 'floral': 1936,\n",
       " 'bohemian': 213,\n",
       " 'collage': 853,\n",
       " 'folk': 602,\n",
       " 'robot': 435,\n",
       " 'pudding': 544,\n",
       " 'choc': 405,\n",
       " 'truffle': 76,\n",
       " 'polkadots': 161,\n",
       " 'fauna': 141,\n",
       " 'ladle': 344,\n",
       " 'buttons': 209,\n",
       " 'pearls': 276,\n",
       " 'padded': 280,\n",
       " 'album': 416,\n",
       " 'local': 117,\n",
       " 'cafe': 584,\n",
       " 'wash': 303,\n",
       " 'pig': 150,\n",
       " 'keyring': 147,\n",
       " 'sound': 83,\n",
       " 'choc+blue': 137,\n",
       " 'fresh': 279,\n",
       " 'wool': 396,\n",
       " 'paperweight': 243,\n",
       " 'lipstick': 628,\n",
       " 'toothpaste': 209,\n",
       " 'watering': 1380,\n",
       " 'bunny': 1624,\n",
       " 'air': 108,\n",
       " 'hostess': 107,\n",
       " 'rake': 139,\n",
       " 'brush': 1087,\n",
       " 'ludo': 222,\n",
       " 'modelling': 391,\n",
       " 'clay': 391,\n",
       " 'cardholder': 310,\n",
       " 'croquet': 307,\n",
       " 'baby': 1634,\n",
       " 'diva': 237,\n",
       " 'motorbike': 271,\n",
       " 'planter': 240,\n",
       " 'container': 1704,\n",
       " 'number': 637,\n",
       " 'naughty': 146,\n",
       " 'children': 234,\n",
       " 'feather': 1068,\n",
       " 'pink/white': 83,\n",
       " '60cm': 188,\n",
       " '120cm': 61,\n",
       " 'droplet': 6,\n",
       " 'jewel': 155,\n",
       " 'icicle,': 23,\n",
       " 'smallfolkart': 42,\n",
       " 'dec': 375,\n",
       " 'decorations': 1661,\n",
       " 'condiment': 27,\n",
       " 'scotties': 116,\n",
       " 'dogs': 339,\n",
       " 'bib': 261,\n",
       " 'puppies': 291,\n",
       " 'halloween': 85,\n",
       " 'ghost': 85,\n",
       " 'pillar': 258,\n",
       " 'set/3': 1146,\n",
       " 'ocean': 209,\n",
       " 'tumbler,': 21,\n",
       " 'laundry': 502,\n",
       " '15c': 356,\n",
       " 'baths': 760,\n",
       " 'sign,cupcake': 239,\n",
       " 'pink/purple': 62,\n",
       " 'radio': 64,\n",
       " 'blossom': 737,\n",
       " 'flask': 212,\n",
       " 'notelets': 42,\n",
       " 'envelope': 212,\n",
       " '50': 419,\n",
       " 'yuletide': 102,\n",
       " '15cm': 342,\n",
       " 'letter': 1110,\n",
       " 'beaded': 941,\n",
       " 'susan': 173,\n",
       " '21': 173,\n",
       " 'needle': 173,\n",
       " 'stacking': 121,\n",
       " 'midnight': 177,\n",
       " 'pair': 208,\n",
       " 'slide': 63,\n",
       " 'm.o.p': 100,\n",
       " 'orbit': 190,\n",
       " 'drop': 554,\n",
       " 'earrings': 741,\n",
       " 'cluster': 110,\n",
       " 'necklace+bracelet': 67,\n",
       " 'hibiscus': 16,\n",
       " 'fruit': 773,\n",
       " 'salad': 292,\n",
       " 'murano': 96,\n",
       " 'twist': 95,\n",
       " 'copper': 159,\n",
       " 'boudicca': 232,\n",
       " 'silver/amethyst': 19,\n",
       " 'leaf': 3238,\n",
       " 'lariat': 20,\n",
       " 'stone': 12,\n",
       " 'enamel+glass': 93,\n",
       " 'comb': 128,\n",
       " '\"d\"': 32,\n",
       " 'bling': 568,\n",
       " 'key': 2547,\n",
       " '\"g\"': 30,\n",
       " '\"h\"': 30,\n",
       " '\"j\"': 41,\n",
       " '\"r\"': 25,\n",
       " 'dotcom': 750,\n",
       " ...}"
      ]
     },
     "execution_count": 47,
     "metadata": {},
     "output_type": "execute_result"
    }
   ],
   "source": [
    "MostRepeatedWords = {}\n",
    "\n",
    "for Word in words : \n",
    "    if Word in MostRepeatedWords.keys() : \n",
    "        MostRepeatedWords[Word] +=1\n",
    "    else : \n",
    "        MostRepeatedWords[Word] =1\n",
    "MostRepeatedWords"
   ]
  },
  {
   "cell_type": "code",
   "execution_count": 48,
   "id": "8e8023dd",
   "metadata": {
    "execution": {
     "iopub.execute_input": "2022-11-16T19:37:45.300306Z",
     "iopub.status.busy": "2022-11-16T19:37:45.299975Z",
     "iopub.status.idle": "2022-11-16T19:37:45.306865Z",
     "shell.execute_reply": "2022-11-16T19:37:45.305581Z"
    },
    "papermill": {
     "duration": 0.033229,
     "end_time": "2022-11-16T19:37:45.309365",
     "exception": false,
     "start_time": "2022-11-16T19:37:45.276136",
     "status": "completed"
    },
    "tags": []
   },
   "outputs": [
    {
     "data": {
      "text/plain": [
       "2463"
      ]
     },
     "execution_count": 48,
     "metadata": {},
     "output_type": "execute_result"
    }
   ],
   "source": [
    "# see unique words\n",
    "len(MostRepeatedWords.keys())"
   ]
  },
  {
   "cell_type": "code",
   "execution_count": 49,
   "id": "24ac41ce",
   "metadata": {
    "execution": {
     "iopub.execute_input": "2022-11-16T19:37:45.357854Z",
     "iopub.status.busy": "2022-11-16T19:37:45.357463Z",
     "iopub.status.idle": "2022-11-16T19:37:45.393419Z",
     "shell.execute_reply": "2022-11-16T19:37:45.391826Z"
    },
    "papermill": {
     "duration": 0.062998,
     "end_time": "2022-11-16T19:37:45.395725",
     "exception": false,
     "start_time": "2022-11-16T19:37:45.332727",
     "status": "completed"
    },
    "tags": []
   },
   "outputs": [
    {
     "data": {
      "text/plain": [
       "{'set': 54598,\n",
       " 'bag': 51911,\n",
       " 'red': 42902,\n",
       " 'heart': 38714,\n",
       " 'retrospot': 35126,\n",
       " 'vintage': 33748,\n",
       " 'design': 30066,\n",
       " 'pink': 29526,\n",
       " 'christmas': 25131,\n",
       " 'box': 24406,\n",
       " 'cake': 21461,\n",
       " 'jumbo': 21139,\n",
       " 'metal': 20842,\n",
       " 'white': 20813,\n",
       " 'blue': 19319,\n",
       " 'lunch': 18525,\n",
       " 'hanging': 17037,\n",
       " 'sign': 16998,\n",
       " 'holder': 16261,\n",
       " 'pack': 15637,\n",
       " 't-light': 14559,\n",
       " 'paper': 14365,\n",
       " 'small': 14333,\n",
       " 'card': 13280,\n",
       " 'decoration': 12981,\n",
       " 'wooden': 12708,\n",
       " 'polkadot': 12472,\n",
       " 'glass': 12125,\n",
       " 'cases': 12014,\n",
       " 'tea': 11836,\n",
       " 'bottle': 11697,\n",
       " '12': 11401,\n",
       " 'spaceboy': 10831,\n",
       " 'hot': 10517,\n",
       " 'water': 9978,\n",
       " 'large': 9798,\n",
       " 'pantry': 9760,\n",
       " 'home': 9545,\n",
       " 'tin': 9512,\n",
       " 'rose': 9402,\n",
       " 'paisley': 9326,\n",
       " 'ceramic': 9180,\n",
       " 'regency': 9120,\n",
       " 'green': 9119,\n",
       " 'dolly': 8447,\n",
       " 'doormat': 8385,\n",
       " 'mug': 8234,\n",
       " 'ivory': 8205,\n",
       " 'mini': 8185,\n",
       " 'cream': 8045,\n",
       " 'bunting': 8001,\n",
       " 'love': 8000,\n",
       " 'girl': 7793,\n",
       " 'assorted': 7587,\n",
       " 'party': 7559,\n",
       " 'clock': 7381,\n",
       " 'feltcraft': 7216,\n",
       " 'black': 7205,\n",
       " 'wicker': 7141,\n",
       " 'bowl': 7051,\n",
       " 'garden': 6944,\n",
       " 'kit': 6910,\n",
       " 'tins': 6899,\n",
       " 'woodland': 6874,\n",
       " 'fairy': 6777,\n",
       " 'wrap': 6763,\n",
       " 'frame': 6751,\n",
       " 'antique': 6478,\n",
       " 'drawer': 6418,\n",
       " 'charlotte': 6351,\n",
       " 'silver': 6273,\n",
       " 'colour': 6207,\n",
       " 'childrens': 6193,\n",
       " 'wall': 6137,\n",
       " 'birthday': 6123,\n",
       " 'strawberry': 6115,\n",
       " 'star': 6107,\n",
       " 'wood': 6032,\n",
       " '60': 5955,\n",
       " 'bird': 5871,\n",
       " 'zinc': 5635,\n",
       " 'union': 5465,\n",
       " 'gift': 5285,\n",
       " 'cutlery': 5185,\n",
       " 'jar': 5166,\n",
       " 'flower': 5130,\n",
       " 'suki': 5075,\n",
       " 'cup': 5048,\n",
       " 'candles': 5046,\n",
       " 'hearts': 5023,\n",
       " 'jam': 4997,\n",
       " 'knob': 4953,\n",
       " 'hand': 4944,\n",
       " 'french': 4932,\n",
       " 'candle': 4884,\n",
       " 'egg': 4838,\n",
       " 'pencils': 4771,\n",
       " 'cover': 4764,\n",
       " 'tree': 4763,\n",
       " \"50's\": 4734,\n",
       " 'storage': 4673,\n",
       " 'london': 4666,\n",
       " 'chocolate': 4627,\n",
       " 'warmer': 4622,\n",
       " 'trinket': 4555,\n",
       " 'alarm': 4551,\n",
       " 'traditional': 4507,\n",
       " 'bakelike': 4461,\n",
       " 'sweetheart': 4341,\n",
       " 'skull': 4309,\n",
       " 'ribbons': 4302,\n",
       " 'hook': 4238,\n",
       " 'travel': 4165,\n",
       " 'butterfly': 4147,\n",
       " 'tube': 4143,\n",
       " 'baking': 4132,\n",
       " 'doily': 4129,\n",
       " 'cushion': 4102,\n",
       " 'sweet': 4075,\n",
       " 'napkins': 4054,\n",
       " 'spot': 4050,\n",
       " 'apples': 3998,\n",
       " 'alphabet': 3921,\n",
       " 'skulls': 3902,\n",
       " 'enamel': 3878,\n",
       " 'plate': 3825,\n",
       " 'jack': 3816,\n",
       " '72': 3816,\n",
       " 'tissues': 3806,\n",
       " 'slate': 3804,\n",
       " 'tier': 3751,\n",
       " '20': 3744,\n",
       " 'plasters': 3733,\n",
       " 'gingham': 3655,\n",
       " 'round': 3644,\n",
       " 'kitchen': 3608,\n",
       " 'dog': 3604,\n",
       " 'keep': 3587,\n",
       " 'calm': 3540,\n",
       " 'light': 3534,\n",
       " 'chain': 3534,\n",
       " 'craft': 3516,\n",
       " 'stand': 3501,\n",
       " 'photo': 3470,\n",
       " 'saucer': 3389,\n",
       " 'cookie': 3364,\n",
       " 'garland': 3358,\n",
       " 'scandinavian': 3352,\n",
       " 'natural': 3341,\n",
       " '36': 3270,\n",
       " 'boxes': 3254,\n",
       " 'shopper': 3249,\n",
       " 'leaf': 3238,\n",
       " 'babushka': 3211,\n",
       " 'painted': 3209,\n",
       " 'cards': 3178,\n",
       " 'apron': 3176,\n",
       " 'spotty': 3171,\n",
       " 'english': 3160,\n",
       " 'wallet': 3150,\n",
       " 'door': 3130,\n",
       " 'felt': 3126,\n",
       " 'reel': 3109,\n",
       " 'ribbon': 3108,\n",
       " 'edwardian': 3063,\n",
       " 'teacup': 3052,\n",
       " 'lights': 3045,\n",
       " 'picnic': 3040,\n",
       " 'magnets': 2992,\n",
       " 'magic': 2958,\n",
       " 'sewing': 2914,\n",
       " 'finish': 2908,\n",
       " 'coffee': 2907,\n",
       " 'notebook': 2894,\n",
       " 'rabbit': 2870,\n",
       " 'pot': 2783,\n",
       " 'art': 2709,\n",
       " 'diner': 2704,\n",
       " 'victorian': 2651,\n",
       " 'making': 2643,\n",
       " 'cat': 2634,\n",
       " 'cakestand': 2607,\n",
       " 'circus': 2588,\n",
       " 'parade': 2588,\n",
       " 'recipe': 2570,\n",
       " 'doilies': 2561,\n",
       " 'key': 2547,\n",
       " 'set/6': 2537,\n",
       " 'picture': 2515,\n",
       " 'chalkboard': 2502,\n",
       " 'mirror': 2494,\n",
       " 'easter': 2434,\n",
       " 'bell': 2416,\n",
       " 'pen': 2412,\n",
       " 'roses': 2386,\n",
       " 'lantern': 2371,\n",
       " 'milk': 2369,\n",
       " '10': 2353,\n",
       " 'jug': 2348,\n",
       " 'night': 2346,\n",
       " 'yellow': 2328,\n",
       " 'cabinet': 2325,\n",
       " 'retro': 2321,\n",
       " 'book': 2284,\n",
       " 'block': 2281,\n",
       " 'classic': 2280,\n",
       " 'parasol': 2266,\n",
       " 'happy': 2245,\n",
       " 'doll': 2244,\n",
       " 'hanger': 2201,\n",
       " 'snack': 2199,\n",
       " 'table': 2194,\n",
       " 'cutters': 2184,\n",
       " 't-lights': 2140,\n",
       " 'rack': 2133,\n",
       " 'pad': 2126,\n",
       " 'rustic': 2122,\n",
       " 'piece': 2120,\n",
       " 'owl': 2099,\n",
       " 'food': 2085,\n",
       " 'toy': 2057,\n",
       " 'tray': 2015,\n",
       " 'herb': 1982,\n",
       " 'money': 1967,\n",
       " 'postage': 1961,\n",
       " 'kneeling': 1959,\n",
       " 'scales': 1948,\n",
       " 'floral': 1936,\n",
       " 'apple': 1928,\n",
       " 'basket': 1902,\n",
       " 'stripe': 1884,\n",
       " 'bathroom': 1880,\n",
       " 'treasure': 1879,\n",
       " 'top': 1865,\n",
       " 'bells': 1861,\n",
       " 'biscuit': 1838,\n",
       " 'marker': 1824,\n",
       " 'board': 1817,\n",
       " 'dinosaur': 1815,\n",
       " 'time': 1813,\n",
       " 'lola': 1800,\n",
       " 'flag': 1774,\n",
       " 'ring': 1772,\n",
       " 'lid': 1766,\n",
       " 'bin': 1748,\n",
       " 'building': 1747,\n",
       " 'word': 1747,\n",
       " 'dinner': 1746,\n",
       " 'decorative': 1745,\n",
       " 'towels': 1721,\n",
       " 'led': 1718,\n",
       " 'gardeners': 1718,\n",
       " 'stickers': 1711,\n",
       " 'childs': 1711,\n",
       " 'container': 1704,\n",
       " 'roll': 1695,\n",
       " 'sugar': 1687,\n",
       " 'tissue': 1684,\n",
       " 'bank': 1679,\n",
       " 'jigsaw': 1676,\n",
       " 'animals': 1667,\n",
       " 'acrylic': 1661,\n",
       " 'decorations': 1661,\n",
       " 'kids': 1657,\n",
       " 'style': 1643,\n",
       " 'coat': 1634,\n",
       " 'baby': 1634,\n",
       " 'single': 1628,\n",
       " 'bunny': 1624,\n",
       " 'umbrella': 1621,\n",
       " 'measuring': 1620,\n",
       " 'shoulder': 1610,\n",
       " 'font': 1608,\n",
       " 'tonic': 1606,\n",
       " 'pan': 1598,\n",
       " 'game': 1595,\n",
       " 'cakes': 1587,\n",
       " 'doiley': 1583,\n",
       " 'sketchbook': 1580,\n",
       " 'pears': 1578,\n",
       " 'popcorn': 1577,\n",
       " 'doorstop': 1559,\n",
       " 'toadstool': 1555,\n",
       " 'purse': 1532,\n",
       " 'stationery': 1524,\n",
       " 'shed': 1523,\n",
       " 'wreath': 1515,\n",
       " 'lace': 1514,\n",
       " 'beaker': 1512,\n",
       " 'tape': 1510,\n",
       " 'chick': 1506,\n",
       " 'ornament': 1501,\n",
       " 'tidy': 1496,\n",
       " 'charm': 1493,\n",
       " 'empire': 1493,\n",
       " 'ball': 1492,\n",
       " 'playing': 1487,\n",
       " 'purple': 1471,\n",
       " 'dish': 1464,\n",
       " \"poppy's\": 1455,\n",
       " 'playhouse': 1455,\n",
       " 'teatime': 1453,\n",
       " '24': 1453,\n",
       " 'bread': 1452,\n",
       " 'daisy': 1445,\n",
       " 'stars': 1433,\n",
       " 'scented': 1433,\n",
       " 'drawing': 1420,\n",
       " 'cotton': 1406,\n",
       " 'ant': 1401,\n",
       " 'airline': 1389,\n",
       " 'tags': 1387,\n",
       " 'watering': 1380,\n",
       " 'gin': 1378,\n",
       " 'mat': 1376,\n",
       " 'medium': 1375,\n",
       " 'charlie': 1372,\n",
       " 'shape': 1367,\n",
       " 'balloons': 1366,\n",
       " 'set/20': 1358,\n",
       " 'lovebird': 1356,\n",
       " 'tall': 1355,\n",
       " 'jars': 1354,\n",
       " 'skull.': 1350,\n",
       " 'wire': 1344,\n",
       " 'oven': 1341,\n",
       " 'toilet': 1327,\n",
       " 'one': 1323,\n",
       " 'frying': 1323,\n",
       " 'folkart': 1315,\n",
       " 'cosy': 1307,\n",
       " 'recycled': 1305,\n",
       " 'fob': 1293,\n",
       " 'harmonica': 1291,\n",
       " 'house': 1288,\n",
       " 'moulds': 1269,\n",
       " 'botanical': 1268,\n",
       " 'friends': 1266,\n",
       " 'sticks': 1266,\n",
       " 'pencil': 1264,\n",
       " 'crystal': 1258,\n",
       " 'filigree': 1258,\n",
       " 'baroque': 1257,\n",
       " 'giant': 1254,\n",
       " 'orange': 1244,\n",
       " 'folding': 1244,\n",
       " 'knick': 1243,\n",
       " 'knack': 1243,\n",
       " 'gold': 1239,\n",
       " '3d': 1220,\n",
       " 'pegs': 1216,\n",
       " 'peg': 1207,\n",
       " 'bracelet': 1206,\n",
       " 'cars': 1197,\n",
       " 'set/4': 1196,\n",
       " 'princess': 1192,\n",
       " 'printed': 1189,\n",
       " 'colouring': 1180,\n",
       " 'owls': 1178,\n",
       " 'breakfast': 1171,\n",
       " 'glitter': 1169,\n",
       " 'plant': 1168,\n",
       " 'greeting': 1163,\n",
       " 'set/10': 1159,\n",
       " 'scottie': 1158,\n",
       " 'grey': 1155,\n",
       " 'funky': 1147,\n",
       " 'set/3': 1146,\n",
       " 'chest': 1141,\n",
       " 'acapulco': 1135,\n",
       " 'person': 1133,\n",
       " 'billboard': 1126,\n",
       " 'glove': 1124,\n",
       " 'angel': 1123,\n",
       " 'parisienne': 1122,\n",
       " 'cornice': 1121,\n",
       " 'sticker': 1120,\n",
       " 'ruler': 1114,\n",
       " 'jelly': 1111,\n",
       " 'letter': 1110,\n",
       " 'flowers': 1104,\n",
       " 'mint': 1103,\n",
       " 'honeycomb': 1099,\n",
       " 'size': 1093,\n",
       " 'brown': 1092,\n",
       " 'diamante': 1091,\n",
       " 'gumball': 1088,\n",
       " 'chalk': 1088,\n",
       " 'school': 1087,\n",
       " 'brush': 1087,\n",
       " 'cutter': 1082,\n",
       " 'washing': 1081,\n",
       " 'fan': 1080,\n",
       " 'teapot': 1078,\n",
       " 'diet': 1074,\n",
       " 'magnetic': 1074,\n",
       " 'stamp': 1073,\n",
       " 'plates': 1069,\n",
       " 'tile': 1069,\n",
       " 'feather': 1068,\n",
       " 'fancy': 1065,\n",
       " 'welcome': 1065,\n",
       " 'park': 1065,\n",
       " 'cottage': 1047,\n",
       " 'please': 1045,\n",
       " 'list': 1041,\n",
       " 'calendar': 1039,\n",
       " 'charlie+lola': 1036,\n",
       " 'bowls': 1009,\n",
       " 'bath': 1007,\n",
       " 'horse': 998,\n",
       " 'shopping': 992,\n",
       " 'square': 990,\n",
       " 'pc': 989,\n",
       " '11': 988,\n",
       " 'dominoes': 970,\n",
       " 'rex': 967,\n",
       " 'cash+carry': 967,\n",
       " 'bucket': 952,\n",
       " 'luggage': 952,\n",
       " 'cups': 947,\n",
       " 'card,': 944,\n",
       " 'snap': 944,\n",
       " 'beaded': 941,\n",
       " 'spoons': 939,\n",
       " 'lavender': 937,\n",
       " 'set/5': 937,\n",
       " 'ice': 915,\n",
       " 'record': 912,\n",
       " 'memo': 912,\n",
       " 'morris': 911,\n",
       " 'stocking': 906,\n",
       " 'tag': 904,\n",
       " 'writing': 900,\n",
       " 'jingle': 899,\n",
       " 'triple': 897,\n",
       " 'letters': 896,\n",
       " 'pottering': 892,\n",
       " 'trellis': 890,\n",
       " 'mould': 890,\n",
       " 'lip': 887,\n",
       " 'gloss': 887,\n",
       " 'man': 881,\n",
       " 'asstd': 877,\n",
       " 'kings': 874,\n",
       " 'choice': 874,\n",
       " 'spice': 870,\n",
       " 'place': 865,\n",
       " 'bundle': 859,\n",
       " 'books': 859,\n",
       " 'skittles': 854,\n",
       " 'collage': 853,\n",
       " 'candleholder': 850,\n",
       " 'gloves': 847,\n",
       " 'new': 846,\n",
       " 'stick': 841,\n",
       " 'napkin': 836,\n",
       " 'toys': 834,\n",
       " 'towel': 834,\n",
       " 'heads': 831,\n",
       " 'tails': 831,\n",
       " 'coloured': 830,\n",
       " 'loaf': 829,\n",
       " 'rocking': 828,\n",
       " 'jewellery': 824,\n",
       " 'tv': 821,\n",
       " 'cocktail': 821,\n",
       " 'crackers': 816,\n",
       " 'doughnut': 815,\n",
       " 'village': 815,\n",
       " 'flannel': 811,\n",
       " 'wine': 807,\n",
       " 'soft': 801,\n",
       " 'pocket': 800,\n",
       " 'shaped': 798,\n",
       " 'rotating': 797,\n",
       " 'knitted': 794,\n",
       " 'clothes': 794,\n",
       " 'sleigh': 794,\n",
       " 'knitting': 789,\n",
       " 'matches': 788,\n",
       " \"children's\": 788,\n",
       " 'images': 787,\n",
       " 'shelf': 786,\n",
       " 'flock': 784,\n",
       " 'silk': 783,\n",
       " 'grow': 777,\n",
       " 'multicolour': 777,\n",
       " 'cherry': 776,\n",
       " 'jewelled': 774,\n",
       " 's/4': 774,\n",
       " 'fruit': 773,\n",
       " 'apothecary': 772,\n",
       " 'candy': 768,\n",
       " 'of4': 764,\n",
       " 'swirly': 763,\n",
       " 'recycling': 760,\n",
       " 'baths': 760,\n",
       " 'first': 755,\n",
       " 'dotcom': 750,\n",
       " 'family': 746,\n",
       " 'cook': 745,\n",
       " 'come': 742,\n",
       " 'raffia': 741,\n",
       " 'earrings': 741,\n",
       " 'charms': 738,\n",
       " 'blossom': 737,\n",
       " 'ladies': 735,\n",
       " 'glaze': 726,\n",
       " 'thermometer': 724,\n",
       " 'tote': 722,\n",
       " 'biscuits': 722,\n",
       " 'gymkhana': 720,\n",
       " 'vanilla': 715,\n",
       " 'seaside': 712,\n",
       " 'soap': 711,\n",
       " 'bead': 711,\n",
       " 'four': 709,\n",
       " 'backpack': 708,\n",
       " 'reindeer': 703,\n",
       " 'marbles': 702,\n",
       " 'stencil': 702,\n",
       " 'passport': 701,\n",
       " 'birdhouse': 700,\n",
       " 'world': 697,\n",
       " 'fridge': 691,\n",
       " 'gingerbread': 691,\n",
       " 'dove': 688,\n",
       " 'fabric': 685,\n",
       " 'rain': 683,\n",
       " 'holiday': 680,\n",
       " 'chilli': 679,\n",
       " 'poorly': 679,\n",
       " 'england': 678,\n",
       " 'crackle': 677,\n",
       " 'necklace': 669,\n",
       " 'sympathy': 656,\n",
       " 'homemade': 655,\n",
       " 'string': 654,\n",
       " 'bicycle': 654,\n",
       " 'boxed': 651,\n",
       " 'clear': 647,\n",
       " 'deluxe': 643,\n",
       " 'hen': 642,\n",
       " 'pattern': 641,\n",
       " 'fruits': 641,\n",
       " 'hldr': 639,\n",
       " 'number': 637,\n",
       " 'toadstools': 636,\n",
       " 'spring': 633,\n",
       " 'scent': 630,\n",
       " 'aid': 628,\n",
       " 'lipstick': 628,\n",
       " 'sponge': 627,\n",
       " 'jazz': 625,\n",
       " 'fun': 625,\n",
       " 'nancy': 625,\n",
       " 'paint': 623,\n",
       " 'tutti': 623,\n",
       " 'frutti': 623,\n",
       " 'straws': 621,\n",
       " 'embroidered': 620,\n",
       " 'bunnies': 619,\n",
       " 'girls': 616,\n",
       " 'area': 610,\n",
       " 'balloon': 605,\n",
       " 'elephant': 605,\n",
       " 'parasols': 603,\n",
       " 'chicken': 602,\n",
       " 'folk': 602,\n",
       " 'cats': 601,\n",
       " 'make': 598,\n",
       " 'stripey': 598,\n",
       " 'santa': 598,\n",
       " 'holly': 598,\n",
       " 'save': 597,\n",
       " 'planet': 597,\n",
       " 'buffalo': 597,\n",
       " 'bill': 597,\n",
       " 'potting': 596,\n",
       " 'singing': 596,\n",
       " 'leaves': 591,\n",
       " 'little': 587,\n",
       " 'multi': 587,\n",
       " 'scotty': 585,\n",
       " 'decoupage': 584,\n",
       " 'cafe': 584,\n",
       " 'office': 581,\n",
       " 'jet': 580,\n",
       " 'mushroom': 579,\n",
       " 'enchanted': 574,\n",
       " 'tea,coffee,sugar': 574,\n",
       " 'stripes': 572,\n",
       " 'manual': 572,\n",
       " 'erasers': 570,\n",
       " 'fluted': 570,\n",
       " 'exercise': 569,\n",
       " 'bling': 568,\n",
       " 'rope': 567,\n",
       " 'coaster': 566,\n",
       " 'willie': 561,\n",
       " 'winkie': 561,\n",
       " 'designs': 559,\n",
       " 'placemats': 555,\n",
       " 'invites': 554,\n",
       " 'advent': 554,\n",
       " 'drop': 554,\n",
       " 'rectangle': 552,\n",
       " 'ladder': 552,\n",
       " 'organiser': 551,\n",
       " 'pens': 549,\n",
       " 'mix': 549,\n",
       " 'disco': 546,\n",
       " 'pin': 546,\n",
       " 'bottles': 545,\n",
       " 'pudding': 544,\n",
       " 'chateau': 543,\n",
       " 'war': 542,\n",
       " 'gliders': 542,\n",
       " 'incense': 540,\n",
       " 'pannetone': 538,\n",
       " 'mirrored': 537,\n",
       " 'fork': 537,\n",
       " 'bauble': 535,\n",
       " 'swallows': 535,\n",
       " 'strongman': 534,\n",
       " 'fawn': 532,\n",
       " 'a7': 532,\n",
       " 'sock': 528,\n",
       " 'wick': 526,\n",
       " 'colours': 525,\n",
       " 'mobile': 523,\n",
       " 'patterns': 522,\n",
       " 'bon': 522,\n",
       " 'modern': 520,\n",
       " 'spoon': 520,\n",
       " 'blocks': 515,\n",
       " 'crochet': 513,\n",
       " 'boys': 511,\n",
       " 'nesting': 508,\n",
       " 'oval': 506,\n",
       " 'psychedelic': 504,\n",
       " 'day': 504,\n",
       " 'laundry': 502,\n",
       " 'dairy': 500,\n",
       " 'maid': 500,\n",
       " 'caravan': 498,\n",
       " 'spinning': 498,\n",
       " 'tops': 498,\n",
       " 'turquoise': 498,\n",
       " 'pizza': 497,\n",
       " 'toast': 497,\n",
       " 'setting': 494,\n",
       " 'coasters': 493,\n",
       " 'way': 486,\n",
       " 'gentlemen': 485,\n",
       " 'hairband': 485,\n",
       " 'badges': 485,\n",
       " 'mice': 483,\n",
       " 'big': 483,\n",
       " 'basil': 478,\n",
       " 'angels': 475,\n",
       " 'trim': 475,\n",
       " 'sheet': 474,\n",
       " 'sack': 473,\n",
       " 'lamp': 472,\n",
       " 'sundae': 472,\n",
       " 'keepsake': 471,\n",
       " 'confusing': 469,\n",
       " 'origami': 469,\n",
       " 'calculator': 467,\n",
       " 'chicks': 467,\n",
       " 'hair': 466,\n",
       " 'reds': 465,\n",
       " 'marshmallows': 464,\n",
       " 'portrait': 463,\n",
       " 'paris': 462,\n",
       " '16': 462,\n",
       " 'engraved': 460,\n",
       " 'chopsticks': 460,\n",
       " 'beware': 458,\n",
       " 'soldier': 455,\n",
       " 'windmill': 455,\n",
       " 'magazine': 453,\n",
       " 'washbag': 453,\n",
       " 'occupied': 452,\n",
       " 'vacant': 452,\n",
       " 'skipping': 451,\n",
       " 'woolly': 450,\n",
       " 'crayons': 450,\n",
       " 'hottie': 449,\n",
       " 'heart.': 449,\n",
       " 'postcard': 447,\n",
       " 'pirate': 445,\n",
       " 'patrolled': 445,\n",
       " 'spots': 443,\n",
       " 'notebooks': 441,\n",
       " 'parcel': 441,\n",
       " 'soldiers': 439,\n",
       " 'bedroom': 436,\n",
       " 's/3': 435,\n",
       " 'robot': 435,\n",
       " 'lolly': 435,\n",
       " 'pinks': 434,\n",
       " 'patches': 433,\n",
       " 'jardin': 431,\n",
       " 'open': 431,\n",
       " 'etched': 427,\n",
       " 'spade': 425,\n",
       " 'catch': 424,\n",
       " 'cut': 424,\n",
       " 'petit': 424,\n",
       " 'crate': 423,\n",
       " 'take': 422,\n",
       " 'leave': 422,\n",
       " 'cacti': 422,\n",
       " 'ticket': 422,\n",
       " 'butter': 421,\n",
       " 'birdy': 420,\n",
       " '50': 419,\n",
       " 'lovebirds': 418,\n",
       " 'romantic': 417,\n",
       " 'check': 417,\n",
       " 'musical': 417,\n",
       " 'album': 416,\n",
       " 'tokyo': 413,\n",
       " '78': 413,\n",
       " 'print': 413,\n",
       " 'embossed': 410,\n",
       " 'de': 409,\n",
       " 'polyester': 408,\n",
       " 'filler': 408,\n",
       " 'choc': 405,\n",
       " 'set/2': 403,\n",
       " 'snowmen': 403,\n",
       " 'citronella': 403,\n",
       " 'snakes': 401,\n",
       " 'ladders': 401,\n",
       " 'settings': 400,\n",
       " 'pearl': 400,\n",
       " 'envelopes': 399,\n",
       " 'clips': 398,\n",
       " 'wool': 396,\n",
       " 'strawbery': 396,\n",
       " 'poppies': 393,\n",
       " 'grand': 392,\n",
       " 'closed': 392,\n",
       " 'modelling': 391,\n",
       " 'clay': 391,\n",
       " 'cigar': 390,\n",
       " 'thank': 390,\n",
       " 'bingo': 387,\n",
       " 'dinosaurs': 386,\n",
       " 'handbag': 385,\n",
       " 'monkey': 385,\n",
       " 'woven': 385,\n",
       " 'brocante': 382,\n",
       " 'magnet': 381,\n",
       " 'emily': 378,\n",
       " 'dispenser': 378,\n",
       " 'fashion': 377,\n",
       " 'baubles': 376,\n",
       " 'curio': 376,\n",
       " 'dec': 375,\n",
       " 'birdcage': 373,\n",
       " \"i'm\": 372,\n",
       " 'washroom': 371,\n",
       " 'animal': 371,\n",
       " 'stool': 370,\n",
       " '7\"': 369,\n",
       " 'rosie': 368,\n",
       " 'campagne': 368,\n",
       " 'revolver': 367,\n",
       " 'rounders': 366,\n",
       " 'back': 364,\n",
       " 'porcelain': 363,\n",
       " 'iron': 361,\n",
       " 'forest': 360,\n",
       " 'piggy': 357,\n",
       " 'cube': 356,\n",
       " '15c': 356,\n",
       " 'bull': 356,\n",
       " 'aged': 355,\n",
       " 'journal': 352,\n",
       " 'danish': 351,\n",
       " 'sunflower': 350,\n",
       " 'foil': 349,\n",
       " 'measure': 349,\n",
       " 'eggs': 349,\n",
       " 'beads': 348,\n",
       " 'carry': 347,\n",
       " 'cowboys': 346,\n",
       " 'cracker': 346,\n",
       " 'swallow': 345,\n",
       " 'ollie': 345,\n",
       " 'beak': 345,\n",
       " 'molly': 344,\n",
       " 'ladle': 344,\n",
       " '15cm': 342,\n",
       " 'cupid': 340,\n",
       " 'dogs': 339,\n",
       " 'candlestick': 336,\n",
       " 'gazebo': 336,\n",
       " 'life': 336,\n",
       " 'livingroom': 335,\n",
       " 'spotted': 334,\n",
       " 'beach': 331,\n",
       " 'fonts': 331,\n",
       " 'circular': 329,\n",
       " 'bus': 328,\n",
       " 'secret': 327,\n",
       " 'rocket': 326,\n",
       " 'landmark': 326,\n",
       " 'flying': 325,\n",
       " 'farm': 324,\n",
       " 'clip': 323,\n",
       " 'carriage': 321,\n",
       " 'frog': 321,\n",
       " 'rolling': 320,\n",
       " 'du': 319,\n",
       " 'sud': 319,\n",
       " 'stamped': 318,\n",
       " 'dressing': 312,\n",
       " 'placemat': 310,\n",
       " 'cardholder': 310,\n",
       " 'full': 307,\n",
       " 'croquet': 307,\n",
       " 'flytrap': 307,\n",
       " 'notepad': 307,\n",
       " 'cupcake': 306,\n",
       " 'wc': 306,\n",
       " 'moody': 305,\n",
       " '125g': 304,\n",
       " 'amelie': 304,\n",
       " 'tealight': 303,\n",
       " 'canvas': 303,\n",
       " 'chocolatecandle': 303,\n",
       " 'wash': 303,\n",
       " 'teddy': 303,\n",
       " 'plastic': 303,\n",
       " 'scrubbing': 303,\n",
       " 'swiss': 301,\n",
       " 'best': 301,\n",
       " 'crossbones': 300,\n",
       " 'sleeping': 298,\n",
       " 'olivia': 295,\n",
       " 'mistletoe': 295,\n",
       " 'black/blue': 294,\n",
       " 'repair': 294,\n",
       " 'lounge,metal': 293,\n",
       " 'pick': 293,\n",
       " 'boom': 292,\n",
       " 'salad': 292,\n",
       " 'caddy': 291,\n",
       " 'puppies': 291,\n",
       " 'glass.': 291,\n",
       " 'garage': 290,\n",
       " 'note': 290,\n",
       " 'snowy': 288,\n",
       " 'bags': 288,\n",
       " 'giraffe': 287,\n",
       " 'island': 286,\n",
       " 'transport': 285,\n",
       " 'ass': 282,\n",
       " 'refectory': 282,\n",
       " 'padded': 280,\n",
       " 'fresh': 279,\n",
       " 'queens': 279,\n",
       " 'guard': 279,\n",
       " 'keys': 277,\n",
       " 'pearls': 276,\n",
       " 'junk': 275,\n",
       " 'mail': 275,\n",
       " 'ivory/red': 275,\n",
       " 'boy': 275,\n",
       " 'mosaic': 275,\n",
       " 'hammock': 274,\n",
       " 'indians': 274,\n",
       " 'wish': 274,\n",
       " 'double': 271,\n",
       " 'confectionery': 271,\n",
       " 'motorbike': 271,\n",
       " 's/6': 270,\n",
       " 'scarf': 270,\n",
       " 'opener': 270,\n",
       " 'present': 269,\n",
       " 'set3': 269,\n",
       " 'bomb': 268,\n",
       " 'naughts': 268,\n",
       " 'crosses': 268,\n",
       " 'noel': 267,\n",
       " 'tropical': 267,\n",
       " 'circles': 266,\n",
       " 'point': 266,\n",
       " 'message': 265,\n",
       " 'penny': 265,\n",
       " 'farthing': 265,\n",
       " 'posy': 264,\n",
       " 'microwave': 264,\n",
       " 'stop': 264,\n",
       " 'fuschia': 263,\n",
       " 'rest': 262,\n",
       " 'bib': 261,\n",
       " 'incense/candle': 261,\n",
       " 'fine': 261,\n",
       " 'donkey': 261,\n",
       " 'tail': 261,\n",
       " 'flora': 260,\n",
       " 'football': 260,\n",
       " 'lucky': 260,\n",
       " 'miniature': 260,\n",
       " 'le': 259,\n",
       " 'poncho': 258,\n",
       " 'pillar': 258,\n",
       " 'drawerknob': 256,\n",
       " 'button': 256,\n",
       " 'two': 256,\n",
       " 'chic': 256,\n",
       " 'perfume': 256,\n",
       " 'trowel': 255,\n",
       " 'emergency': 253,\n",
       " 'holders': 253,\n",
       " 'gardenia': 253,\n",
       " '250g': 252,\n",
       " 'neighbourhood': 252,\n",
       " 'witch': 252,\n",
       " 'votive': 252,\n",
       " 'deco': 251,\n",
       " 'purdey': 250,\n",
       " 'chocolates': 250,\n",
       " 'rosemary': 249,\n",
       " 'sharpener': 249,\n",
       " 'personal': 248,\n",
       " 'doorsign': 248,\n",
       " 'slice': 248,\n",
       " 'coathanger': 248,\n",
       " 'laurel': 248,\n",
       " 'quilted': 248,\n",
       " 'parsley': 247,\n",
       " 'thyme': 246,\n",
       " 'bubblegum': 246,\n",
       " 'makers': 246,\n",
       " 'brocade': 245,\n",
       " 'served': 244,\n",
       " 'merry': 244,\n",
       " 'goose': 244,\n",
       " 'pen,hot': 244,\n",
       " 'tablecloth': 244,\n",
       " 'paperweight': 243,\n",
       " 'housework': 241,\n",
       " 'chinese': 240,\n",
       " 'beurre': 240,\n",
       " 'planter': 240,\n",
       " 'pieces': 240,\n",
       " 'sign,cupcake': 239,\n",
       " 'abc': 239,\n",
       " 'six': 239,\n",
       " 'smiley': 238,\n",
       " 'ducks': 237,\n",
       " 'hat': 237,\n",
       " 'celebration': 237,\n",
       " 'pedestal': 237,\n",
       " 'camouflage': 237,\n",
       " 'diva': 237,\n",
       " 'games': 236,\n",
       " 'des': 235,\n",
       " 'five': 235,\n",
       " 'cones': 234,\n",
       " 'children': 234,\n",
       " 'pancake': 233,\n",
       " '200': 232,\n",
       " 'bendy': 232,\n",
       " 'boudicca': 232,\n",
       " 'sandcastle': 231,\n",
       " 'flags': 231,\n",
       " 'sticky': 230,\n",
       " 'address': 229,\n",
       " 'stuff': 229,\n",
       " 'memoboard': 228,\n",
       " 'cloche': 227,\n",
       " 'cowboy': 226,\n",
       " 'airmail': 226,\n",
       " 'chopping': 226,\n",
       " 'milkmaid': 226,\n",
       " 'belle': 225,\n",
       " 'jardiniere': 225,\n",
       " 'boot': 224,\n",
       " 'baseball': 223,\n",
       " 'mushrooms': 223,\n",
       " 'ludo': 222,\n",
       " 'filigris': 222,\n",
       " 'foot': 222,\n",
       " 'jubilee': 221,\n",
       " 'space': 220,\n",
       " 'gaolers': 219,\n",
       " 'figures': 219,\n",
       " 'funny': 218,\n",
       " 'face': 218,\n",
       " 'mitt': 218,\n",
       " 'front': 218,\n",
       " ...}"
      ]
     },
     "execution_count": 49,
     "metadata": {},
     "output_type": "execute_result"
    }
   ],
   "source": [
    "MostRepeatedWords=  {k:v for k,v in sorted(\n",
    "    MostRepeatedWords.items(),key = lambda\n",
    "    item: item[1],reverse = True) }\n",
    "MostRepeatedWords"
   ]
  },
  {
   "cell_type": "code",
   "execution_count": 50,
   "id": "0f7a0d6b",
   "metadata": {
    "execution": {
     "iopub.execute_input": "2022-11-16T19:37:45.444142Z",
     "iopub.status.busy": "2022-11-16T19:37:45.443574Z",
     "iopub.status.idle": "2022-11-16T19:37:45.449223Z",
     "shell.execute_reply": "2022-11-16T19:37:45.448634Z"
    },
    "papermill": {
     "duration": 0.031873,
     "end_time": "2022-11-16T19:37:45.450804",
     "exception": false,
     "start_time": "2022-11-16T19:37:45.418931",
     "status": "completed"
    },
    "tags": []
   },
   "outputs": [
    {
     "data": {
      "text/plain": [
       "['set',\n",
       " 'bag',\n",
       " 'red',\n",
       " 'heart',\n",
       " 'retrospot',\n",
       " 'vintage',\n",
       " 'design',\n",
       " 'pink',\n",
       " 'christmas',\n",
       " 'box',\n",
       " 'cake',\n",
       " 'jumbo',\n",
       " 'metal',\n",
       " 'white',\n",
       " 'blue']"
      ]
     },
     "execution_count": 50,
     "metadata": {},
     "output_type": "execute_result"
    }
   ],
   "source": [
    "# see the first ten words\n",
    "most_wprds = list(MostRepeatedWords.keys())[:15]\n",
    "most_wprds"
   ]
  },
  {
   "cell_type": "code",
   "execution_count": 51,
   "id": "248aee6c",
   "metadata": {
    "execution": {
     "iopub.execute_input": "2022-11-16T19:37:45.499665Z",
     "iopub.status.busy": "2022-11-16T19:37:45.499266Z",
     "iopub.status.idle": "2022-11-16T19:37:45.503918Z",
     "shell.execute_reply": "2022-11-16T19:37:45.502770Z"
    },
    "papermill": {
     "duration": 0.031729,
     "end_time": "2022-11-16T19:37:45.505674",
     "exception": false,
     "start_time": "2022-11-16T19:37:45.473945",
     "status": "completed"
    },
    "tags": []
   },
   "outputs": [],
   "source": [
    "# get important word\n",
    "important_word = most_wprds[1:]"
   ]
  },
  {
   "cell_type": "code",
   "execution_count": 52,
   "id": "2e941071",
   "metadata": {
    "execution": {
     "iopub.execute_input": "2022-11-16T19:37:45.554068Z",
     "iopub.status.busy": "2022-11-16T19:37:45.553725Z",
     "iopub.status.idle": "2022-11-16T19:37:48.630409Z",
     "shell.execute_reply": "2022-11-16T19:37:48.629049Z"
    },
    "papermill": {
     "duration": 3.1038,
     "end_time": "2022-11-16T19:37:48.632958",
     "exception": false,
     "start_time": "2022-11-16T19:37:45.529158",
     "status": "completed"
    },
    "tags": []
   },
   "outputs": [],
   "source": [
    "for Word in important_word : \n",
    "    df[f'Repeated Word : {Word}'] = df['Description'].apply(lambda x : 1 if Word in x.lower() else 0)"
   ]
  },
  {
   "cell_type": "code",
   "execution_count": 53,
   "id": "c7f03648",
   "metadata": {
    "execution": {
     "iopub.execute_input": "2022-11-16T19:37:48.682408Z",
     "iopub.status.busy": "2022-11-16T19:37:48.682050Z",
     "iopub.status.idle": "2022-11-16T19:37:48.703400Z",
     "shell.execute_reply": "2022-11-16T19:37:48.702146Z"
    },
    "papermill": {
     "duration": 0.048945,
     "end_time": "2022-11-16T19:37:48.706245",
     "exception": false,
     "start_time": "2022-11-16T19:37:48.657300",
     "status": "completed"
    },
    "tags": []
   },
   "outputs": [
    {
     "data": {
      "text/html": [
       "<div>\n",
       "<style scoped>\n",
       "    .dataframe tbody tr th:only-of-type {\n",
       "        vertical-align: middle;\n",
       "    }\n",
       "\n",
       "    .dataframe tbody tr th {\n",
       "        vertical-align: top;\n",
       "    }\n",
       "\n",
       "    .dataframe thead th {\n",
       "        text-align: right;\n",
       "    }\n",
       "</style>\n",
       "<table border=\"1\" class=\"dataframe\">\n",
       "  <thead>\n",
       "    <tr style=\"text-align: right;\">\n",
       "      <th></th>\n",
       "      <th>Description</th>\n",
       "      <th>Quantity</th>\n",
       "      <th>UnitPrice</th>\n",
       "      <th>Country</th>\n",
       "      <th>year</th>\n",
       "      <th>month</th>\n",
       "      <th>day</th>\n",
       "      <th>weekday</th>\n",
       "      <th>hour</th>\n",
       "      <th>dayPart</th>\n",
       "      <th>...</th>\n",
       "      <th>Repeated Word : vintage</th>\n",
       "      <th>Repeated Word : design</th>\n",
       "      <th>Repeated Word : pink</th>\n",
       "      <th>Repeated Word : christmas</th>\n",
       "      <th>Repeated Word : box</th>\n",
       "      <th>Repeated Word : cake</th>\n",
       "      <th>Repeated Word : jumbo</th>\n",
       "      <th>Repeated Word : metal</th>\n",
       "      <th>Repeated Word : white</th>\n",
       "      <th>Repeated Word : blue</th>\n",
       "    </tr>\n",
       "  </thead>\n",
       "  <tbody>\n",
       "    <tr>\n",
       "      <th>0</th>\n",
       "      <td>WHITE HANGING HEART T-LIGHT HOLDER</td>\n",
       "      <td>6.0</td>\n",
       "      <td>2.55</td>\n",
       "      <td>United Kingdom</td>\n",
       "      <td>2010</td>\n",
       "      <td>1</td>\n",
       "      <td>12</td>\n",
       "      <td>Tuesday</td>\n",
       "      <td>8</td>\n",
       "      <td>Morning</td>\n",
       "      <td>...</td>\n",
       "      <td>0</td>\n",
       "      <td>0</td>\n",
       "      <td>0</td>\n",
       "      <td>0</td>\n",
       "      <td>0</td>\n",
       "      <td>0</td>\n",
       "      <td>0</td>\n",
       "      <td>0</td>\n",
       "      <td>1</td>\n",
       "      <td>0</td>\n",
       "    </tr>\n",
       "    <tr>\n",
       "      <th>1</th>\n",
       "      <td>WHITE METAL LANTERN</td>\n",
       "      <td>6.0</td>\n",
       "      <td>3.39</td>\n",
       "      <td>United Kingdom</td>\n",
       "      <td>2010</td>\n",
       "      <td>1</td>\n",
       "      <td>12</td>\n",
       "      <td>Tuesday</td>\n",
       "      <td>8</td>\n",
       "      <td>Morning</td>\n",
       "      <td>...</td>\n",
       "      <td>0</td>\n",
       "      <td>0</td>\n",
       "      <td>0</td>\n",
       "      <td>0</td>\n",
       "      <td>0</td>\n",
       "      <td>0</td>\n",
       "      <td>0</td>\n",
       "      <td>1</td>\n",
       "      <td>1</td>\n",
       "      <td>0</td>\n",
       "    </tr>\n",
       "    <tr>\n",
       "      <th>2</th>\n",
       "      <td>CREAM CUPID HEARTS COAT HANGER</td>\n",
       "      <td>8.0</td>\n",
       "      <td>2.75</td>\n",
       "      <td>United Kingdom</td>\n",
       "      <td>2010</td>\n",
       "      <td>1</td>\n",
       "      <td>12</td>\n",
       "      <td>Tuesday</td>\n",
       "      <td>8</td>\n",
       "      <td>Morning</td>\n",
       "      <td>...</td>\n",
       "      <td>0</td>\n",
       "      <td>0</td>\n",
       "      <td>0</td>\n",
       "      <td>0</td>\n",
       "      <td>0</td>\n",
       "      <td>0</td>\n",
       "      <td>0</td>\n",
       "      <td>0</td>\n",
       "      <td>0</td>\n",
       "      <td>0</td>\n",
       "    </tr>\n",
       "    <tr>\n",
       "      <th>3</th>\n",
       "      <td>KNITTED UNION FLAG HOT WATER BOTTLE</td>\n",
       "      <td>6.0</td>\n",
       "      <td>3.39</td>\n",
       "      <td>United Kingdom</td>\n",
       "      <td>2010</td>\n",
       "      <td>1</td>\n",
       "      <td>12</td>\n",
       "      <td>Tuesday</td>\n",
       "      <td>8</td>\n",
       "      <td>Morning</td>\n",
       "      <td>...</td>\n",
       "      <td>0</td>\n",
       "      <td>0</td>\n",
       "      <td>0</td>\n",
       "      <td>0</td>\n",
       "      <td>0</td>\n",
       "      <td>0</td>\n",
       "      <td>0</td>\n",
       "      <td>0</td>\n",
       "      <td>0</td>\n",
       "      <td>0</td>\n",
       "    </tr>\n",
       "    <tr>\n",
       "      <th>4</th>\n",
       "      <td>RED WOOLLY HOTTIE WHITE HEART.</td>\n",
       "      <td>6.0</td>\n",
       "      <td>3.39</td>\n",
       "      <td>United Kingdom</td>\n",
       "      <td>2010</td>\n",
       "      <td>1</td>\n",
       "      <td>12</td>\n",
       "      <td>Tuesday</td>\n",
       "      <td>8</td>\n",
       "      <td>Morning</td>\n",
       "      <td>...</td>\n",
       "      <td>0</td>\n",
       "      <td>0</td>\n",
       "      <td>0</td>\n",
       "      <td>0</td>\n",
       "      <td>0</td>\n",
       "      <td>0</td>\n",
       "      <td>0</td>\n",
       "      <td>0</td>\n",
       "      <td>1</td>\n",
       "      <td>0</td>\n",
       "    </tr>\n",
       "  </tbody>\n",
       "</table>\n",
       "<p>5 rows × 25 columns</p>\n",
       "</div>"
      ],
      "text/plain": [
       "                           Description  Quantity  UnitPrice         Country  \\\n",
       "0   WHITE HANGING HEART T-LIGHT HOLDER       6.0       2.55  United Kingdom   \n",
       "1                  WHITE METAL LANTERN       6.0       3.39  United Kingdom   \n",
       "2       CREAM CUPID HEARTS COAT HANGER       8.0       2.75  United Kingdom   \n",
       "3  KNITTED UNION FLAG HOT WATER BOTTLE       6.0       3.39  United Kingdom   \n",
       "4       RED WOOLLY HOTTIE WHITE HEART.       6.0       3.39  United Kingdom   \n",
       "\n",
       "   year  month  day  weekday  hour  dayPart  ...  Repeated Word : vintage  \\\n",
       "0  2010      1   12  Tuesday     8  Morning  ...                        0   \n",
       "1  2010      1   12  Tuesday     8  Morning  ...                        0   \n",
       "2  2010      1   12  Tuesday     8  Morning  ...                        0   \n",
       "3  2010      1   12  Tuesday     8  Morning  ...                        0   \n",
       "4  2010      1   12  Tuesday     8  Morning  ...                        0   \n",
       "\n",
       "   Repeated Word : design  Repeated Word : pink  Repeated Word : christmas  \\\n",
       "0                       0                     0                          0   \n",
       "1                       0                     0                          0   \n",
       "2                       0                     0                          0   \n",
       "3                       0                     0                          0   \n",
       "4                       0                     0                          0   \n",
       "\n",
       "   Repeated Word : box  Repeated Word : cake  Repeated Word : jumbo  \\\n",
       "0                    0                     0                      0   \n",
       "1                    0                     0                      0   \n",
       "2                    0                     0                      0   \n",
       "3                    0                     0                      0   \n",
       "4                    0                     0                      0   \n",
       "\n",
       "   Repeated Word : metal  Repeated Word : white  Repeated Word : blue  \n",
       "0                      0                      1                     0  \n",
       "1                      1                      1                     0  \n",
       "2                      0                      0                     0  \n",
       "3                      0                      0                     0  \n",
       "4                      0                      1                     0  \n",
       "\n",
       "[5 rows x 25 columns]"
      ]
     },
     "execution_count": 53,
     "metadata": {},
     "output_type": "execute_result"
    }
   ],
   "source": [
    "df.head()"
   ]
  },
  {
   "cell_type": "code",
   "execution_count": 54,
   "id": "71cd4101",
   "metadata": {
    "execution": {
     "iopub.execute_input": "2022-11-16T19:37:48.755855Z",
     "iopub.status.busy": "2022-11-16T19:37:48.755074Z",
     "iopub.status.idle": "2022-11-16T19:37:48.843221Z",
     "shell.execute_reply": "2022-11-16T19:37:48.841860Z"
    },
    "papermill": {
     "duration": 0.115063,
     "end_time": "2022-11-16T19:37:48.845297",
     "exception": false,
     "start_time": "2022-11-16T19:37:48.730234",
     "status": "completed"
    },
    "tags": []
   },
   "outputs": [
    {
     "data": {
      "text/plain": [
       "4      RED WOOLLY HOTTIE WHITE HEART.\n",
       "8           HAND WARMER RED POLKA DOT\n",
       "22        RED COAT RACK PARIS FASHION\n",
       "27          ALARM CLOCK BAKELIKE RED \n",
       "33    SET/2 RED RETROSPOT TEA TOWELS \n",
       "39      RED TOADSTOOL LED NIGHT LIGHT\n",
       "47          HAND WARMER RED POLKA DOT\n",
       "52              EDWARDIAN PARASOL RED\n",
       "62     RED WOOLLY HOTTIE WHITE HEART.\n",
       "69              EDWARDIAN PARASOL RED\n",
       "Name: Description, dtype: object"
      ]
     },
     "execution_count": 54,
     "metadata": {},
     "output_type": "execute_result"
    }
   ],
   "source": [
    "df[df['Repeated Word : red']==1]['Description'][:10]"
   ]
  },
  {
   "cell_type": "markdown",
   "id": "6feea410",
   "metadata": {
    "papermill": {
     "duration": 0.023178,
     "end_time": "2022-11-16T19:37:48.892160",
     "exception": false,
     "start_time": "2022-11-16T19:37:48.868982",
     "status": "completed"
    },
    "tags": []
   },
   "source": [
    "## From country get continent"
   ]
  },
  {
   "cell_type": "code",
   "execution_count": 55,
   "id": "a478dbb2",
   "metadata": {
    "execution": {
     "iopub.execute_input": "2022-11-16T19:37:48.942137Z",
     "iopub.status.busy": "2022-11-16T19:37:48.941224Z",
     "iopub.status.idle": "2022-11-16T19:37:48.948462Z",
     "shell.execute_reply": "2022-11-16T19:37:48.947109Z"
    },
    "papermill": {
     "duration": 0.035006,
     "end_time": "2022-11-16T19:37:48.950896",
     "exception": false,
     "start_time": "2022-11-16T19:37:48.915890",
     "status": "completed"
    },
    "tags": []
   },
   "outputs": [],
   "source": [
    "def fromCountryToContinent(x):\n",
    "    if x == 'EIRE' or x == 'Channel Islands' or x=='European Community':\n",
    "        return 'Europe'\n",
    "    elif x == 'RSA':\n",
    "        return 'Africa'\n",
    "    elif x =='Unspecified':\n",
    "        return 'Unspecified'\n",
    "    else:\n",
    "        country_code = pc.country_name_to_country_alpha2(x, cn_name_format=\"default\")\n",
    "        return pc.country_alpha2_to_continent_code(country_code)"
   ]
  },
  {
   "cell_type": "code",
   "execution_count": 56,
   "id": "2b7754d5",
   "metadata": {
    "execution": {
     "iopub.execute_input": "2022-11-16T19:37:49.006436Z",
     "iopub.status.busy": "2022-11-16T19:37:49.005373Z",
     "iopub.status.idle": "2022-11-16T19:37:49.735236Z",
     "shell.execute_reply": "2022-11-16T19:37:49.734200Z"
    },
    "papermill": {
     "duration": 0.75995,
     "end_time": "2022-11-16T19:37:49.737538",
     "exception": false,
     "start_time": "2022-11-16T19:37:48.977588",
     "status": "completed"
    },
    "tags": []
   },
   "outputs": [],
   "source": [
    "df['continent'] = df['Country'].apply(fromCountryToContinent)"
   ]
  },
  {
   "cell_type": "code",
   "execution_count": 57,
   "id": "fdb8165e",
   "metadata": {
    "execution": {
     "iopub.execute_input": "2022-11-16T19:37:49.788670Z",
     "iopub.status.busy": "2022-11-16T19:37:49.788230Z",
     "iopub.status.idle": "2022-11-16T19:37:49.854322Z",
     "shell.execute_reply": "2022-11-16T19:37:49.853389Z"
    },
    "papermill": {
     "duration": 0.093699,
     "end_time": "2022-11-16T19:37:49.856274",
     "exception": false,
     "start_time": "2022-11-16T19:37:49.762575",
     "status": "completed"
    },
    "tags": []
   },
   "outputs": [
    {
     "data": {
      "text/html": [
       "<div>\n",
       "<style scoped>\n",
       "    .dataframe tbody tr th:only-of-type {\n",
       "        vertical-align: middle;\n",
       "    }\n",
       "\n",
       "    .dataframe tbody tr th {\n",
       "        vertical-align: top;\n",
       "    }\n",
       "\n",
       "    .dataframe thead th {\n",
       "        text-align: right;\n",
       "    }\n",
       "</style>\n",
       "<table border=\"1\" class=\"dataframe\">\n",
       "  <thead>\n",
       "    <tr style=\"text-align: right;\">\n",
       "      <th></th>\n",
       "      <th>Description</th>\n",
       "      <th>Quantity</th>\n",
       "      <th>UnitPrice</th>\n",
       "      <th>Country</th>\n",
       "      <th>year</th>\n",
       "      <th>month</th>\n",
       "      <th>day</th>\n",
       "      <th>weekday</th>\n",
       "      <th>hour</th>\n",
       "      <th>dayPart</th>\n",
       "      <th>...</th>\n",
       "      <th>Repeated Word : design</th>\n",
       "      <th>Repeated Word : pink</th>\n",
       "      <th>Repeated Word : christmas</th>\n",
       "      <th>Repeated Word : box</th>\n",
       "      <th>Repeated Word : cake</th>\n",
       "      <th>Repeated Word : jumbo</th>\n",
       "      <th>Repeated Word : metal</th>\n",
       "      <th>Repeated Word : white</th>\n",
       "      <th>Repeated Word : blue</th>\n",
       "      <th>continent</th>\n",
       "    </tr>\n",
       "  </thead>\n",
       "  <tbody>\n",
       "    <tr>\n",
       "      <th>0</th>\n",
       "      <td>WHITE HANGING HEART T-LIGHT HOLDER</td>\n",
       "      <td>6.0</td>\n",
       "      <td>2.55</td>\n",
       "      <td>United Kingdom</td>\n",
       "      <td>2010</td>\n",
       "      <td>1</td>\n",
       "      <td>12</td>\n",
       "      <td>Tuesday</td>\n",
       "      <td>8</td>\n",
       "      <td>Morning</td>\n",
       "      <td>...</td>\n",
       "      <td>0</td>\n",
       "      <td>0</td>\n",
       "      <td>0</td>\n",
       "      <td>0</td>\n",
       "      <td>0</td>\n",
       "      <td>0</td>\n",
       "      <td>0</td>\n",
       "      <td>1</td>\n",
       "      <td>0</td>\n",
       "      <td>EU</td>\n",
       "    </tr>\n",
       "    <tr>\n",
       "      <th>1</th>\n",
       "      <td>WHITE METAL LANTERN</td>\n",
       "      <td>6.0</td>\n",
       "      <td>3.39</td>\n",
       "      <td>United Kingdom</td>\n",
       "      <td>2010</td>\n",
       "      <td>1</td>\n",
       "      <td>12</td>\n",
       "      <td>Tuesday</td>\n",
       "      <td>8</td>\n",
       "      <td>Morning</td>\n",
       "      <td>...</td>\n",
       "      <td>0</td>\n",
       "      <td>0</td>\n",
       "      <td>0</td>\n",
       "      <td>0</td>\n",
       "      <td>0</td>\n",
       "      <td>0</td>\n",
       "      <td>1</td>\n",
       "      <td>1</td>\n",
       "      <td>0</td>\n",
       "      <td>EU</td>\n",
       "    </tr>\n",
       "    <tr>\n",
       "      <th>2</th>\n",
       "      <td>CREAM CUPID HEARTS COAT HANGER</td>\n",
       "      <td>8.0</td>\n",
       "      <td>2.75</td>\n",
       "      <td>United Kingdom</td>\n",
       "      <td>2010</td>\n",
       "      <td>1</td>\n",
       "      <td>12</td>\n",
       "      <td>Tuesday</td>\n",
       "      <td>8</td>\n",
       "      <td>Morning</td>\n",
       "      <td>...</td>\n",
       "      <td>0</td>\n",
       "      <td>0</td>\n",
       "      <td>0</td>\n",
       "      <td>0</td>\n",
       "      <td>0</td>\n",
       "      <td>0</td>\n",
       "      <td>0</td>\n",
       "      <td>0</td>\n",
       "      <td>0</td>\n",
       "      <td>EU</td>\n",
       "    </tr>\n",
       "    <tr>\n",
       "      <th>3</th>\n",
       "      <td>KNITTED UNION FLAG HOT WATER BOTTLE</td>\n",
       "      <td>6.0</td>\n",
       "      <td>3.39</td>\n",
       "      <td>United Kingdom</td>\n",
       "      <td>2010</td>\n",
       "      <td>1</td>\n",
       "      <td>12</td>\n",
       "      <td>Tuesday</td>\n",
       "      <td>8</td>\n",
       "      <td>Morning</td>\n",
       "      <td>...</td>\n",
       "      <td>0</td>\n",
       "      <td>0</td>\n",
       "      <td>0</td>\n",
       "      <td>0</td>\n",
       "      <td>0</td>\n",
       "      <td>0</td>\n",
       "      <td>0</td>\n",
       "      <td>0</td>\n",
       "      <td>0</td>\n",
       "      <td>EU</td>\n",
       "    </tr>\n",
       "    <tr>\n",
       "      <th>4</th>\n",
       "      <td>RED WOOLLY HOTTIE WHITE HEART.</td>\n",
       "      <td>6.0</td>\n",
       "      <td>3.39</td>\n",
       "      <td>United Kingdom</td>\n",
       "      <td>2010</td>\n",
       "      <td>1</td>\n",
       "      <td>12</td>\n",
       "      <td>Tuesday</td>\n",
       "      <td>8</td>\n",
       "      <td>Morning</td>\n",
       "      <td>...</td>\n",
       "      <td>0</td>\n",
       "      <td>0</td>\n",
       "      <td>0</td>\n",
       "      <td>0</td>\n",
       "      <td>0</td>\n",
       "      <td>0</td>\n",
       "      <td>0</td>\n",
       "      <td>1</td>\n",
       "      <td>0</td>\n",
       "      <td>EU</td>\n",
       "    </tr>\n",
       "  </tbody>\n",
       "</table>\n",
       "<p>5 rows × 26 columns</p>\n",
       "</div>"
      ],
      "text/plain": [
       "                           Description  Quantity  UnitPrice         Country  \\\n",
       "0   WHITE HANGING HEART T-LIGHT HOLDER       6.0       2.55  United Kingdom   \n",
       "1                  WHITE METAL LANTERN       6.0       3.39  United Kingdom   \n",
       "2       CREAM CUPID HEARTS COAT HANGER       8.0       2.75  United Kingdom   \n",
       "3  KNITTED UNION FLAG HOT WATER BOTTLE       6.0       3.39  United Kingdom   \n",
       "4       RED WOOLLY HOTTIE WHITE HEART.       6.0       3.39  United Kingdom   \n",
       "\n",
       "   year  month  day  weekday  hour  dayPart  ...  Repeated Word : design  \\\n",
       "0  2010      1   12  Tuesday     8  Morning  ...                       0   \n",
       "1  2010      1   12  Tuesday     8  Morning  ...                       0   \n",
       "2  2010      1   12  Tuesday     8  Morning  ...                       0   \n",
       "3  2010      1   12  Tuesday     8  Morning  ...                       0   \n",
       "4  2010      1   12  Tuesday     8  Morning  ...                       0   \n",
       "\n",
       "   Repeated Word : pink  Repeated Word : christmas  Repeated Word : box  \\\n",
       "0                     0                          0                    0   \n",
       "1                     0                          0                    0   \n",
       "2                     0                          0                    0   \n",
       "3                     0                          0                    0   \n",
       "4                     0                          0                    0   \n",
       "\n",
       "   Repeated Word : cake  Repeated Word : jumbo  Repeated Word : metal  \\\n",
       "0                     0                      0                      0   \n",
       "1                     0                      0                      1   \n",
       "2                     0                      0                      0   \n",
       "3                     0                      0                      0   \n",
       "4                     0                      0                      0   \n",
       "\n",
       "   Repeated Word : white  Repeated Word : blue  continent  \n",
       "0                      1                     0         EU  \n",
       "1                      1                     0         EU  \n",
       "2                      0                     0         EU  \n",
       "3                      0                     0         EU  \n",
       "4                      1                     0         EU  \n",
       "\n",
       "[5 rows x 26 columns]"
      ]
     },
     "execution_count": 57,
     "metadata": {},
     "output_type": "execute_result"
    }
   ],
   "source": [
    "df.head()"
   ]
  },
  {
   "cell_type": "markdown",
   "id": "907386a5",
   "metadata": {
    "id": "ac8681fc",
    "papermill": {
     "duration": 0.023732,
     "end_time": "2022-11-16T19:37:49.904025",
     "exception": false,
     "start_time": "2022-11-16T19:37:49.880293",
     "status": "completed"
    },
    "tags": []
   },
   "source": [
    "# Data Visualization"
   ]
  },
  {
   "cell_type": "code",
   "execution_count": 58,
   "id": "23d9692c",
   "metadata": {
    "execution": {
     "iopub.execute_input": "2022-11-16T19:37:49.954241Z",
     "iopub.status.busy": "2022-11-16T19:37:49.953145Z",
     "iopub.status.idle": "2022-11-16T19:37:49.966923Z",
     "shell.execute_reply": "2022-11-16T19:37:49.965653Z"
    },
    "papermill": {
     "duration": 0.041454,
     "end_time": "2022-11-16T19:37:49.969577",
     "exception": false,
     "start_time": "2022-11-16T19:37:49.928123",
     "status": "completed"
    },
    "tags": []
   },
   "outputs": [],
   "source": [
    "def CPlot(data,feature) : \n",
    "    fig, ax = plt.subplots(figsize=(10,6))\n",
    "    sns.countplot(x=feature, data=data,facecolor=(0, 0, 0, 0),\n",
    "                  linewidth=5,edgecolor=sns.color_palette(\"dark\", 3))\n",
    "    ax.set_xticklabels(ax.get_xticklabels(),rotation = 30)\n",
    "\n",
    "def KPlot(data,feature,Limit=0) : \n",
    "    fig, ax = plt.subplots(figsize=(10,6))\n",
    "    if Limit == 0 : \n",
    "        sns.kdeplot(data[feature], shade=True)\n",
    "    else : \n",
    "        Data = data[data[feature]<=Limit]\n",
    "        sns.kdeplot(Data[feature], shade=True)\n",
    "def BPlot(data,feature1,feature2 = None,hue = None) : \n",
    "    fig, ax = plt.subplots(figsize=(10,6))\n",
    "    if feature2 ==  None and hue == None : \n",
    "        sns.boxplot(data[feature1],width=0.3,color='r')\n",
    "    elif  feature2 !=  None and hue == None :\n",
    "        sns.boxplot(x = data[feature1],y=data[feature2],width=0.3,color='r')\n",
    "    elif  feature2 !=  None and hue != None :\n",
    "        sns.boxplot(x = data[feature1],y=data[feature2],hue=data[hue],width=0.3,color='r')\n",
    "        \n",
    "def JPlot(data,feature1,feature2,Type = 'scatter') : \n",
    "    sns.jointplot(data=data, x=feature1, y=feature2, kind=Type)   \n",
    "    \n",
    "    \n",
    "def Pie(data,feature,Limit=20) : \n",
    "    fig, ax = plt.subplots(figsize=(10,6))\n",
    "    plt.pie(data[feature].value_counts()[:Limit],labels=list(\n",
    "        data[feature].value_counts()[:Limit].index),\n",
    "        autopct ='%1.2f%%' , labeldistance = 1.1,\n",
    "            explode = [0.05 for i in range(len(data[feature].value_counts()[:Limit]))] )\n",
    "    plt.show()     "
   ]
  },
  {
   "cell_type": "code",
   "execution_count": 59,
   "id": "1e6399c1",
   "metadata": {
    "execution": {
     "iopub.execute_input": "2022-11-16T19:37:50.019686Z",
     "iopub.status.busy": "2022-11-16T19:37:50.019326Z",
     "iopub.status.idle": "2022-11-16T19:37:52.105527Z",
     "shell.execute_reply": "2022-11-16T19:37:52.104104Z"
    },
    "papermill": {
     "duration": 2.11373,
     "end_time": "2022-11-16T19:37:52.107635",
     "exception": false,
     "start_time": "2022-11-16T19:37:49.993905",
     "status": "completed"
    },
    "tags": []
   },
   "outputs": [
    {
     "data": {
      "image/png": "[encoded data removed]",
      "text/plain": [
       "<Figure size 720x432 with 1 Axes>"
      ]
     },
     "metadata": {},
     "output_type": "display_data"
    }
   ],
   "source": [
    "KPlot(df,'Quantity')"
   ]
  },
  {
   "cell_type": "code",
   "execution_count": 60,
   "id": "e2505d55",
   "metadata": {
    "execution": {
     "iopub.execute_input": "2022-11-16T19:37:52.158307Z",
     "iopub.status.busy": "2022-11-16T19:37:52.157960Z",
     "iopub.status.idle": "2022-11-16T19:37:54.317105Z",
     "shell.execute_reply": "2022-11-16T19:37:54.315895Z"
    },
    "papermill": {
     "duration": 2.186802,
     "end_time": "2022-11-16T19:37:54.319151",
     "exception": false,
     "start_time": "2022-11-16T19:37:52.132349",
     "status": "completed"
    },
    "tags": []
   },
   "outputs": [
    {
     "data": {
      "image/png": "[encoded data removed]",
      "text/plain": [
       "<Figure size 720x432 with 1 Axes>"
      ]
     },
     "metadata": {},
     "output_type": "display_data"
    }
   ],
   "source": [
    "KPlot(df,'UnitPrice')"
   ]
  },
  {
   "cell_type": "code",
   "execution_count": 61,
   "id": "4d99eb90",
   "metadata": {
    "execution": {
     "iopub.execute_input": "2022-11-16T19:37:54.370121Z",
     "iopub.status.busy": "2022-11-16T19:37:54.369803Z",
     "iopub.status.idle": "2022-11-16T19:37:57.355673Z",
     "shell.execute_reply": "2022-11-16T19:37:57.354658Z"
    },
    "papermill": {
     "duration": 3.013533,
     "end_time": "2022-11-16T19:37:57.357579",
     "exception": false,
     "start_time": "2022-11-16T19:37:54.344046",
     "status": "completed"
    },
    "tags": []
   },
   "outputs": [
    {
     "data": {
      "image/png": "[encoded data removed]",
      "text/plain": [
       "<Figure size 432x432 with 3 Axes>"
      ]
     },
     "metadata": {},
     "output_type": "display_data"
    }
   ],
   "source": [
    "JPlot(df ,'Quantity','UnitPrice')"
   ]
  },
  {
   "cell_type": "code",
   "execution_count": 62,
   "id": "45847b7f",
   "metadata": {
    "execution": {
     "iopub.execute_input": "2022-11-16T19:37:57.410886Z",
     "iopub.status.busy": "2022-11-16T19:37:57.410463Z",
     "iopub.status.idle": "2022-11-16T19:37:57.617059Z",
     "shell.execute_reply": "2022-11-16T19:37:57.616294Z"
    },
    "papermill": {
     "duration": 0.2359,
     "end_time": "2022-11-16T19:37:57.619205",
     "exception": false,
     "start_time": "2022-11-16T19:37:57.383305",
     "status": "completed"
    },
    "tags": []
   },
   "outputs": [
    {
     "data": {
      "image/png": "[encoded data removed]",
      "text/plain": [
       "<Figure size 720x432 with 1 Axes>"
      ]
     },
     "metadata": {},
     "output_type": "display_data"
    }
   ],
   "source": [
    "Pie(df,'Country',5)"
   ]
  },
  {
   "cell_type": "code",
   "execution_count": 63,
   "id": "4b99df10",
   "metadata": {
    "execution": {
     "iopub.execute_input": "2022-11-16T19:37:57.693733Z",
     "iopub.status.busy": "2022-11-16T19:37:57.693166Z",
     "iopub.status.idle": "2022-11-16T19:37:57.804698Z",
     "shell.execute_reply": "2022-11-16T19:37:57.803956Z"
    },
    "papermill": {
     "duration": 0.151491,
     "end_time": "2022-11-16T19:37:57.807125",
     "exception": false,
     "start_time": "2022-11-16T19:37:57.655634",
     "status": "completed"
    },
    "tags": []
   },
   "outputs": [
    {
     "data": {
      "image/png": "[encoded data removed]",
      "text/plain": [
       "<Figure size 720x432 with 1 Axes>"
      ]
     },
     "metadata": {},
     "output_type": "display_data"
    }
   ],
   "source": [
    "Pie(df,'year')"
   ]
  },
  {
   "cell_type": "code",
   "execution_count": 64,
   "id": "848a191f",
   "metadata": {
    "execution": {
     "iopub.execute_input": "2022-11-16T19:37:57.883256Z",
     "iopub.status.busy": "2022-11-16T19:37:57.882361Z",
     "iopub.status.idle": "2022-11-16T19:37:58.185482Z",
     "shell.execute_reply": "2022-11-16T19:37:58.184329Z"
    },
    "papermill": {
     "duration": 0.343735,
     "end_time": "2022-11-16T19:37:58.187716",
     "exception": false,
     "start_time": "2022-11-16T19:37:57.843981",
     "status": "completed"
    },
    "tags": []
   },
   "outputs": [
    {
     "data": {
      "image/png": "[encoded data removed]",
      "text/plain": [
       "<Figure size 720x432 with 1 Axes>"
      ]
     },
     "metadata": {},
     "output_type": "display_data"
    }
   ],
   "source": [
    "CPlot(df,'month')"
   ]
  },
  {
   "cell_type": "code",
   "execution_count": 65,
   "id": "16136782",
   "metadata": {
    "execution": {
     "iopub.execute_input": "2022-11-16T19:37:58.243063Z",
     "iopub.status.busy": "2022-11-16T19:37:58.242709Z",
     "iopub.status.idle": "2022-11-16T19:37:59.475126Z",
     "shell.execute_reply": "2022-11-16T19:37:59.473898Z"
    },
    "papermill": {
     "duration": 1.262796,
     "end_time": "2022-11-16T19:37:59.477269",
     "exception": false,
     "start_time": "2022-11-16T19:37:58.214473",
     "status": "completed"
    },
    "tags": []
   },
   "outputs": [
    {
     "data": {
      "image/png": "[encoded data removed]",
      "text/plain": [
       "<Figure size 720x432 with 1 Axes>"
      ]
     },
     "metadata": {},
     "output_type": "display_data"
    }
   ],
   "source": [
    "BPlot(df,'month','weekday','dayPart')"
   ]
  },
  {
   "cell_type": "code",
   "execution_count": 66,
   "id": "d42b3f65",
   "metadata": {
    "execution": {
     "iopub.execute_input": "2022-11-16T19:37:59.535362Z",
     "iopub.status.busy": "2022-11-16T19:37:59.534972Z",
     "iopub.status.idle": "2022-11-16T19:37:59.994349Z",
     "shell.execute_reply": "2022-11-16T19:37:59.993185Z"
    },
    "papermill": {
     "duration": 0.491116,
     "end_time": "2022-11-16T19:37:59.996610",
     "exception": false,
     "start_time": "2022-11-16T19:37:59.505494",
     "status": "completed"
    },
    "tags": []
   },
   "outputs": [
    {
     "data": {
      "image/png": "[encoded data removed]",
      "text/plain": [
       "<Figure size 720x432 with 1 Axes>"
      ]
     },
     "metadata": {},
     "output_type": "display_data"
    }
   ],
   "source": [
    "Pie(df,'day')"
   ]
  },
  {
   "cell_type": "code",
   "execution_count": 67,
   "id": "5ba9e4e5",
   "metadata": {
    "execution": {
     "iopub.execute_input": "2022-11-16T19:38:00.068758Z",
     "iopub.status.busy": "2022-11-16T19:38:00.068382Z",
     "iopub.status.idle": "2022-11-16T19:38:00.263408Z",
     "shell.execute_reply": "2022-11-16T19:38:00.262484Z"
    },
    "papermill": {
     "duration": 0.23215,
     "end_time": "2022-11-16T19:38:00.266041",
     "exception": false,
     "start_time": "2022-11-16T19:38:00.033891",
     "status": "completed"
    },
    "tags": []
   },
   "outputs": [
    {
     "data": {
      "image/png": "[encoded data removed]",
      "text/plain": [
       "<Figure size 720x432 with 1 Axes>"
      ]
     },
     "metadata": {},
     "output_type": "display_data"
    }
   ],
   "source": [
    "Pie(df,'hour')"
   ]
  },
  {
   "cell_type": "code",
   "execution_count": 68,
   "id": "a738d378",
   "metadata": {
    "execution": {
     "iopub.execute_input": "2022-11-16T19:38:00.345368Z",
     "iopub.status.busy": "2022-11-16T19:38:00.344535Z",
     "iopub.status.idle": "2022-11-16T19:38:00.545770Z",
     "shell.execute_reply": "2022-11-16T19:38:00.545045Z"
    },
    "papermill": {
     "duration": 0.241999,
     "end_time": "2022-11-16T19:38:00.548082",
     "exception": false,
     "start_time": "2022-11-16T19:38:00.306083",
     "status": "completed"
    },
    "tags": []
   },
   "outputs": [
    {
     "data": {
      "image/png": "[encoded data removed]",
      "text/plain": [
       "<Figure size 720x432 with 1 Axes>"
      ]
     },
     "metadata": {},
     "output_type": "display_data"
    }
   ],
   "source": [
    "Pie(df,'weekday')"
   ]
  },
  {
   "cell_type": "code",
   "execution_count": 69,
   "id": "870c092c",
   "metadata": {
    "execution": {
     "iopub.execute_input": "2022-11-16T19:38:00.625845Z",
     "iopub.status.busy": "2022-11-16T19:38:00.625200Z",
     "iopub.status.idle": "2022-11-16T19:38:00.771353Z",
     "shell.execute_reply": "2022-11-16T19:38:00.770642Z"
    },
    "papermill": {
     "duration": 0.187287,
     "end_time": "2022-11-16T19:38:00.773261",
     "exception": false,
     "start_time": "2022-11-16T19:38:00.585974",
     "status": "completed"
    },
    "tags": []
   },
   "outputs": [
    {
     "data": {
      "image/png": "[encoded data removed]",
      "text/plain": [
       "<Figure size 720x432 with 1 Axes>"
      ]
     },
     "metadata": {},
     "output_type": "display_data"
    }
   ],
   "source": [
    "Pie(df,'dayPart')"
   ]
  },
  {
   "cell_type": "code",
   "execution_count": 70,
   "id": "6a72f858",
   "metadata": {
    "execution": {
     "iopub.execute_input": "2022-11-16T19:38:00.853695Z",
     "iopub.status.busy": "2022-11-16T19:38:00.852976Z",
     "iopub.status.idle": "2022-11-16T19:38:01.320274Z",
     "shell.execute_reply": "2022-11-16T19:38:01.318756Z"
    },
    "papermill": {
     "duration": 0.510198,
     "end_time": "2022-11-16T19:38:01.322649",
     "exception": false,
     "start_time": "2022-11-16T19:38:00.812451",
     "status": "completed"
    },
    "tags": []
   },
   "outputs": [
    {
     "data": {
      "image/png": "[encoded data removed]",
      "text/plain": [
       "<Figure size 720x432 with 1 Axes>"
      ]
     },
     "metadata": {},
     "output_type": "display_data"
    }
   ],
   "source": [
    "CPlot(df,'continent')"
   ]
  },
  {
   "cell_type": "markdown",
   "id": "219240a1",
   "metadata": {
    "papermill": {
     "duration": 0.029445,
     "end_time": "2022-11-16T19:38:01.383709",
     "exception": false,
     "start_time": "2022-11-16T19:38:01.354264",
     "status": "completed"
    },
    "tags": []
   },
   "source": [
    "# Data Preparing"
   ]
  },
  {
   "cell_type": "code",
   "execution_count": 71,
   "id": "acfb9196",
   "metadata": {
    "execution": {
     "iopub.execute_input": "2022-11-16T19:38:01.446318Z",
     "iopub.status.busy": "2022-11-16T19:38:01.445972Z",
     "iopub.status.idle": "2022-11-16T19:38:01.451788Z",
     "shell.execute_reply": "2022-11-16T19:38:01.450784Z"
    },
    "papermill": {
     "duration": 0.039913,
     "end_time": "2022-11-16T19:38:01.453494",
     "exception": false,
     "start_time": "2022-11-16T19:38:01.413581",
     "status": "completed"
    },
    "tags": []
   },
   "outputs": [
    {
     "data": {
      "text/plain": [
       "Index(['Description', 'Quantity', 'UnitPrice', 'Country', 'year', 'month',\n",
       "       'day', 'weekday', 'hour', 'dayPart', 'Amount', 'Repeated Word : bag',\n",
       "       'Repeated Word : red', 'Repeated Word : heart',\n",
       "       'Repeated Word : retrospot', 'Repeated Word : vintage',\n",
       "       'Repeated Word : design', 'Repeated Word : pink',\n",
       "       'Repeated Word : christmas', 'Repeated Word : box',\n",
       "       'Repeated Word : cake', 'Repeated Word : jumbo',\n",
       "       'Repeated Word : metal', 'Repeated Word : white',\n",
       "       'Repeated Word : blue', 'continent'],\n",
       "      dtype='object')"
      ]
     },
     "execution_count": 71,
     "metadata": {},
     "output_type": "execute_result"
    }
   ],
   "source": [
    "df.columns"
   ]
  },
  {
   "cell_type": "code",
   "execution_count": 72,
   "id": "7d218fd8",
   "metadata": {
    "execution": {
     "iopub.execute_input": "2022-11-16T19:38:01.513458Z",
     "iopub.status.busy": "2022-11-16T19:38:01.513050Z",
     "iopub.status.idle": "2022-11-16T19:38:01.557182Z",
     "shell.execute_reply": "2022-11-16T19:38:01.556452Z"
    },
    "papermill": {
     "duration": 0.076534,
     "end_time": "2022-11-16T19:38:01.559477",
     "exception": false,
     "start_time": "2022-11-16T19:38:01.482943",
     "status": "completed"
    },
    "tags": []
   },
   "outputs": [],
   "source": [
    "df_model = df[['Description', 'Quantity', 'UnitPrice', 'Country']]"
   ]
  },
  {
   "cell_type": "markdown",
   "id": "d8108bd5",
   "metadata": {
    "papermill": {
     "duration": 0.02873,
     "end_time": "2022-11-16T19:38:01.617360",
     "exception": false,
     "start_time": "2022-11-16T19:38:01.588630",
     "status": "completed"
    },
    "tags": []
   },
   "source": [
    "## Label encoding"
   ]
  },
  {
   "cell_type": "code",
   "execution_count": 73,
   "id": "26bc732e",
   "metadata": {
    "execution": {
     "iopub.execute_input": "2022-11-16T19:38:01.677635Z",
     "iopub.status.busy": "2022-11-16T19:38:01.677205Z",
     "iopub.status.idle": "2022-11-16T19:38:03.015282Z",
     "shell.execute_reply": "2022-11-16T19:38:03.013996Z"
    },
    "papermill": {
     "duration": 1.371372,
     "end_time": "2022-11-16T19:38:03.017988",
     "exception": false,
     "start_time": "2022-11-16T19:38:01.646616",
     "status": "completed"
    },
    "tags": []
   },
   "outputs": [],
   "source": [
    "encoder = BinaryEncoder()\n",
    "encoder_df = encoder.fit_transform(df_model[['Description', 'Country']])\n",
    "df_model[encoder_df.columns] = encoder_df"
   ]
  },
  {
   "cell_type": "code",
   "execution_count": 74,
   "id": "914b0d44",
   "metadata": {
    "execution": {
     "iopub.execute_input": "2022-11-16T19:38:03.081840Z",
     "iopub.status.busy": "2022-11-16T19:38:03.081456Z",
     "iopub.status.idle": "2022-11-16T19:38:03.136138Z",
     "shell.execute_reply": "2022-11-16T19:38:03.134022Z"
    },
    "papermill": {
     "duration": 0.090441,
     "end_time": "2022-11-16T19:38:03.139133",
     "exception": false,
     "start_time": "2022-11-16T19:38:03.048692",
     "status": "completed"
    },
    "tags": []
   },
   "outputs": [],
   "source": [
    "df_model.drop(['Description', 'Country'], axis=1, inplace=True)"
   ]
  },
  {
   "cell_type": "markdown",
   "id": "3c038996",
   "metadata": {
    "papermill": {
     "duration": 0.030189,
     "end_time": "2022-11-16T19:38:03.199369",
     "exception": false,
     "start_time": "2022-11-16T19:38:03.169180",
     "status": "completed"
    },
    "tags": []
   },
   "source": [
    "## Scale"
   ]
  },
  {
   "cell_type": "code",
   "execution_count": 75,
   "id": "38854b47",
   "metadata": {
    "execution": {
     "iopub.execute_input": "2022-11-16T19:38:03.261482Z",
     "iopub.status.busy": "2022-11-16T19:38:03.261142Z",
     "iopub.status.idle": "2022-11-16T19:38:03.662365Z",
     "shell.execute_reply": "2022-11-16T19:38:03.661180Z"
    },
    "papermill": {
     "duration": 0.434959,
     "end_time": "2022-11-16T19:38:03.664959",
     "exception": false,
     "start_time": "2022-11-16T19:38:03.230000",
     "status": "completed"
    },
    "tags": []
   },
   "outputs": [],
   "source": [
    "scaler = RobustScaler()\n",
    "\n",
    "df_model[df_model.columns] = scaler.fit_transform(df_model[df_model.columns])"
   ]
  },
  {
   "cell_type": "code",
   "execution_count": 76,
   "id": "7c63ac6d",
   "metadata": {
    "execution": {
     "iopub.execute_input": "2022-11-16T19:38:03.726088Z",
     "iopub.status.busy": "2022-11-16T19:38:03.725723Z",
     "iopub.status.idle": "2022-11-16T19:38:03.754889Z",
     "shell.execute_reply": "2022-11-16T19:38:03.754062Z"
    },
    "papermill": {
     "duration": 0.06231,
     "end_time": "2022-11-16T19:38:03.756616",
     "exception": false,
     "start_time": "2022-11-16T19:38:03.694306",
     "status": "completed"
    },
    "tags": []
   },
   "outputs": [
    {
     "data": {
      "text/html": [
       "<div>\n",
       "<style scoped>\n",
       "    .dataframe tbody tr th:only-of-type {\n",
       "        vertical-align: middle;\n",
       "    }\n",
       "\n",
       "    .dataframe tbody tr th {\n",
       "        vertical-align: top;\n",
       "    }\n",
       "\n",
       "    .dataframe thead th {\n",
       "        text-align: right;\n",
       "    }\n",
       "</style>\n",
       "<table border=\"1\" class=\"dataframe\">\n",
       "  <thead>\n",
       "    <tr style=\"text-align: right;\">\n",
       "      <th></th>\n",
       "      <th>Quantity</th>\n",
       "      <th>UnitPrice</th>\n",
       "      <th>Description_0</th>\n",
       "      <th>Description_1</th>\n",
       "      <th>Description_2</th>\n",
       "      <th>Description_3</th>\n",
       "      <th>Description_4</th>\n",
       "      <th>Description_5</th>\n",
       "      <th>Description_6</th>\n",
       "      <th>Description_7</th>\n",
       "      <th>...</th>\n",
       "      <th>Description_9</th>\n",
       "      <th>Description_10</th>\n",
       "      <th>Description_11</th>\n",
       "      <th>Description_12</th>\n",
       "      <th>Country_0</th>\n",
       "      <th>Country_1</th>\n",
       "      <th>Country_2</th>\n",
       "      <th>Country_3</th>\n",
       "      <th>Country_4</th>\n",
       "      <th>Country_5</th>\n",
       "    </tr>\n",
       "  </thead>\n",
       "  <tbody>\n",
       "    <tr>\n",
       "      <th>0</th>\n",
       "      <td>0.428571</td>\n",
       "      <td>0.174074</td>\n",
       "      <td>0.0</td>\n",
       "      <td>0.0</td>\n",
       "      <td>0.0</td>\n",
       "      <td>0.0</td>\n",
       "      <td>0.0</td>\n",
       "      <td>0.0</td>\n",
       "      <td>0.0</td>\n",
       "      <td>0.0</td>\n",
       "      <td>...</td>\n",
       "      <td>-1.0</td>\n",
       "      <td>-1.0</td>\n",
       "      <td>0.0</td>\n",
       "      <td>0.0</td>\n",
       "      <td>0.0</td>\n",
       "      <td>0.0</td>\n",
       "      <td>0.0</td>\n",
       "      <td>0.0</td>\n",
       "      <td>0.0</td>\n",
       "      <td>0.0</td>\n",
       "    </tr>\n",
       "    <tr>\n",
       "      <th>1</th>\n",
       "      <td>0.428571</td>\n",
       "      <td>0.485185</td>\n",
       "      <td>0.0</td>\n",
       "      <td>0.0</td>\n",
       "      <td>0.0</td>\n",
       "      <td>0.0</td>\n",
       "      <td>0.0</td>\n",
       "      <td>0.0</td>\n",
       "      <td>0.0</td>\n",
       "      <td>0.0</td>\n",
       "      <td>...</td>\n",
       "      <td>-1.0</td>\n",
       "      <td>-1.0</td>\n",
       "      <td>1.0</td>\n",
       "      <td>-1.0</td>\n",
       "      <td>0.0</td>\n",
       "      <td>0.0</td>\n",
       "      <td>0.0</td>\n",
       "      <td>0.0</td>\n",
       "      <td>0.0</td>\n",
       "      <td>0.0</td>\n",
       "    </tr>\n",
       "    <tr>\n",
       "      <th>2</th>\n",
       "      <td>0.714286</td>\n",
       "      <td>0.248148</td>\n",
       "      <td>0.0</td>\n",
       "      <td>0.0</td>\n",
       "      <td>0.0</td>\n",
       "      <td>0.0</td>\n",
       "      <td>0.0</td>\n",
       "      <td>0.0</td>\n",
       "      <td>0.0</td>\n",
       "      <td>0.0</td>\n",
       "      <td>...</td>\n",
       "      <td>-1.0</td>\n",
       "      <td>-1.0</td>\n",
       "      <td>1.0</td>\n",
       "      <td>0.0</td>\n",
       "      <td>0.0</td>\n",
       "      <td>0.0</td>\n",
       "      <td>0.0</td>\n",
       "      <td>0.0</td>\n",
       "      <td>0.0</td>\n",
       "      <td>0.0</td>\n",
       "    </tr>\n",
       "    <tr>\n",
       "      <th>3</th>\n",
       "      <td>0.428571</td>\n",
       "      <td>0.485185</td>\n",
       "      <td>0.0</td>\n",
       "      <td>0.0</td>\n",
       "      <td>0.0</td>\n",
       "      <td>0.0</td>\n",
       "      <td>0.0</td>\n",
       "      <td>0.0</td>\n",
       "      <td>0.0</td>\n",
       "      <td>0.0</td>\n",
       "      <td>...</td>\n",
       "      <td>-1.0</td>\n",
       "      <td>0.0</td>\n",
       "      <td>0.0</td>\n",
       "      <td>-1.0</td>\n",
       "      <td>0.0</td>\n",
       "      <td>0.0</td>\n",
       "      <td>0.0</td>\n",
       "      <td>0.0</td>\n",
       "      <td>0.0</td>\n",
       "      <td>0.0</td>\n",
       "    </tr>\n",
       "    <tr>\n",
       "      <th>4</th>\n",
       "      <td>0.428571</td>\n",
       "      <td>0.485185</td>\n",
       "      <td>0.0</td>\n",
       "      <td>0.0</td>\n",
       "      <td>0.0</td>\n",
       "      <td>0.0</td>\n",
       "      <td>0.0</td>\n",
       "      <td>0.0</td>\n",
       "      <td>0.0</td>\n",
       "      <td>0.0</td>\n",
       "      <td>...</td>\n",
       "      <td>-1.0</td>\n",
       "      <td>0.0</td>\n",
       "      <td>0.0</td>\n",
       "      <td>0.0</td>\n",
       "      <td>0.0</td>\n",
       "      <td>0.0</td>\n",
       "      <td>0.0</td>\n",
       "      <td>0.0</td>\n",
       "      <td>0.0</td>\n",
       "      <td>0.0</td>\n",
       "    </tr>\n",
       "  </tbody>\n",
       "</table>\n",
       "<p>5 rows × 21 columns</p>\n",
       "</div>"
      ],
      "text/plain": [
       "   Quantity  UnitPrice  Description_0  Description_1  Description_2  \\\n",
       "0  0.428571   0.174074            0.0            0.0            0.0   \n",
       "1  0.428571   0.485185            0.0            0.0            0.0   \n",
       "2  0.714286   0.248148            0.0            0.0            0.0   \n",
       "3  0.428571   0.485185            0.0            0.0            0.0   \n",
       "4  0.428571   0.485185            0.0            0.0            0.0   \n",
       "\n",
       "   Description_3  Description_4  Description_5  Description_6  Description_7  \\\n",
       "0            0.0            0.0            0.0            0.0            0.0   \n",
       "1            0.0            0.0            0.0            0.0            0.0   \n",
       "2            0.0            0.0            0.0            0.0            0.0   \n",
       "3            0.0            0.0            0.0            0.0            0.0   \n",
       "4            0.0            0.0            0.0            0.0            0.0   \n",
       "\n",
       "   ...  Description_9  Description_10  Description_11  Description_12  \\\n",
       "0  ...           -1.0            -1.0             0.0             0.0   \n",
       "1  ...           -1.0            -1.0             1.0            -1.0   \n",
       "2  ...           -1.0            -1.0             1.0             0.0   \n",
       "3  ...           -1.0             0.0             0.0            -1.0   \n",
       "4  ...           -1.0             0.0             0.0             0.0   \n",
       "\n",
       "   Country_0  Country_1  Country_2  Country_3  Country_4  Country_5  \n",
       "0        0.0        0.0        0.0        0.0        0.0        0.0  \n",
       "1        0.0        0.0        0.0        0.0        0.0        0.0  \n",
       "2        0.0        0.0        0.0        0.0        0.0        0.0  \n",
       "3        0.0        0.0        0.0        0.0        0.0        0.0  \n",
       "4        0.0        0.0        0.0        0.0        0.0        0.0  \n",
       "\n",
       "[5 rows x 21 columns]"
      ]
     },
     "execution_count": 76,
     "metadata": {},
     "output_type": "execute_result"
    }
   ],
   "source": [
    "df_model.head()"
   ]
  },
  {
   "cell_type": "markdown",
   "id": "5da49b23",
   "metadata": {
    "papermill": {
     "duration": 0.030079,
     "end_time": "2022-11-16T19:38:03.816257",
     "exception": false,
     "start_time": "2022-11-16T19:38:03.786178",
     "status": "completed"
    },
    "tags": []
   },
   "source": [
    "# Model"
   ]
  },
  {
   "cell_type": "markdown",
   "id": "2f1dabc8",
   "metadata": {
    "papermill": {
     "duration": 0.029524,
     "end_time": "2022-11-16T19:38:03.875219",
     "exception": false,
     "start_time": "2022-11-16T19:38:03.845695",
     "status": "completed"
    },
    "tags": []
   },
   "source": [
    "## Silhouette Analysis"
   ]
  },
  {
   "cell_type": "code",
   "execution_count": 77,
   "id": "4838ac8e",
   "metadata": {
    "execution": {
     "iopub.execute_input": "2022-11-16T19:38:03.935861Z",
     "iopub.status.busy": "2022-11-16T19:38:03.935500Z",
     "iopub.status.idle": "2022-11-17T00:37:26.209800Z",
     "shell.execute_reply": "2022-11-17T00:37:26.208854Z"
    },
    "papermill": {
     "duration": 17962.335432,
     "end_time": "2022-11-17T00:37:26.240145",
     "exception": false,
     "start_time": "2022-11-16T19:38:03.904713",
     "status": "completed"
    },
    "tags": []
   },
   "outputs": [
    {
     "name": "stdout",
     "output_type": "stream",
     "text": [
      "For n_clusters=2, the silhouette score is 0.16257149716877228\n",
      "For n_clusters=3, the silhouette score is 0.15534806898003495\n",
      "For n_clusters=4, the silhouette score is 0.0974544662776157\n",
      "For n_clusters=5, the silhouette score is 0.0916874575954364\n",
      "For n_clusters=6, the silhouette score is 0.08629426874942994\n",
      "For n_clusters=7, the silhouette score is 0.07542899012207921\n",
      "For n_clusters=8, the silhouette score is 0.06922230633794905\n"
     ]
    }
   ],
   "source": [
    "# silhouette analysis\n",
    "range_n_clusters = [2, 3, 4, 5, 6, 7, 8]\n",
    "\n",
    "for num_clusters in range_n_clusters:\n",
    "    \n",
    "    # intialise kmeans\n",
    "    kmeans = KMeans(n_clusters=num_clusters, max_iter=50)\n",
    "    kmeans.fit(df_model)\n",
    "    \n",
    "    cluster_labels = kmeans.labels_\n",
    "    \n",
    "    # silhouette score\n",
    "    silhouette_avg = silhouette_score(df_model, cluster_labels)\n",
    "    print(\"For n_clusters={0}, the silhouette score is {1}\".format(num_clusters, silhouette_avg))"
   ]
  },
  {
   "cell_type": "code",
   "execution_count": 78,
   "id": "edc0ed44",
   "metadata": {
    "execution": {
     "iopub.execute_input": "2022-11-17T00:37:26.298341Z",
     "iopub.status.busy": "2022-11-17T00:37:26.297463Z",
     "iopub.status.idle": "2022-11-17T00:37:29.857246Z",
     "shell.execute_reply": "2022-11-17T00:37:29.856318Z"
    },
    "papermill": {
     "duration": 3.590564,
     "end_time": "2022-11-17T00:37:29.858954",
     "exception": false,
     "start_time": "2022-11-17T00:37:26.268390",
     "status": "completed"
    },
    "tags": []
   },
   "outputs": [
    {
     "data": {
      "text/plain": [
       "KMeans(max_iter=50, n_clusters=2)"
      ]
     },
     "execution_count": 78,
     "metadata": {},
     "output_type": "execute_result"
    }
   ],
   "source": [
    "# final model with k=3\n",
    "kmeans = KMeans(n_clusters=2, max_iter=50)\n",
    "kmeans.fit(df_model)"
   ]
  },
  {
   "cell_type": "code",
   "execution_count": 79,
   "id": "bee8c457",
   "metadata": {
    "execution": {
     "iopub.execute_input": "2022-11-17T00:37:29.918242Z",
     "iopub.status.busy": "2022-11-17T00:37:29.917711Z",
     "iopub.status.idle": "2022-11-17T00:37:29.943583Z",
     "shell.execute_reply": "2022-11-17T00:37:29.942639Z"
    },
    "papermill": {
     "duration": 0.057513,
     "end_time": "2022-11-17T00:37:29.945355",
     "exception": false,
     "start_time": "2022-11-17T00:37:29.887842",
     "status": "completed"
    },
    "tags": []
   },
   "outputs": [
    {
     "data": {
      "text/html": [
       "<div>\n",
       "<style scoped>\n",
       "    .dataframe tbody tr th:only-of-type {\n",
       "        vertical-align: middle;\n",
       "    }\n",
       "\n",
       "    .dataframe tbody tr th {\n",
       "        vertical-align: top;\n",
       "    }\n",
       "\n",
       "    .dataframe thead th {\n",
       "        text-align: right;\n",
       "    }\n",
       "</style>\n",
       "<table border=\"1\" class=\"dataframe\">\n",
       "  <thead>\n",
       "    <tr style=\"text-align: right;\">\n",
       "      <th></th>\n",
       "      <th>Quantity</th>\n",
       "      <th>UnitPrice</th>\n",
       "      <th>Description_0</th>\n",
       "      <th>Description_1</th>\n",
       "      <th>Description_2</th>\n",
       "      <th>Description_3</th>\n",
       "      <th>Description_4</th>\n",
       "      <th>Description_5</th>\n",
       "      <th>Description_6</th>\n",
       "      <th>Description_7</th>\n",
       "      <th>...</th>\n",
       "      <th>Description_10</th>\n",
       "      <th>Description_11</th>\n",
       "      <th>Description_12</th>\n",
       "      <th>Country_0</th>\n",
       "      <th>Country_1</th>\n",
       "      <th>Country_2</th>\n",
       "      <th>Country_3</th>\n",
       "      <th>Country_4</th>\n",
       "      <th>Country_5</th>\n",
       "      <th>class</th>\n",
       "    </tr>\n",
       "  </thead>\n",
       "  <tbody>\n",
       "    <tr>\n",
       "      <th>0</th>\n",
       "      <td>0.428571</td>\n",
       "      <td>0.174074</td>\n",
       "      <td>0.0</td>\n",
       "      <td>0.0</td>\n",
       "      <td>0.0</td>\n",
       "      <td>0.0</td>\n",
       "      <td>0.0</td>\n",
       "      <td>0.0</td>\n",
       "      <td>0.0</td>\n",
       "      <td>0.0</td>\n",
       "      <td>...</td>\n",
       "      <td>-1.0</td>\n",
       "      <td>0.0</td>\n",
       "      <td>0.0</td>\n",
       "      <td>0.0</td>\n",
       "      <td>0.0</td>\n",
       "      <td>0.0</td>\n",
       "      <td>0.0</td>\n",
       "      <td>0.0</td>\n",
       "      <td>0.0</td>\n",
       "      <td>0</td>\n",
       "    </tr>\n",
       "    <tr>\n",
       "      <th>1</th>\n",
       "      <td>0.428571</td>\n",
       "      <td>0.485185</td>\n",
       "      <td>0.0</td>\n",
       "      <td>0.0</td>\n",
       "      <td>0.0</td>\n",
       "      <td>0.0</td>\n",
       "      <td>0.0</td>\n",
       "      <td>0.0</td>\n",
       "      <td>0.0</td>\n",
       "      <td>0.0</td>\n",
       "      <td>...</td>\n",
       "      <td>-1.0</td>\n",
       "      <td>1.0</td>\n",
       "      <td>-1.0</td>\n",
       "      <td>0.0</td>\n",
       "      <td>0.0</td>\n",
       "      <td>0.0</td>\n",
       "      <td>0.0</td>\n",
       "      <td>0.0</td>\n",
       "      <td>0.0</td>\n",
       "      <td>0</td>\n",
       "    </tr>\n",
       "    <tr>\n",
       "      <th>2</th>\n",
       "      <td>0.714286</td>\n",
       "      <td>0.248148</td>\n",
       "      <td>0.0</td>\n",
       "      <td>0.0</td>\n",
       "      <td>0.0</td>\n",
       "      <td>0.0</td>\n",
       "      <td>0.0</td>\n",
       "      <td>0.0</td>\n",
       "      <td>0.0</td>\n",
       "      <td>0.0</td>\n",
       "      <td>...</td>\n",
       "      <td>-1.0</td>\n",
       "      <td>1.0</td>\n",
       "      <td>0.0</td>\n",
       "      <td>0.0</td>\n",
       "      <td>0.0</td>\n",
       "      <td>0.0</td>\n",
       "      <td>0.0</td>\n",
       "      <td>0.0</td>\n",
       "      <td>0.0</td>\n",
       "      <td>0</td>\n",
       "    </tr>\n",
       "    <tr>\n",
       "      <th>3</th>\n",
       "      <td>0.428571</td>\n",
       "      <td>0.485185</td>\n",
       "      <td>0.0</td>\n",
       "      <td>0.0</td>\n",
       "      <td>0.0</td>\n",
       "      <td>0.0</td>\n",
       "      <td>0.0</td>\n",
       "      <td>0.0</td>\n",
       "      <td>0.0</td>\n",
       "      <td>0.0</td>\n",
       "      <td>...</td>\n",
       "      <td>0.0</td>\n",
       "      <td>0.0</td>\n",
       "      <td>-1.0</td>\n",
       "      <td>0.0</td>\n",
       "      <td>0.0</td>\n",
       "      <td>0.0</td>\n",
       "      <td>0.0</td>\n",
       "      <td>0.0</td>\n",
       "      <td>0.0</td>\n",
       "      <td>0</td>\n",
       "    </tr>\n",
       "    <tr>\n",
       "      <th>4</th>\n",
       "      <td>0.428571</td>\n",
       "      <td>0.485185</td>\n",
       "      <td>0.0</td>\n",
       "      <td>0.0</td>\n",
       "      <td>0.0</td>\n",
       "      <td>0.0</td>\n",
       "      <td>0.0</td>\n",
       "      <td>0.0</td>\n",
       "      <td>0.0</td>\n",
       "      <td>0.0</td>\n",
       "      <td>...</td>\n",
       "      <td>0.0</td>\n",
       "      <td>0.0</td>\n",
       "      <td>0.0</td>\n",
       "      <td>0.0</td>\n",
       "      <td>0.0</td>\n",
       "      <td>0.0</td>\n",
       "      <td>0.0</td>\n",
       "      <td>0.0</td>\n",
       "      <td>0.0</td>\n",
       "      <td>0</td>\n",
       "    </tr>\n",
       "  </tbody>\n",
       "</table>\n",
       "<p>5 rows × 22 columns</p>\n",
       "</div>"
      ],
      "text/plain": [
       "   Quantity  UnitPrice  Description_0  Description_1  Description_2  \\\n",
       "0  0.428571   0.174074            0.0            0.0            0.0   \n",
       "1  0.428571   0.485185            0.0            0.0            0.0   \n",
       "2  0.714286   0.248148            0.0            0.0            0.0   \n",
       "3  0.428571   0.485185            0.0            0.0            0.0   \n",
       "4  0.428571   0.485185            0.0            0.0            0.0   \n",
       "\n",
       "   Description_3  Description_4  Description_5  Description_6  Description_7  \\\n",
       "0            0.0            0.0            0.0            0.0            0.0   \n",
       "1            0.0            0.0            0.0            0.0            0.0   \n",
       "2            0.0            0.0            0.0            0.0            0.0   \n",
       "3            0.0            0.0            0.0            0.0            0.0   \n",
       "4            0.0            0.0            0.0            0.0            0.0   \n",
       "\n",
       "   ...  Description_10  Description_11  Description_12  Country_0  Country_1  \\\n",
       "0  ...            -1.0             0.0             0.0        0.0        0.0   \n",
       "1  ...            -1.0             1.0            -1.0        0.0        0.0   \n",
       "2  ...            -1.0             1.0             0.0        0.0        0.0   \n",
       "3  ...             0.0             0.0            -1.0        0.0        0.0   \n",
       "4  ...             0.0             0.0             0.0        0.0        0.0   \n",
       "\n",
       "   Country_2  Country_3  Country_4  Country_5  class  \n",
       "0        0.0        0.0        0.0        0.0      0  \n",
       "1        0.0        0.0        0.0        0.0      0  \n",
       "2        0.0        0.0        0.0        0.0      0  \n",
       "3        0.0        0.0        0.0        0.0      0  \n",
       "4        0.0        0.0        0.0        0.0      0  \n",
       "\n",
       "[5 rows x 22 columns]"
      ]
     },
     "execution_count": 79,
     "metadata": {},
     "output_type": "execute_result"
    }
   ],
   "source": [
    "# assign the label\n",
    "df_model['class'] = kmeans.labels_\n",
    "df_model.head()"
   ]
  },
  {
   "cell_type": "code",
   "execution_count": 80,
   "id": "f584c7b1",
   "metadata": {
    "execution": {
     "iopub.execute_input": "2022-11-17T00:37:30.005177Z",
     "iopub.status.busy": "2022-11-17T00:37:30.004845Z",
     "iopub.status.idle": "2022-11-17T00:37:30.307449Z",
     "shell.execute_reply": "2022-11-17T00:37:30.306545Z"
    },
    "papermill": {
     "duration": 0.334918,
     "end_time": "2022-11-17T00:37:30.309357",
     "exception": false,
     "start_time": "2022-11-17T00:37:29.974439",
     "status": "completed"
    },
    "tags": []
   },
   "outputs": [
    {
     "data": {
      "text/plain": [
       "<AxesSubplot:xlabel='class', ylabel='Quantity'>"
      ]
     },
     "execution_count": 80,
     "metadata": {},
     "output_type": "execute_result"
    },
    {
     "data": {
      "image/png": "[encoded data removed]",
      "text/plain": [
       "<Figure size 576x396 with 1 Axes>"
      ]
     },
     "metadata": {},
     "output_type": "display_data"
    }
   ],
   "source": [
    "# plots\n",
    "sns.boxplot(x='class', y='Quantity', data=df_model)"
   ]
  },
  {
   "cell_type": "code",
   "execution_count": 81,
   "id": "8bb98cf5",
   "metadata": {
    "execution": {
     "iopub.execute_input": "2022-11-17T00:37:30.369815Z",
     "iopub.status.busy": "2022-11-17T00:37:30.369439Z",
     "iopub.status.idle": "2022-11-17T00:37:30.577335Z",
     "shell.execute_reply": "2022-11-17T00:37:30.576554Z"
    },
    "papermill": {
     "duration": 0.240152,
     "end_time": "2022-11-17T00:37:30.579113",
     "exception": false,
     "start_time": "2022-11-17T00:37:30.338961",
     "status": "completed"
    },
    "tags": []
   },
   "outputs": [
    {
     "data": {
      "text/plain": [
       "<AxesSubplot:xlabel='class', ylabel='UnitPrice'>"
      ]
     },
     "execution_count": 81,
     "metadata": {},
     "output_type": "execute_result"
    },
    {
     "data": {
      "image/png": "[encoded data removed]",
      "text/plain": [
       "<Figure size 576x396 with 1 Axes>"
      ]
     },
     "metadata": {},
     "output_type": "display_data"
    }
   ],
   "source": [
    "# plots\n",
    "sns.boxplot(x='class', y='UnitPrice', data=df_model)"
   ]
  },
  {
   "cell_type": "code",
   "execution_count": null,
   "id": "26233995",
   "metadata": {
    "papermill": {
     "duration": 0.029857,
     "end_time": "2022-11-17T00:37:30.639234",
     "exception": false,
     "start_time": "2022-11-17T00:37:30.609377",
     "status": "completed"
    },
    "tags": []
   },
   "outputs": [],
   "source": []
  }
 ],
 "metadata": {
  "kernelspec": {
   "display_name": "Python 3",
   "language": "python",
   "name": "python3"
  },
  "language_info": {
   "codemirror_mode": {
    "name": "ipython",
    "version": 3
   },
   "file_extension": ".py",
   "mimetype": "text/x-python",
   "name": "python",
   "nbconvert_exporter": "python",
   "pygments_lexer": "ipython3",
   "version": "3.7.12"
  },
  "papermill": {
   "default_parameters": {},
   "duration": 18021.634838,
   "end_time": "2022-11-17T00:37:31.918815",
   "environment_variables": {},
   "exception": null,
   "input_path": "__notebook__.ipynb",
   "output_path": "__notebook__.ipynb",
   "parameters": {},
   "start_time": "2022-11-16T19:37:10.283977",
   "version": "2.3.4"
  }
 },
 "nbformat": 4,
 "nbformat_minor": 5
}
